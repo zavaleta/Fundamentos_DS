{
 "cells": [
  {
   "cell_type": "markdown",
   "metadata": {},
   "source": [
    "![PPGI_UFRJ](imagens/ppgi-ufrj.png)\n",
    "# Fundamentos de Ciência de Dados"
   ]
  },
  {
   "cell_type": "markdown",
   "metadata": {},
   "source": [
    "---\n",
    "[![DOI](https://zenodo.org/badge/335308405.svg)](https://zenodo.org/badge/latestdoi/335308405)"
   ]
  },
  {
   "cell_type": "markdown",
   "metadata": {},
   "source": [
    "---\n",
    "# PPGI/UFRJ 2020.3, 2022.2, 2024.2\n",
    "## Prof Sergio Serra e Jorge Zavaleta"
   ]
  },
  {
   "cell_type": "markdown",
   "metadata": {},
   "source": [
    "---\n",
    "# Módulo 3 - Gráficos Simples"
   ]
  },
  {
   "cell_type": "markdown",
   "metadata": {},
   "source": [
    "## Matplolib\n",
    "> **Matplotlib** é uma biblioteca Python especializada em de gráficos bidimensionais (incluindo gráficos 3D), muito conhecida nos círculos científicos e de engenharia. Maiores detalhes em [Matplotlib](https://matplotlib.org/)\n",
    "\n",
    "> ### Recursos de Matplotlib:\n",
    "\n",
    "> * Extrema simplicidade em seu uso\n",
    "> * Desenvolvimento gradual e visualização interativa de dados\n",
    "> * Expressões e texto em LaTeX\n",
    "> * Maior controle sobre os elementos gráficos\n",
    "> * Exporte para vários formatos, como PNG, PDF, SVG e EPS"
   ]
  },
  {
   "cell_type": "markdown",
   "metadata": {},
   "source": [
    "### Importando as bibliotecas"
   ]
  },
  {
   "cell_type": "code",
   "execution_count": 1,
   "metadata": {},
   "outputs": [],
   "source": [
    "# importando as bibliotecas\n",
    "import matplotlib as mpl                       # usada ocasionalmente 3D\n",
    "import matplotlib.pyplot as plt                # importar a biblioteca matplotlib\n",
    "import numpy as np                             # importar numpy\n",
    "import pandas as pd                            # importat pandas\n",
    "#                                              # estilo da biblioteca\n",
    "%matplotlib inline                            \n",
    "#%config InlineBackend.figure_format='svg'\n",
    "#plt.style.use('classic')                       # estilo da biblioteca"
   ]
  },
  {
   "cell_type": "markdown",
   "metadata": {},
   "source": [
    "## Gráficar diferentes tipos de curvas"
   ]
  },
  {
   "cell_type": "code",
   "execution_count": null,
   "metadata": {
    "scrolled": true
   },
   "outputs": [],
   "source": [
    "# exemplo - grafico de curvas\n",
    "x = np.linspace(-6, 3, 100)\n",
    "y1 = x**4 + 5*x**3 + 5*x\n",
    "y2 = 4*x**3 + 15*x**2 + 5\n",
    "y3 = 12*x**2 + 30*x\n",
    "#\n",
    "fig, ax = plt.subplots()\n",
    "ax.plot(x, y1, color=\"blue\", label=\"y(x)\")\n",
    "ax.plot(x, y2, color=\"red\", label=\"y'(x)\")\n",
    "ax.plot(x, y3, color=\"green\", label=\"y”(x)\")\n",
    "ax.set_xlabel(\"x\")\n",
    "ax.set_ylabel(\"y\")\n",
    "ax.set_title('Polinomios')\n",
    "ax.legend();"
   ]
  },
  {
   "cell_type": "code",
   "execution_count": null,
   "metadata": {},
   "outputs": [],
   "source": [
    "# ipython notebook\n",
    "x1 = np.linspace(-1,4,50)\n",
    "y1 = 3*(np.power(x1,4)) - 16*(np.power(x1,3))+18*(np.power(x1,2))\n",
    "# para gravar a figura\n",
    "fig = plt.figure(figsize=(7,4))\n",
    "plt.plot(x1,y1,'-')\n",
    "plt.plot(x1,y1+6,'r--')\n",
    "plt.xlabel('x')\n",
    "plt.ylabel('y'); ## ;->show()\n",
    "#plt.style.use('ggplot')              # mudar de estilo de gráfico\n",
    "#fig.savefig('imagens/figura1.png')"
   ]
  },
  {
   "cell_type": "code",
   "execution_count": null,
   "metadata": {},
   "outputs": [],
   "source": [
    "# verificando se a imagem foi gerada\n",
    "from IPython.display import Image\n",
    "Image('imagens/figura1.png')"
   ]
  },
  {
   "cell_type": "code",
   "execution_count": null,
   "metadata": {},
   "outputs": [],
   "source": [
    "#fig = plt.figure(figsize=(8, 2.5), facecolor=\"#f1f1f1\")\n",
    "fig = plt.figure(figsize=(8, 2.5))\n",
    "# axes coordinates as fractions of the canvas width and height\n",
    "left, bottom, width, height = 0.1, 0.1, 0.8, 0.8\n",
    "# valores de x, y\n",
    "x = np.linspace(-2, 2, 1000)\n",
    "y1 = np.cos(40 * x)\n",
    "y2 = np.exp(-x**2)\n",
    "# figure\n",
    "ax = fig.add_axes((left, bottom, width, height),facecolor=\"#fff0ed\")\n",
    "ax.plot(x, y1 * y2)\n",
    "ax.plot(x, y2, 'g')\n",
    "ax.plot(x, -y2, 'g')\n",
    "ax.set_xlabel(\"x\")\n",
    "ax.set_ylabel(\"y\")\n",
    "# save figure\n",
    "#fig.savefig(\"imagens/figura2.png\", dpi=100, facecolor=\"#e1e1e1\")"
   ]
  },
  {
   "cell_type": "code",
   "execution_count": null,
   "metadata": {},
   "outputs": [],
   "source": [
    "# verificando se a imagem foi gerada\n",
    "from IPython.display import Image\n",
    "Image('imagens/figura2.png')"
   ]
  },
  {
   "cell_type": "markdown",
   "metadata": {},
   "source": [
    "### Tipos de gráficos suportados por Matplotlib"
   ]
  },
  {
   "cell_type": "code",
   "execution_count": null,
   "metadata": {},
   "outputs": [],
   "source": [
    "# tipos de formatos de graficos suportados\n",
    "print('Tipos de gráficos suportados pelo MatplotLib:')\n",
    "fig.canvas.get_supported_filetypes()"
   ]
  },
  {
   "cell_type": "markdown",
   "metadata": {},
   "source": [
    "### Usando Varias Interfaces - Subplots"
   ]
  },
  {
   "cell_type": "code",
   "execution_count": null,
   "metadata": {},
   "outputs": [],
   "source": [
    "# exemplo de subplots\n",
    "plt.figure() # criar a figura\n",
    "# criando a painel 1\n",
    "plt.subplot(3, 1, 1) # (linhas, colunas, numero do panel)\n",
    "plt.plot(x, y1,'r')\n",
    "#plt.ylabel('y1');\n",
    "# criando o painel 2\n",
    "plt.subplot(3, 1, 2)\n",
    "plt.plot(x, y1+6,'b');\n",
    "# criando o painel 3\n",
    "plt.subplot(3, 1, 3)\n",
    "plt.plot(x, y1-6,'g');"
   ]
  },
  {
   "cell_type": "markdown",
   "metadata": {},
   "source": [
    "### Interfaces Orientadas a Objetos"
   ]
  },
  {
   "cell_type": "code",
   "execution_count": null,
   "metadata": {},
   "outputs": [],
   "source": [
    "# intercaes orientadas como objetos\n",
    "# grid de subplots\n",
    "fig, ax = plt.subplots(2)\n",
    "fig.suptitle('Subplot Horizontal')\n",
    "ax[0].plot(x, y1,'r')\n",
    "ax[1].plot(x, y1-6);"
   ]
  },
  {
   "cell_type": "code",
   "execution_count": null,
   "metadata": {},
   "outputs": [],
   "source": [
    "# subplot vertical\n",
    "x1 = np.linspace(-2, 2, 100)\n",
    "y1 = x1**3+ x1*2 + 4\n",
    "fig, (ax1, ax2) = plt.subplots(1, 2)\n",
    "fig.suptitle('Subplot Vertical')\n",
    "ax1.plot(x1, y1,'.r')\n",
    "ax2.plot(x1, y1-6);\n",
    "#fig.savefig('imagens/fx.png')"
   ]
  },
  {
   "cell_type": "code",
   "execution_count": null,
   "metadata": {},
   "outputs": [],
   "source": [
    "# grid de subplots\n",
    "fig,ax =  plt.subplots(2,2,figsize=(8,8),constrained_layout=True)\n",
    "ax[0][0].plot(x1,y1,'r')\n",
    "ax[0][0].set_title('$f(x)=3x^4-16x^3+18x^2$')\n",
    "ax[0][0].set_ylabel('y')\n",
    "ax[0][0].set_xlabel('x')\n",
    "#\n",
    "ax[0][1].plot(x1,y1-6,'g')\n",
    "ax[0][1].set_title('$f(x)=3x^4-16x^3+18x^2-6$')\n",
    "#\n",
    "ax[1][0].plot(x1,y1+6,'orange')\n",
    "ax[1][0].set_title('$f(x)=3x^4-16x^3+18x^2+6$')\n",
    "#\n",
    "ax[1][1].plot(x1,y1+10,'blue')\n",
    "ax[1][1].set_title('$f(x)=3x^4-16x^3+18x^2+10$')\n",
    "ax[1][1].set_xlabel('x')\n",
    "#\n",
    "plt.show()\n",
    "#fig.savefig('imagens/subpots.png')"
   ]
  },
  {
   "cell_type": "markdown",
   "metadata": {},
   "source": [
    "### Graficar linhas simples"
   ]
  },
  {
   "cell_type": "code",
   "execution_count": null,
   "metadata": {},
   "outputs": [],
   "source": [
    "# grid de linhas\n",
    "plt.style.use('ggplot')\n",
    "fig = plt.figure()\n",
    "fig.suptitle('Style: ggplot')\n",
    "ax = plt.axes()\n",
    "plt.plot(x1,y1,'-');"
   ]
  },
  {
   "cell_type": "markdown",
   "metadata": {},
   "source": [
    "### Cores e Estilos de Linhas"
   ]
  },
  {
   "cell_type": "code",
   "execution_count": null,
   "metadata": {},
   "outputs": [],
   "source": [
    "# graficos de diversas cores\n",
    "plt.plot(x1, y1, color='blue') # specify color by name\n",
    "plt.plot(x1, y1-5, color='g') # short color code (rgbcmyk)\n",
    "plt.plot(x1, y1-10, color='0.75') # Grayscale between 0 and 1\n",
    "plt.plot(x1, y1-15, color='#FFDD44') # Hex code (RRGGBB from 00 to FF)\n",
    "plt.plot(x1, y1+5, color=(1.0,0.2,0.3)) # RGB tuple, values 0 and 1\n",
    "plt.plot(x1, y1+10, color='chartreuse');"
   ]
  },
  {
   "cell_type": "code",
   "execution_count": null,
   "metadata": {},
   "outputs": [],
   "source": [
    "# Graficos e estilos de linhas\n",
    "plt.style.use('default')                #reset el estilo de gráfico\n",
    "plt.plot(x1, x1 + 0, linestyle='solid')\n",
    "plt.plot(x1, x1 + 2, linestyle='dashed')\n",
    "plt.plot(x1, x1 + 4, linestyle='dashdot')\n",
    "plt.plot(x1, x1 + 6, linestyle='dotted');\n",
    "# usando codigos\n",
    "plt.plot(x1, x1 + 8, linestyle='-') # solid\n",
    "plt.plot(x1, x1 + 10, linestyle='--') # dashed\n",
    "plt.plot(x1, x1 + 12, linestyle='-.') # dashdot\n",
    "plt.plot(x1, x1 + 14, linestyle=':'); # dotted"
   ]
  },
  {
   "cell_type": "markdown",
   "metadata": {},
   "source": [
    "### Ajustando os limites do eixos"
   ]
  },
  {
   "cell_type": "code",
   "execution_count": null,
   "metadata": {},
   "outputs": [],
   "source": [
    "# Ajustando limites de eixos\n",
    "plt.plot(x1, y1)\n",
    "plt.xlim(-1.5, 4.5)\n",
    "plt.ylim(-35, 45);"
   ]
  },
  {
   "cell_type": "code",
   "execution_count": null,
   "metadata": {},
   "outputs": [],
   "source": [
    "# Ajustando eixos\n",
    "plt.plot(x1, y1,'r')\n",
    "# [xmin,xmax, ymin,ymax]\n",
    "plt.axis([-1, 5, -30, 40]);"
   ]
  },
  {
   "cell_type": "markdown",
   "metadata": {},
   "source": [
    "### Melhorando os gráficos - subplot"
   ]
  },
  {
   "cell_type": "code",
   "execution_count": null,
   "metadata": {},
   "outputs": [],
   "source": [
    "# exemplo de subplots - problema\n",
    "# gerando os valores\n",
    "x = np.linspace(-6, 3, 100)\n",
    "y1 = x**4 + 5*x**3 + 5*x\n",
    "# plot\n",
    "fig = plt.figure() # criar a figura\n",
    "# criando a painel 1\n",
    "plt.subplot(3, 1, 1) # (linha, coluna, numero do panel)\n",
    "plt.plot(x, y1,'r')\n",
    "plt.xlabel('eixo x')\n",
    "plt.ylabel('y')\n",
    "plt.title('Três subplots')\n",
    "# criando o painel 2\n",
    "plt.subplot(3, 1, 2)\n",
    "plt.plot(x, y1+6,'b')\n",
    "plt.xlabel('x2')\n",
    "# criando o painel 3\n",
    "plt.subplot(3, 1, 3)\n",
    "plt.plot(x, y1-6,'g')\n",
    "plt.xlabel('x3')\n",
    "#\n",
    "# melhorar o plot\n",
    "#fig.tight_layout()   # melhorar\n",
    "plt.show()"
   ]
  },
  {
   "cell_type": "code",
   "execution_count": null,
   "metadata": {},
   "outputs": [],
   "source": [
    "# grid de subplots\n",
    "# valores\n",
    "x1 = np.linspace(-1,4,50)\n",
    "y1 = 3*(np.power(x1,4)) - 16*(np.power(x1,3))+18*(np.power(x1,2))\n",
    "#\n",
    "fig,ax =  plt.subplots(2,2,figsize=(8,8),constrained_layout=False)  # True\n",
    "ax[0][0].plot(x1,y1,'r')\n",
    "ax[0][0].set_title('$f(x)=3x^4-16x^3+18x^2$')\n",
    "ax[0][0].set_ylabel('y')\n",
    "ax[0][0].set_xlabel('Polinomio em x')\n",
    "#\n",
    "ax[0][1].plot(x1,y1-6,'g')\n",
    "ax[0][1].set_title('$f(x)=3x^4-16x^3+18x^2-6$')\n",
    "#\n",
    "ax[1][0].plot(x1,y1+6,'orange')\n",
    "ax[1][0].set_title('$f(x)=3x^4-16x^3+18x^2+6$')\n",
    "#\n",
    "ax[1][1].plot(x1,y1+10,'blue')\n",
    "ax[1][1].set_title('$f(x)=3x^4-16x^3+18x^2+10$')\n",
    "#\n",
    "plt.suptitle('$f(x)=3x^4-16x^3+18x^2$', verticalalignment='bottom', fontsize=14)\n",
    "# melhorar\n",
    "#plt.subplots_adjust(left=0.125,bottom=0.1, right=0.9, top=0.9, wspace=0.2, hspace=0.35) #\n",
    "plt.show()\n",
    "#fig.savefig('imagens/subpots.png')"
   ]
  },
  {
   "cell_type": "markdown",
   "metadata": {},
   "source": [
    "### Gráficos 3D"
   ]
  },
  {
   "cell_type": "code",
   "execution_count": null,
   "metadata": {},
   "outputs": [],
   "source": [
    "# gerando os eixos 3D\n",
    "#from mpl_toolkits import mplot3d\n",
    "#\n",
    "fig = plt.figure(figsize=(10,7))\n",
    "ax = plt.axes(projection=\"3d\")\n",
    "plt.show()"
   ]
  },
  {
   "cell_type": "markdown",
   "metadata": {},
   "source": [
    "### Curva 3D"
   ]
  },
  {
   "cell_type": "code",
   "execution_count": 34,
   "metadata": {},
   "outputs": [],
   "source": [
    "# matplotlib-exemplo-30\n",
    "# define uma função\n",
    "def f(x, y):\n",
    "    return np.sin(x) ** 10 + np.cos(10 + y * x) * np.cos(x)"
   ]
  },
  {
   "cell_type": "code",
   "execution_count": null,
   "metadata": {},
   "outputs": [],
   "source": [
    "# curva 3D\n",
    "x = np.linspace(0, 5, 50)\n",
    "y = np.linspace(0, 5, 50)\n",
    "Z = f(x, y)\n",
    "#\n",
    "x1 = np.linspace(0, 4.8, 50)\n",
    "y1 = np.linspace(0, 4.8, 50)\n",
    "Z1 = f(x1,y1)\n",
    "#\n",
    "fig = plt.figure(figsize=(10,7))\n",
    "ax =  plt.axes(projection='3d')\n",
    "ax.set_xlabel('seno-coseno')\n",
    "#\n",
    "ax.plot3D(x, y, Z,'red')\n",
    "ax.plot3D(x1+1, y1-1, Z1,'blue')\n",
    "plt.show()"
   ]
  },
  {
   "cell_type": "markdown",
   "metadata": {},
   "source": [
    "### Superficie 3D"
   ]
  },
  {
   "cell_type": "code",
   "execution_count": null,
   "metadata": {},
   "outputs": [],
   "source": [
    "# superficie 3D\n",
    "x = np.linspace(0, 5, 50)\n",
    "y = np.linspace(0, 5, 50)\n",
    "X, Y = np.meshgrid(x, y) \n",
    "Z = f(X, Y)\n",
    "#\n",
    "fig = plt.figure(figsize=(10,7))\n",
    "ax =  plt.axes(projection='3d')\n",
    "ax.set_xlabel('Imagem 3D')\n",
    "#\n",
    "ax.plot_surface(X, Y, Z, cmap=plt.cm.jet, rstride=1, cstride=1, linewidth=0)\n",
    "#ax.plot_surface(X, Y, Z, cmap='RdGy', rstride=1, cstride=1, linewidth=0)\n",
    "plt.show()"
   ]
  },
  {
   "cell_type": "markdown",
   "metadata": {},
   "source": [
    "### Contorno"
   ]
  },
  {
   "cell_type": "code",
   "execution_count": null,
   "metadata": {},
   "outputs": [],
   "source": [
    "# matplotlib-exemplo-31\n",
    "# gerando os valores usando meshgrid\n",
    "x = np.linspace(0, 5, 50)\n",
    "y = np.linspace(0, 5, 50)\n",
    "X, Y = np.meshgrid(x, y) \n",
    "Z = f(X, Y)\n",
    "plt.contour(X, Y, Z, colors='blue'); #grafico 3-D"
   ]
  },
  {
   "cell_type": "code",
   "execution_count": null,
   "metadata": {},
   "outputs": [],
   "source": [
    "# matplotlib-exemplo-32\n",
    "# usando contornos\n",
    "plt.contour(X, Y, Z, 20, cmap='RdGy');"
   ]
  },
  {
   "cell_type": "code",
   "execution_count": null,
   "metadata": {},
   "outputs": [],
   "source": [
    "# matplotlib-exemplo-32\n",
    "# Graficando barra de cores\n",
    "plt.contourf(X, Y, Z, 20, cmap='RdGy')\n",
    "plt.colorbar(orientation='horizontal');"
   ]
  },
  {
   "cell_type": "markdown",
   "metadata": {},
   "source": [
    "### Curva 3D e Pontos discretos"
   ]
  },
  {
   "cell_type": "code",
   "execution_count": null,
   "metadata": {},
   "outputs": [],
   "source": [
    "# linha 3D + scatter\n",
    "x = np.linspace(0, 5, 50)\n",
    "y = np.linspace(0, 5, 50)\n",
    "#X, Y = np.meshgrid(x, y) \n",
    "Z = f(x, y)\n",
    "#\n",
    "fig = plt.figure(figsize=(10,7))\n",
    "ax =  plt.axes(projection='3d')\n",
    "ax.set_xlabel('seno-coseno')\n",
    "#\n",
    "ax.plot3D(x, y, Z, 'red')\n",
    "# scatter\n",
    "x = x + 0.1 * np.random.randn(50)\n",
    "y = y + 0.1 * np.random.randn(50)\n",
    "zdata = f(x,y)\n",
    "ax.scatter3D(x, y, zdata, c=zdata, cmap='Greens')\n",
    "ax.set_xlabel('seno')\n",
    "plt.show()"
   ]
  },
  {
   "cell_type": "markdown",
   "metadata": {},
   "source": [
    "## Histogramas"
   ]
  },
  {
   "cell_type": "code",
   "execution_count": null,
   "metadata": {},
   "outputs": [],
   "source": [
    "# matplotlib-exemplo-33\n",
    "# graficando um histograma\n",
    "%matplotlib inline\n",
    "plt.style.use('seaborn-v0_8')\n",
    "data = np.random.randn(900)\n",
    "plt.hist(data)\n",
    "plt.title('Style: seaborn-v0_8')\n",
    "plt.show()"
   ]
  },
  {
   "cell_type": "code",
   "execution_count": null,
   "metadata": {},
   "outputs": [],
   "source": [
    "# matplotlib-exemplo-34\n",
    "# Histograma customizado\n",
    "plt.hist(data, bins=30, density=True, alpha=0.5,histtype='stepfilled', color='steelblue',edgecolor='none')\n",
    "plt.title('Histograma customizado')\n",
    "plt.show()"
   ]
  },
  {
   "cell_type": "code",
   "execution_count": null,
   "metadata": {},
   "outputs": [],
   "source": [
    "# matplotlib-exemplo-35\n",
    "# histogramas sobrepostos\n",
    "x1 = np.random.normal(0, 0.8, 1000)\n",
    "x2 = np.random.normal(-2, 1, 1000)\n",
    "x3 = np.random.normal(3, 2, 1000)\n",
    "kwargs = dict(histtype='stepfilled', alpha=0.8, density=True, bins=40)\n",
    "plt.hist(x1, **kwargs)\n",
    "plt.hist(x2, **kwargs)\n",
    "plt.hist(x3, **kwargs);\n",
    "plt.title('Histogramas sobrepostos')\n",
    "plt.show()"
   ]
  },
  {
   "cell_type": "markdown",
   "metadata": {},
   "source": [
    "## Customizando as Legendas"
   ]
  },
  {
   "cell_type": "code",
   "execution_count": null,
   "metadata": {},
   "outputs": [],
   "source": [
    "# matplotlib-exemplo-36\n",
    "# Personalizando as legendas\n",
    "%matplotlib inline\n",
    "#plt.style.use('classic')\n",
    "plt.style.use('default')\n",
    "x2 = np.linspace(0, 10, 1000)\n",
    "fig, ax2 = plt.subplots()\n",
    "ax2.plot(x2, np.sin(x2), '-b', label='Seno()')\n",
    "ax2.plot(x2, np.cos(2*x2), '--r', label='Coseno()')\n",
    "ax2.axis('equal')\n",
    "leg = ax2.legend()\n",
    "plt.show()"
   ]
  },
  {
   "cell_type": "code",
   "execution_count": null,
   "metadata": {},
   "outputs": [],
   "source": [
    "# matplotlib-exemplo-37\n",
    "# mudando a legenda de posição e colunas =2\n",
    "ax2.legend(loc='upper left', frameon=False, ncol=2)\n",
    "fig"
   ]
  },
  {
   "cell_type": "code",
   "execution_count": null,
   "metadata": {},
   "outputs": [],
   "source": [
    "# matplotlib-exemplo-38\n",
    "#\n",
    "#plt.style.use('seaborn-v0_8')\n",
    "x3 = np.arange(10)\n",
    "y3 = (20, 35, 30, 35, 27, 40, 45, 41, 39, 30)\n",
    "plt.bar(x3,y3)\n",
    "plt.show() # Try commenting this an run\n",
    "#\n",
    "plt.scatter(x3,y3) # scatter plot\n",
    "plt.show()"
   ]
  },
  {
   "cell_type": "markdown",
   "metadata": {},
   "source": [
    "### Exemplo IRIS"
   ]
  },
  {
   "cell_type": "code",
   "execution_count": null,
   "metadata": {},
   "outputs": [],
   "source": [
    "# imagem iris\n",
    "# creditos Sebastian Raschka: https://sebastianraschka.com/Articles/2015_pca_in_3_steps.html\n",
    "from IPython.display import Image\n",
    "Image('imagens/iris.png')"
   ]
  },
  {
   "cell_type": "code",
   "execution_count": null,
   "metadata": {},
   "outputs": [],
   "source": [
    "# matplotlib-exemplo-39\n",
    "# Graficando um dataset conhecido com pandas\n",
    "df = pd.read_csv('data/iris.csv')\n",
    "df.hist()# Histograma\n",
    "print('\\n')\n",
    "df.plot(); # grafico linear"
   ]
  },
  {
   "cell_type": "markdown",
   "metadata": {},
   "source": [
    "### Gráfico de Barras"
   ]
  },
  {
   "cell_type": "code",
   "execution_count": null,
   "metadata": {},
   "outputs": [],
   "source": [
    "# matplotlib-exemplo-40\n",
    "# Histogramas de cores\n",
    "pre = np.array([19, 6, 11, 9])\n",
    "post = np.array([15, 11, 9, 8])\n",
    "labels=['Pesquisa '+x for x in list('ABCD')]\n",
    "fig, ax = plt.subplots(figsize=(8, 3.5))\n",
    "width = 0.4 # largura da barra\n",
    "xlocs = np.arange(len(pre))\n",
    "ax.bar(xlocs-width, pre, width, color='green', label='Verde')\n",
    "ax.bar(xlocs, post, width, color='#1f10ed', label='Azul')\n",
    "# labels, grids, titulos e grvar a figura\n",
    "ax.set_xticks(ticks=range(len(pre)))\n",
    "ax.set_xticklabels(labels)\n",
    "ax.yaxis.grid(True)\n",
    "ax.legend(loc='best')\n",
    "ax.set_ylabel('Quantidade')\n",
    "fig.suptitle('Barras Simples')\n",
    "fig.tight_layout(pad=1)\n",
    "#fig.savefig('data/barra.png', dpi=125)"
   ]
  },
  {
   "cell_type": "markdown",
   "metadata": {},
   "source": [
    "### Gráfico de PIE"
   ]
  },
  {
   "cell_type": "code",
   "execution_count": null,
   "metadata": {},
   "outputs": [],
   "source": [
    "# matplotlib-exemplo-41\n",
    "# grafico de pizza\n",
    "datax = np.array([15,8,4])\n",
    "labels = ['Engenharia', 'Matemática', 'Física']\n",
    "explode = (0, 0.1, 0)\n",
    "colrs=['cyan', 'tan', 'wheat']\n",
    "# graficos\n",
    "fig, ax = plt.subplots(figsize=(8, 3.5))\n",
    "ax.pie(datax, explode=explode, labels=labels, autopct='%1.1f%%',startangle=270, colors=colrs)\n",
    "ax.axis('equal') # mantenha um circulo\n",
    "fig.suptitle(\"Pizza de Cursos\");\n",
    "#fig.savefig('data/pizza.png', dpi=125)"
   ]
  },
  {
   "cell_type": "code",
   "execution_count": null,
   "metadata": {},
   "outputs": [],
   "source": [
    "# matplotlib-exemplo-42\n",
    "# grafico de pizza usando opção 'shadow'\n",
    "xp = np.array([1,2,3,4,5,6,7,8,9,0])\n",
    "label = ['a','b','c','d','e','f','g','h','i','j']\n",
    "explode = [0.2, 0.1, 0.5, 0, 0, 0.3, 0.3, 0.2, 0.1,0]\n",
    "# grafico\n",
    "fig, axx = plt.subplots(figsize=(6, 6))\n",
    "axx.pie(xp, labels=label, explode = explode, shadow=True, autopct ='%2.2f%%')\n",
    "plt.title('Gráfico de Pizza')\n",
    "plt.show()\n",
    "#fig.savefig('data/pizzashadow.png', dpi=125)"
   ]
  },
  {
   "cell_type": "code",
   "execution_count": null,
   "metadata": {},
   "outputs": [],
   "source": [
    "# matplotlib-exemplo-43\n",
    "#  graficando coordenadas polares\n",
    "r = np.arange(0, 10.0, 0.1)\n",
    "theta = 2* np.pi * r\n",
    "plt.polar(theta, r, color ='r')\n",
    "plt.title('Coordenadas polares')\n",
    "plt.show()"
   ]
  },
  {
   "cell_type": "markdown",
   "metadata": {},
   "source": [
    "### Decorando os gráficos com textos, setas e anotações"
   ]
  },
  {
   "cell_type": "code",
   "execution_count": null,
   "metadata": {},
   "outputs": [],
   "source": [
    "# matplotlib-exemplo-44\n",
    "# decorando: texto, setas e anotações\n",
    "sx = np.arange(0, 2*np.pi, .01)\n",
    "sy = np.sin(sx)\n",
    "plt.plot(sx, sy, color = 'r')\n",
    "plt.text(0.1, -0.04, '$sin(0) = 0$')\n",
    "plt.text(1.5, 0.9, '$sin(90) = 1$')\n",
    "plt.text(2.0, 0, '$sin(180) = 0$')\n",
    "plt.text(4.5, -0.9, '$sin(270) = -1$')\n",
    "plt.text(6.0, 0.0, '$sin(360) = 1$')\n",
    "#plt.annotate('$sin(theta)=0$', xy=(3, 0.1), xytext=(5, 0.7),arrowprops=dict(facecolor='blue', shrink=0.05))\n",
    "plt.title('Insertando texto e anotações no Gráfico')\n",
    "plt.xlabel('$theta$')\n",
    "plt.ylabel('$sy = sin(theta)$')\n",
    "plt.show()"
   ]
  },
  {
   "cell_type": "markdown",
   "metadata": {},
   "source": [
    "### Gráficos Usando os datasets do PROUNI"
   ]
  },
  {
   "cell_type": "code",
   "execution_count": null,
   "metadata": {
    "scrolled": true
   },
   "outputs": [],
   "source": [
    "# Dataset prouni 2020\n",
    "prouni =  pd.read_csv('data/cursos-prouni2020.csv',delimiter=',')\n",
    "prouni.head()"
   ]
  },
  {
   "cell_type": "code",
   "execution_count": null,
   "metadata": {},
   "outputs": [],
   "source": [
    "# valores dos eixos\n",
    "print(len(prouni))\n",
    "x = range(0,len(prouni),1)\n",
    "print(len(x))"
   ]
  },
  {
   "cell_type": "code",
   "execution_count": null,
   "metadata": {},
   "outputs": [],
   "source": [
    "y = prouni['bolsa_integral_cotas']\n",
    "y1 = prouni['nota_integral_ampla']\n",
    "len(y1)"
   ]
  },
  {
   "cell_type": "code",
   "execution_count": null,
   "metadata": {},
   "outputs": [],
   "source": [
    "plt.plot(x,y,'r')\n",
    "#plt.plot(x,y1,'+b')\n",
    "plt.ylabel('Bolsa Integral Cotas')\n",
    "plt.xlabel('Prouni 2020')\n",
    "plt.title('Exame PROUNI 20/02/2021')\n",
    "plt.show()"
   ]
  },
  {
   "cell_type": "markdown",
   "metadata": {},
   "source": [
    "## Seaborn"
   ]
  },
  {
   "cell_type": "markdown",
   "metadata": {},
   "source": [
    "> **Seaborn** é uma biblioteca de visualização de dados Python baseada em matplotlib e fornece uma interface de alto nível para desenhar gráficos estatísticos atraentes e informativos. Maiores informações em [Seaborn](https://seaborn.pydata.org/index.html)\n",
    ">> Importar a biblioteca:```import seaborn as sns```"
   ]
  },
  {
   "cell_type": "code",
   "execution_count": 70,
   "metadata": {},
   "outputs": [],
   "source": [
    "# importar a bibliteca\n",
    "import seaborn as sns\n",
    "#plt.style.use('seaborn-whitegrid')\n",
    "sns.set_theme()   # tema"
   ]
  },
  {
   "cell_type": "code",
   "execution_count": null,
   "metadata": {},
   "outputs": [],
   "source": [
    "# dados\n",
    "tips = sns.load_dataset(\"tips\")\n",
    "tips"
   ]
  },
  {
   "cell_type": "code",
   "execution_count": null,
   "metadata": {},
   "outputs": [],
   "source": [
    "# Create a visualization\n",
    "sns.relplot(data=tips, x=\"total_bill\", y=\"tip\", col=\"time\",\n",
    "            hue=\"smoker\", style=\"smoker\", size=\"size\");"
   ]
  },
  {
   "cell_type": "code",
   "execution_count": null,
   "metadata": {},
   "outputs": [],
   "source": [
    "# dados prouni\n",
    "prouni.head()"
   ]
  },
  {
   "cell_type": "code",
   "execution_count": null,
   "metadata": {},
   "outputs": [],
   "source": [
    "dados_rj = prouni[prouni['uf_busca']=='RJ']\n",
    "dados_rj.head()\n",
    "#print(len(dados_rj))"
   ]
  },
  {
   "cell_type": "code",
   "execution_count": null,
   "metadata": {},
   "outputs": [],
   "source": [
    "# visualização do prouni\n",
    "sns.relplot(data=dados_rj, x=\"bolsa_integral_cotas\", y=\"nota_integral_ampla\", col=\"turno\",\n",
    "            hue=\"nome\", style=\"nome\", size=\"turno\");"
   ]
  },
  {
   "cell_type": "markdown",
   "metadata": {},
   "source": [
    "### API em visualizações"
   ]
  },
  {
   "cell_type": "code",
   "execution_count": null,
   "metadata": {
    "scrolled": false
   },
   "outputs": [],
   "source": [
    "# exmplo\n",
    "dots = sns.load_dataset(\"dots\")      # dados embutidos no seaborn\n",
    "# cria o gráfico\n",
    "sns.relplot(data=dots, kind=\"line\", x=\"time\", y=\"firing_rate\", col=\"align\", hue=\"choice\", size=\"coherence\", style=\"choice\",\n",
    "            facet_kws=dict(sharex=False),);"
   ]
  },
  {
   "cell_type": "markdown",
   "metadata": {},
   "source": [
    "### Estimativa estatística e barras de erro"
   ]
  },
  {
   "cell_type": "code",
   "execution_count": null,
   "metadata": {},
   "outputs": [],
   "source": [
    "# Exemplo de estimativa\n",
    "fmri = sns.load_dataset(\"fmri\")   # dados embutidos no seaborn\n",
    "# cria o gráfico\n",
    "sns.relplot(data=fmri, kind=\"line\", x=\"timepoint\", y=\"signal\", col=\"region\",\n",
    "            hue=\"event\", style=\"event\",);"
   ]
  },
  {
   "cell_type": "code",
   "execution_count": null,
   "metadata": {},
   "outputs": [],
   "source": [
    "# dados prouni = RJ\n",
    "sns.relplot(data=dados_rj, kind=\"line\", x=\"nota_integral_ampla\", y=\"bolsa_integral_cotas\", \n",
    "            col=\"turno\", hue='cidade_busca',style =\"cidade_busca\",);"
   ]
  },
  {
   "cell_type": "markdown",
   "metadata": {},
   "source": [
    "#### Usando o modelo de regressão linear - lmplot()"
   ]
  },
  {
   "cell_type": "code",
   "execution_count": null,
   "metadata": {},
   "outputs": [],
   "source": [
    "# exemplo: modelo de regressão linear\n",
    "sns.lmplot(data=tips, x=\"total_bill\", y=\"tip\", col=\"time\", hue=\"smoker\");"
   ]
  },
  {
   "cell_type": "code",
   "execution_count": null,
   "metadata": {},
   "outputs": [],
   "source": [
    "# dados prouni = RJ\n",
    "sns.lmplot(data=dados_rj, x=\"nota_integral_ampla\", y=\"bolsa_integral_cotas\", col=\"turno\", hue='cidade_busca');"
   ]
  },
  {
   "cell_type": "markdown",
   "metadata": {},
   "source": [
    "### Resumos informativos de distribuição\n",
    "> As análises estatísticas requerem conhecimento sobre a distribuição de variáveis no conjunto de dados."
   ]
  },
  {
   "cell_type": "code",
   "execution_count": null,
   "metadata": {},
   "outputs": [],
   "source": [
    "sns.displot(data=tips, x=\"total_bill\", col=\"time\", kde=True);"
   ]
  },
  {
   "cell_type": "code",
   "execution_count": null,
   "metadata": {},
   "outputs": [],
   "source": [
    "sns.displot(data=dados_rj, x=\"nota_integral_cotas\", col=\"turno\", kde=True);"
   ]
  },
  {
   "cell_type": "markdown",
   "metadata": {},
   "source": [
    "### Gráficos especializados para dados categóricos"
   ]
  },
  {
   "cell_type": "code",
   "execution_count": null,
   "metadata": {},
   "outputs": [],
   "source": [
    "# exemplo seaborn\n",
    "sns.catplot(data=tips, kind=\"swarm\", x=\"day\", y=\"total_bill\", hue=\"smoker\");"
   ]
  },
  {
   "cell_type": "code",
   "execution_count": null,
   "metadata": {},
   "outputs": [],
   "source": [
    "# exemplo dados prouni\n",
    "#sns.catplot(data=dados_rj, kind=\"swarm\", x=\"grau\", y=\"nota_integral_cotas\", hue=\"turno\");\n",
    "sns.stripplot(data=dados_rj, x=\"grau\", y=\"nota_integral_cotas\", hue=\"turno\");"
   ]
  },
  {
   "cell_type": "code",
   "execution_count": null,
   "metadata": {},
   "outputs": [],
   "source": [
    "# exemplo dados prouni\n",
    "sns.stripplot(data=dados_rj, x=\"grau\", y=\"nota_integral_cotas\", hue=\"turno\",);"
   ]
  },
  {
   "cell_type": "code",
   "execution_count": null,
   "metadata": {},
   "outputs": [],
   "source": [
    "# Exemplo dados prouni\n",
    "sns.stripplot(data=dados_rj, x=\"grau\", y=\"nota_integral_cotas\", hue=\"turno\",jitter=0.5);"
   ]
  },
  {
   "cell_type": "code",
   "execution_count": null,
   "metadata": {},
   "outputs": [],
   "source": [
    "# exemplo embutido no seaborn\n",
    "sns.catplot(data=tips, kind=\"bar\", x=\"day\", y=\"total_bill\", hue=\"smoker\");"
   ]
  },
  {
   "cell_type": "code",
   "execution_count": null,
   "metadata": {},
   "outputs": [],
   "source": [
    "# Exemplo dados prouni\n",
    "sns.catplot(data=dados_rj, kind='bar', x=\"grau\", y=\"nota_integral_cotas\", hue=\"turno\");"
   ]
  },
  {
   "cell_type": "markdown",
   "metadata": {},
   "source": [
    "### Visualizações compostas de conjuntos de dados multivariados"
   ]
  },
  {
   "cell_type": "code",
   "execution_count": null,
   "metadata": {},
   "outputs": [],
   "source": [
    "# exemplo do seaborn\n",
    "penguins = sns.load_dataset(\"penguins\")\n",
    "sns.jointplot(data=penguins, x=\"flipper_length_mm\", y=\"bill_length_mm\", hue=\"species\");"
   ]
  },
  {
   "cell_type": "code",
   "execution_count": null,
   "metadata": {},
   "outputs": [],
   "source": [
    "# Exemplo dados prouni\n",
    "sns.jointplot(data=dados_rj, x=\"bolsa_integral_cotas\", y=\"nota_integral_cotas\", hue=\"turno\");"
   ]
  },
  {
   "cell_type": "code",
   "execution_count": null,
   "metadata": {
    "scrolled": false
   },
   "outputs": [],
   "source": [
    "# dados prouni\n",
    "sns.pairplot(data=dados_rj, hue=\"grau\");"
   ]
  },
  {
   "cell_type": "markdown",
   "metadata": {},
   "source": [
    "### Classes e funções para fazer gráficos complexos\n",
    "\n",
    "Estas ferramentas funcionam combinando funções de plotagem no nível dos eixos com objetos que gerenciam o layout da figura, ligando a estrutura de um conjunto de dados a uma grade de eixos."
   ]
  },
  {
   "cell_type": "code",
   "execution_count": null,
   "metadata": {},
   "outputs": [],
   "source": [
    "# exemplo\n",
    "g = sns.PairGrid(dados_rj, hue=\"grau\", corner=True)\n",
    "g.map_lower(sns.kdeplot, hue=None, levels=5, color=\".2\")\n",
    "g.map_lower(sns.scatterplot, marker=\"+\")\n",
    "g.map_diag(sns.histplot, element=\"step\", linewidth=0, kde=True)\n",
    "g.add_legend(frameon=True)\n",
    "g.legend.set_bbox_to_anchor((.61, .6))"
   ]
  },
  {
   "cell_type": "markdown",
   "metadata": {},
   "source": [
    "---\n",
    "#### Fudamentos para Ciência Dados &copy; Copyright 2021, 2022, 2024 - Sergio Serra & Jorge Zavaleta"
   ]
  }
 ],
 "metadata": {
  "kernelspec": {
   "display_name": "Python 3 (ipykernel)",
   "language": "python",
   "name": "python3"
  },
  "language_info": {
   "codemirror_mode": {
    "name": "ipython",
    "version": 3
   },
   "file_extension": ".py",
   "mimetype": "text/x-python",
   "name": "python",
   "nbconvert_exporter": "python",
   "pygments_lexer": "ipython3",
   "version": "3.12.3"
  }
 },
 "nbformat": 4,
 "nbformat_minor": 4
}
