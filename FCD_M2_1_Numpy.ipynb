{
 "cells": [
  {
   "cell_type": "markdown",
   "metadata": {},
   "source": [
    "![PPGI_UFRJ](imagens/ppgi-ufrj.png)\n",
    "# Fundamentos de Ciência de Dados"
   ]
  },
  {
   "cell_type": "markdown",
   "metadata": {},
   "source": [
    "---\n",
    "[![DOI](https://zenodo.org/badge/335308405.svg)](https://zenodo.org/badge/latestdoi/335308405)"
   ]
  },
  {
   "cell_type": "markdown",
   "metadata": {},
   "source": [
    "---\n",
    "# PPGI/UFRJ 2020.3, 2022.2, 2024.2\n",
    "## Prof. Sergio Serra e Jorge Zavaleta"
   ]
  },
  {
   "cell_type": "markdown",
   "metadata": {},
   "source": [
    "---\n",
    "## Módulo 2 - Numpy"
   ]
  },
  {
   "cell_type": "markdown",
   "metadata": {},
   "source": [
    "> Biblioteca para Computação científica com Python. Pode ser encontrada em [Numpy](https://numpy.org/doc/stable/). Esta biblioteca permite realizar operações eficientes em estruturas de dados usadas em aprendizado de máquina (machine learning): **vetores, matrizes e tensores**."
   ]
  },
  {
   "cell_type": "markdown",
   "metadata": {},
   "source": [
    "#### Importando a biblioteca Numpy"
   ]
  },
  {
   "cell_type": "code",
   "execution_count": null,
   "metadata": {},
   "outputs": [],
   "source": [
    "# importando a biblioteca\n",
    "import numpy as np\n",
    "# version do numpy\n",
    "print(np.version.version)"
   ]
  },
  {
   "cell_type": "markdown",
   "metadata": {},
   "source": [
    "# Diferença entre Arrays e Listas"
   ]
  },
  {
   "cell_type": "markdown",
   "metadata": {},
   "source": [
    "## Declaração de ndarray e lista"
   ]
  },
  {
   "cell_type": "code",
   "execution_count": 2,
   "metadata": {},
   "outputs": [],
   "source": [
    "my_arr = np.arange(1000000)       # ndArray\n",
    "my_list = list(range(1000000))    #Lista"
   ]
  },
  {
   "cell_type": "markdown",
   "metadata": {},
   "source": [
    "**Vamos imprimir?**"
   ]
  },
  {
   "cell_type": "code",
   "execution_count": null,
   "metadata": {
    "scrolled": true
   },
   "outputs": [],
   "source": [
    "print(my_arr)"
   ]
  },
  {
   "cell_type": "code",
   "execution_count": null,
   "metadata": {},
   "outputs": [],
   "source": [
    "print(my_list)"
   ]
  },
  {
   "cell_type": "markdown",
   "metadata": {},
   "source": [
    "**O que houve com a lista?**"
   ]
  },
  {
   "cell_type": "markdown",
   "metadata": {},
   "source": [
    "## Criando narrays simples"
   ]
  },
  {
   "cell_type": "code",
   "execution_count": null,
   "metadata": {
    "scrolled": true
   },
   "outputs": [],
   "source": [
    "# exemplo - vetor\n",
    "v = [12, 10, -1, 4] # lista\n",
    "print('v:',type(v))\n",
    "# converter uma lista em vetor\n",
    "v1 = np.array(v)\n",
    "\n",
    "# verificando se é array ou Lista \n",
    "print('v1:',type(v1))\n",
    "print('v1 =',v1)\n",
    "#v = [1,2,3 4]"
   ]
  },
  {
   "cell_type": "markdown",
   "metadata": {},
   "source": [
    "**Verificando um narray**"
   ]
  },
  {
   "cell_type": "code",
   "execution_count": null,
   "metadata": {},
   "outputs": [],
   "source": [
    "# criando um vetor fila ou linha (1 dimensão)\n",
    "vetor = np.array([-1, 0.5, 20, 4, -2.0, 20])\n",
    "print('v:',vetor)\n",
    "print('T:',len(vetor))            # verifica tamanho do nArray"
   ]
  },
  {
   "cell_type": "markdown",
   "metadata": {},
   "source": [
    "#### Métodos principais para vetores e matrizes\n",
    "\n",
    "- narray.**dtype** - Tipo do array\n",
    "- narray.**ndim** - Dimensões do array\n",
    "- narray.**shape** - Número de elementos em cada dimensão no array, (n,m)\n",
    "- narray.**size** - Tamanho do array (total de elementos), n *x* m\n",
    "- narray.**reshape** - Redimensão do array n *x* m"
   ]
  },
  {
   "cell_type": "code",
   "execution_count": null,
   "metadata": {},
   "outputs": [],
   "source": [
    "# exibindo detalhes do vetor narray\n",
    "print('Tipo:        ',vetor.dtype)\n",
    "print('Dimensao :   ',vetor.ndim)\n",
    "print('Shapinng:    ',vetor.shape)\n",
    "print('Tamanho:     ',vetor.size)\n",
    "print('Redimensiona:',vetor.reshape(2,3))"
   ]
  },
  {
   "cell_type": "code",
   "execution_count": null,
   "metadata": {},
   "outputs": [],
   "source": [
    "# criar vetor coluna\n",
    "vetor_c = np.array([[-1],[0.5],[20],[4],[-2.0]])\n",
    "print('C:  \\n',vetor_c)\n",
    "print('Dim:  ',vetor_c.ndim)                 #2\n",
    "print('Shape:',vetor_c.shape)                #(5,1)"
   ]
  },
  {
   "cell_type": "markdown",
   "metadata": {},
   "source": [
    "### Observe os códigos da matriz_3x3 "
   ]
  },
  {
   "cell_type": "markdown",
   "metadata": {},
   "source": [
    "#### Uso de *ndim* \n",
    "> Número de dimensões da matriz"
   ]
  },
  {
   "cell_type": "code",
   "execution_count": null,
   "metadata": {},
   "outputs": [],
   "source": [
    "# criando uma matriz\n",
    "matriz_3x3 = np.array([[4,6,2],[8,-1,0],[3,4,5]])\n",
    "print('M:    ',matriz_3x3)\n",
    "print('Dim:  ',matriz_3x3.ndim)                 #2\n",
    "print('Shape:',matriz_3x3.shape)                #(3,3)"
   ]
  },
  {
   "cell_type": "markdown",
   "metadata": {},
   "source": [
    "#### Uso de *len*\n",
    "> Retorna o comprimento da primeira dimensão do vetor/matriz"
   ]
  },
  {
   "cell_type": "code",
   "execution_count": null,
   "metadata": {},
   "outputs": [],
   "source": [
    "# funcoes: len e shape\n",
    "# tamanho do vetor/matriz:len()\n",
    "print('T:',len(matriz_3x3))              # = ndim\n",
    "# dimesoes do vetor/matriz: shape\n",
    "print('D:',matriz_3x3.shape)"
   ]
  },
  {
   "cell_type": "markdown",
   "metadata": {},
   "source": [
    "#### Por que os resultados de *ndim* e *len* são diferentes?"
   ]
  },
  {
   "cell_type": "code",
   "execution_count": null,
   "metadata": {},
   "outputs": [],
   "source": [
    "# exemplo de tamanho e dimensao\n",
    "A = np.array([[1,-1],[3, -2],[4,2]])\n",
    "print('A:     \\n',A)                  # imprime a matriz\n",
    "print('Tam =  ',len(A))               # tamanho \n",
    "print('Dim =  ',A.ndim)               #dimensoes\n",
    "print('Shape =',A.shape)              # dimensoes(linhas, coluna)"
   ]
  },
  {
   "cell_type": "markdown",
   "metadata": {},
   "source": [
    "## Redimensionamentro de vetores e matrizes"
   ]
  },
  {
   "cell_type": "code",
   "execution_count": null,
   "metadata": {},
   "outputs": [],
   "source": [
    "# exemplo de size\n",
    "print('Tam :',A.size)        # Imprime o total de elementos da matrix A\n",
    "print(A)                     # Imprime a matrix A\n",
    "print('')\n",
    "\n",
    "# exemplos de reshape\n",
    "B = A.reshape(2,3)           # Redimensiona o Array A de 3 linhas x 2 colunas para 2 x 3\n",
    "print('Tam :',B.size) \n",
    "print(B)                     # Imprime os elementos da matrix B reshaped\n",
    "print('')\n",
    "\n",
    "# exemplo de reshape - nao alteram o tamanho da matrix\n",
    "BB = A.reshape(1,6)          # Redimensiona o Array A de 2 x 3  para 1 x 6\n",
    "print('BB:')                  \n",
    "print(BB)                    # Imprime os elementos da matrix BB reshaped \n",
    "print('')               \n",
    "B1 = A.reshape(6,1)          # Redimensiona o Array A de 2 x 3  para 6 x 1\n",
    "print('B1 :', B1)            # Imprime os elementos da matrix B1 reshaped"
   ]
  },
  {
   "cell_type": "markdown",
   "metadata": {},
   "source": [
    "## Criação de Matrizes "
   ]
  },
  {
   "cell_type": "code",
   "execution_count": null,
   "metadata": {},
   "outputs": [],
   "source": [
    "# exemplo: len, ndim, shape, size e reshape\n",
    "# array (dimensão)\n",
    "A1 = np.array([(1,2,3), (4,5,6), (2,7,8)])\n",
    "print('A: \\n',A1)\n",
    "print('Dim: ',A1.shape)"
   ]
  },
  {
   "cell_type": "markdown",
   "metadata": {},
   "source": [
    "### Criação de matriz com zeros "
   ]
  },
  {
   "cell_type": "code",
   "execution_count": null,
   "metadata": {},
   "outputs": [],
   "source": [
    "# criação de matrizes de inteiros\n",
    "Z = np.zeros((2,3))\n",
    "print('Z: \\n',Z)"
   ]
  },
  {
   "cell_type": "code",
   "execution_count": null,
   "metadata": {},
   "outputs": [],
   "source": [
    "# criação de matrizes de numeros complexos, dtype indica o tipo, e.g int, float, complex\n",
    "z1 = np.zeros((3,3),dtype=complex)\n",
    "z1"
   ]
  },
  {
   "cell_type": "markdown",
   "metadata": {},
   "source": [
    "### Criação de matriz com uns "
   ]
  },
  {
   "cell_type": "code",
   "execution_count": null,
   "metadata": {},
   "outputs": [],
   "source": [
    "# matriz unitaria\n",
    "array = np.ones((3,3))\n",
    "print(array)"
   ]
  },
  {
   "cell_type": "code",
   "execution_count": null,
   "metadata": {},
   "outputs": [],
   "source": [
    "# matriz de números complexos\n",
    "z1 = np.ones((3,3),dtype=complex)\n",
    "z1"
   ]
  },
  {
   "cell_type": "markdown",
   "metadata": {},
   "source": [
    "### Criação de matriz diagonal "
   ]
  },
  {
   "cell_type": "code",
   "execution_count": null,
   "metadata": {},
   "outputs": [],
   "source": [
    "# matriz diagonal 1\n",
    "array = np.eye(3) \n",
    "print(array)"
   ]
  },
  {
   "cell_type": "code",
   "execution_count": null,
   "metadata": {},
   "outputs": [],
   "source": [
    "# matriz identidade\n",
    "i = np.identity(5)\n",
    "print(i)"
   ]
  },
  {
   "cell_type": "markdown",
   "metadata": {},
   "source": [
    "#### Criação de matriz  up/down"
   ]
  },
  {
   "cell_type": "code",
   "execution_count": null,
   "metadata": {},
   "outputs": [],
   "source": [
    "# Matriz Diagonal\n",
    "A = np.diag([1.0, 2, 3])\n",
    "A"
   ]
  },
  {
   "cell_type": "code",
   "execution_count": null,
   "metadata": {},
   "outputs": [],
   "source": [
    "# Matriz Diagonal inversa up/down\n",
    "np.flipud(A)"
   ]
  },
  {
   "cell_type": "markdown",
   "metadata": {},
   "source": [
    "#### Criaçao de matriz left/right"
   ]
  },
  {
   "cell_type": "code",
   "execution_count": null,
   "metadata": {},
   "outputs": [],
   "source": [
    "# Matriz Diagonal direita/esquerda\n",
    "np.fliplr(A)"
   ]
  },
  {
   "cell_type": "markdown",
   "metadata": {},
   "source": [
    "### Criação de matriz com número específicos "
   ]
  },
  {
   "cell_type": "code",
   "execution_count": null,
   "metadata": {},
   "outputs": [],
   "source": [
    "# preenche dados especificos numa matriz\n",
    "f = np.full((3,3),3.14,dtype=float)\n",
    "print(f)"
   ]
  },
  {
   "cell_type": "markdown",
   "metadata": {},
   "source": [
    "### Criação de matriz com número randômicos "
   ]
  },
  {
   "cell_type": "code",
   "execution_count": null,
   "metadata": {},
   "outputs": [],
   "source": [
    "# numero aleatorios: matriz de inteiros\n",
    "ma = np.random.randint(0, 100, (3,3))              # tente 100000 x 100000!\n",
    "print(ma)"
   ]
  },
  {
   "cell_type": "code",
   "execution_count": null,
   "metadata": {},
   "outputs": [],
   "source": [
    "# numero aleatorios: matriz de reais\n",
    "r1 = np.random.rand(4,4)\n",
    "print(r1)"
   ]
  },
  {
   "cell_type": "markdown",
   "metadata": {},
   "source": [
    "### Método *arange* \n",
    "> Permite preencher um vetor ou matriz ordenadamente, permite definiçao de **start**, **stop** e **step**"
   ]
  },
  {
   "cell_type": "code",
   "execution_count": null,
   "metadata": {},
   "outputs": [],
   "source": [
    "#Preenchimento de vetor com step 1 - tamanho 10 posiçoes, crescente \n",
    "v0 = np.arange(10)\n",
    "print(v0)"
   ]
  },
  {
   "cell_type": "code",
   "execution_count": null,
   "metadata": {},
   "outputs": [],
   "source": [
    "#Preenchimento de vetor com step 1 - tamanho 9 posições\n",
    "# Argumentos (inicio, fim, passo)\n",
    "v1 = np.arange(start=1, stop=10, step=1)\n",
    "print(v1)"
   ]
  },
  {
   "cell_type": "code",
   "execution_count": null,
   "metadata": {},
   "outputs": [],
   "source": [
    "#Preenchimento de vetor com step 3 - Positivos\n",
    "v2 = np.arange(start=1, stop=10, step=3)\n",
    "print(v2)"
   ]
  },
  {
   "cell_type": "code",
   "execution_count": null,
   "metadata": {},
   "outputs": [],
   "source": [
    "# Preenche o vetor com step=3 e stop=8\n",
    "v3 = np.arange(start=1, stop=8, step=3)\n",
    "print(v3)"
   ]
  },
  {
   "cell_type": "code",
   "execution_count": null,
   "metadata": {},
   "outputs": [],
   "source": [
    "# preenche elementos com step=3 e stop = 10.1\n",
    "v4 = np.arange(start=1, stop=10.1, step=3)\n",
    "print(v4)"
   ]
  },
  {
   "cell_type": "code",
   "execution_count": null,
   "metadata": {},
   "outputs": [],
   "source": [
    "# Preenche elementos com step=4\n",
    "v5 = np.arange(1, 10, 4)\n",
    "print(v5)"
   ]
  },
  {
   "cell_type": "markdown",
   "metadata": {},
   "source": [
    "### Graficamente temos"
   ]
  },
  {
   "attachments": {
    "image.png": {
     "image/png": "[encoded data removed]"
    }
   },
   "cell_type": "markdown",
   "metadata": {},
   "source": [
    "![image.png](attachment:image.png)"
   ]
  },
  {
   "cell_type": "code",
   "execution_count": null,
   "metadata": {},
   "outputs": [],
   "source": [
    "# Preenchimento de vetor com step 2 - Negativos\n",
    "vn0 = np.arange(start=-10, stop=-2, step=2)\n",
    "print(vn0)"
   ]
  },
  {
   "cell_type": "code",
   "execution_count": null,
   "metadata": {},
   "outputs": [],
   "source": [
    "#Preenchimento de vetor com step 2 - Negativos\n",
    "vn1 = np.arange(-10, -2, 2)\n",
    "print(vn1)"
   ]
  },
  {
   "cell_type": "code",
   "execution_count": null,
   "metadata": {},
   "outputs": [],
   "source": [
    "# exemplo com matrizes\n",
    "A2 = np.arange(60).reshape(3,4,5)\n",
    "print(A2.shape)\n",
    "print(A2.ndim)\n",
    "print(A2.size)\n",
    "print(A2)\n",
    "print(\"---\")\n",
    "#\n",
    "A11 = np.arange(60).reshape(20,3)\n",
    "print(A11)                                     # Se usarmos tensores, Deep Learning"
   ]
  },
  {
   "cell_type": "markdown",
   "metadata": {},
   "source": [
    "### Gerando valores com a função linspace"
   ]
  },
  {
   "cell_type": "code",
   "execution_count": null,
   "metadata": {},
   "outputs": [],
   "source": [
    "# Return evenly spaced numbers over a specified interval.\n",
    "# Returns num evenly spaced samples, calculated over the interval [start, stop].\n",
    "# Geracao devalores usando a funcao: linspace\n",
    "#\n",
    "pesos_turma = np.linspace(50,80,num=50) # 50 kg <= peso <= 80 e numero de alunos 30\n",
    "print(pesos_turma)"
   ]
  },
  {
   "cell_type": "markdown",
   "metadata": {},
   "source": [
    "## Operações Aritméticas com Matrizes\n",
    "\n",
    ">### Qualquer operação aritmética pode ser aplicada, desde que sejam de tamanhos iguais"
   ]
  },
  {
   "cell_type": "code",
   "execution_count": null,
   "metadata": {},
   "outputs": [],
   "source": [
    "# Criando as matrizes\n",
    "mat1 = np.array([[1., 2., 3.], [4., 5., 6.]])\n",
    "mat2 = np.array([[5, 3, 1.], [-1, 5., 6.]])\n",
    "print(mat1)\n",
    "#print(mat1.shape)\n",
    "print(mat2)\n",
    "#print(mat2.shape)"
   ]
  },
  {
   "cell_type": "markdown",
   "metadata": {},
   "source": [
    "**Soma de matrizes**"
   ]
  },
  {
   "cell_type": "code",
   "execution_count": null,
   "metadata": {},
   "outputs": [],
   "source": [
    "# soma\n",
    "soma = mat1 + mat2\n",
    "print(soma)"
   ]
  },
  {
   "cell_type": "code",
   "execution_count": null,
   "metadata": {},
   "outputs": [],
   "source": [
    "# Matriz\n",
    "mat = np.array([[1., 2., 3.], [4., 5., 6.]])\n",
    "print(mat)"
   ]
  },
  {
   "cell_type": "code",
   "execution_count": null,
   "metadata": {},
   "outputs": [],
   "source": [
    "z1 = np.ones((3,3),dtype=complex)\n",
    "z1"
   ]
  },
  {
   "cell_type": "markdown",
   "metadata": {},
   "source": [
    "#### Algebra Linear de Matrizes"
   ]
  },
  {
   "cell_type": "code",
   "execution_count": null,
   "metadata": {},
   "outputs": [],
   "source": [
    "print(mat1 * mat2)  # mat1*mat2"
   ]
  },
  {
   "cell_type": "code",
   "execution_count": null,
   "metadata": {},
   "outputs": [],
   "source": [
    "print(mat1 * mat1)  # = print(mat **2)"
   ]
  },
  {
   "cell_type": "code",
   "execution_count": null,
   "metadata": {},
   "outputs": [],
   "source": [
    "print(mat * 2)"
   ]
  },
  {
   "cell_type": "code",
   "execution_count": null,
   "metadata": {},
   "outputs": [],
   "source": [
    "print(mat + (mat *2) -10)"
   ]
  },
  {
   "cell_type": "code",
   "execution_count": null,
   "metadata": {},
   "outputs": [],
   "source": [
    "arr1 = np.array([[0., 3., 1.], [9., 2., 11.]])\n",
    "arr2 = np.array([[0., 4., 1.], [7., 2., 12.]])\n",
    "print(arr1)\n",
    "print(arr2)"
   ]
  },
  {
   "cell_type": "code",
   "execution_count": null,
   "metadata": {},
   "outputs": [],
   "source": [
    "# verificado a condição em cada posição correspondente nas matrizes\n",
    "print(arr2 > arr1)"
   ]
  },
  {
   "cell_type": "code",
   "execution_count": null,
   "metadata": {},
   "outputs": [],
   "source": [
    "print(z1 * z1 * 4)      # Z1 é uma matriz de complexo"
   ]
  },
  {
   "cell_type": "markdown",
   "metadata": {},
   "source": [
    "### Funções trigonométricas"
   ]
  },
  {
   "cell_type": "code",
   "execution_count": null,
   "metadata": {},
   "outputs": [],
   "source": [
    "sin_90 = np.sin(90)                                    # sine value of degree 90 in degree\n",
    "print (\"Sine value of angle 90 in degree = \",sin_90)   # print sine value\n",
    "\n",
    "                                                       # np.pi = 3.14\n",
    "sin_90 = np.sin(90 * np.pi/180)                        # sine value of angle 90 in radinas\n",
    "print(\"Sine value of angle 90 in radians = \", sin_90)\n",
    "\n",
    "\n",
    "cos_180 = np.cos(180 * np.pi/180)                       # np.pi = 3.14\n",
    "print(\"Cosine value of angle 180 in radians = \", cos_180)\n",
    "\n",
    "tan_60 = np.tan(60)                                     # tangent value of degree 60 in degree\n",
    "print(\"Tangent value of angle 60 in degree = \", tan_60) # print tangent value\n"
   ]
  },
  {
   "cell_type": "markdown",
   "metadata": {},
   "source": [
    "## Indexação e fatiamentos em Matrizes\n",
    "\n",
    "> Visualizar algum valor do array ou mudar em valor usando o índice de indexação. "
   ]
  },
  {
   "cell_type": "markdown",
   "metadata": {},
   "source": [
    "### Indexação\n",
    "> Visualizar algúm valor do array ou mudar um valor usando o índice de indexação. Muito usado em visualizaçãpo de dados"
   ]
  },
  {
   "cell_type": "code",
   "execution_count": null,
   "metadata": {},
   "outputs": [],
   "source": [
    "# arr = np.arange(start=0, stop=10, step=1)\n",
    "arr = np.arange(10) \n",
    "print(arr)                   # [0 1 2 3 4 5 6 7 8 9]\n",
    "print(arr[5])                # 5 - imprime a posiçao do quinto elemento do vetor\n",
    "print(arr[5:8])              # [5 6 7] - imprime a posiçao do quinto ao oitavo elemento do vetor\n",
    "arr[5:8] = 12                # Atribui o valor 12 aos elementos 5o. ao 70.\n",
    "print(arr)                   # [ 0 1 2 3 4 12 12 12 8 9]"
   ]
  },
  {
   "cell_type": "code",
   "execution_count": null,
   "metadata": {},
   "outputs": [],
   "source": [
    "#construção de matriz de float\n",
    "pesos_turma = np.linspace(50,80,num=40)\n",
    "print(pesos_turma)                       # imprime os pesos da turma (50 <= Peso <= 80), 40 valores\n",
    "D2 = pesos_turma.reshape((4,10))         # Redimensiona a matriz para uma nova matriz de 4x10\n",
    "D2                                       # visualiza a matriz 4x10\n",
    "print('')\n",
    "# exemplo: Visializar um elemento de uma matriz. No caso o elemento da posição (2,3) do matriz D2\n",
    "d23 = D2[2,3]                            # \n",
    "print(d23)                               # visualiza elemento da posição (2,3)\n",
    "d00 = D2[0,0]                            # acessa o elemento da posição (0,0)\n",
    "print(d00)                               # visualiza o elemento"
   ]
  },
  {
   "cell_type": "code",
   "execution_count": null,
   "metadata": {},
   "outputs": [],
   "source": [
    "#Mudar o valor do elemento d23 = -1.0\n",
    "D2[2,3] = -1.0        # acessa o elemento da posição (2,3) e muda o valor para -1.0\n",
    "d23 = D2[2,3]         # a variavel d23 recebe o valor do elemento (2,3)\n",
    "print('d23:',d23)     # visualiza o elemento d23\n",
    "print('D2',D2)        # visualiza matriz D2"
   ]
  },
  {
   "cell_type": "code",
   "execution_count": null,
   "metadata": {},
   "outputs": [],
   "source": [
    "# Verificando condicoes para checagem de valor de elementos da Matrix\n",
    "C = D2 < 60    # verifica se os elementos da matriz são maiores que 60 (True)\n",
    "print(C)       "
   ]
  },
  {
   "cell_type": "code",
   "execution_count": null,
   "metadata": {},
   "outputs": [],
   "source": [
    "# Verificando condicoes para achar outliers e mudar\n",
    "D2[D2>4] = 2   # verifica se os elementos da matriz são maiores que 4\n",
    "               # e asigna valor 2 a esses elementos\n",
    "E = D2         # D2 é asignado à matriz E\n",
    "print(E)       # imprime a matriz E"
   ]
  },
  {
   "cell_type": "markdown",
   "metadata": {},
   "source": [
    "### Manipulando valores que não existentes: nan e isnan"
   ]
  },
  {
   "cell_type": "markdown",
   "metadata": {},
   "source": [
    "> **NumPy** fornece funções de agregação que permitem calcular de forma segura valores ausentes num dataset espeficidados de forma especial pela IEEE para lidar com valores NaN de ponto flutuante. \n",
    ">\n",
    "> O tratamento de valores faltantes está disponível no Numpy 1.8 ou superior. Maiores detalhes https://numpy.org/doc/stable/user/misc.html e https://numpy.org/doc/1.13/neps/missing-data.html#definition-of-missing-data"
   ]
  },
  {
   "cell_type": "markdown",
   "metadata": {},
   "source": [
    "### NaN (Not a Number)\n",
    "> **Numpy** define funções especias para tratar valores numéricos faltantes que podem resultar em cálculos matemáticos: **nan**, **isnan**. Estas funções também são utilizadas em **pandas** para marcar valores **ausentes**. \n",
    "\n",
    "> As funções **isnull** e **notnull** devem ser usadas para detectar dados ausentes num dataset."
   ]
  },
  {
   "cell_type": "code",
   "execution_count": null,
   "metadata": {},
   "outputs": [],
   "source": [
    "# exemplo de nan\n",
    "vet = np.array ([1,-1,0], dtype = np.float64) # define um vetor\n",
    "vet1 = vet/0                                  # operaçaõ de divisão*\n",
    "print(vet1)                                   # [1/0, -1/0, 0/0] -> 0/0 not a number (nan)!!!"
   ]
  },
  {
   "cell_type": "code",
   "execution_count": null,
   "metadata": {},
   "outputs": [],
   "source": [
    "# valores de um arquivo\n",
    "vet2 = np.array([0,-2.10, 4, 6, 20, 30, -10, np.NAN, 3, 5]) # vetor com valor nan\n",
    "vet2"
   ]
  },
  {
   "cell_type": "markdown",
   "metadata": {},
   "source": [
    "### ISNAN (isnan)\n",
    "> Função do Numpy que permite detectar valores especiais (nan)."
   ]
  },
  {
   "cell_type": "code",
   "execution_count": null,
   "metadata": {},
   "outputs": [],
   "source": [
    "# verificando se existe algum valor nao numerico nos elementos do array\n",
    "vet3 = np.isnan(vet1)    # vetor com um valor nan\n",
    "print(vet3)\n",
    "vet4 = np.isnan(vet2)    # vetor com um valor nan\n",
    "print(vet4)"
   ]
  },
  {
   "cell_type": "markdown",
   "metadata": {},
   "source": [
    "> O caracter **~** é usado para eliminar valores indesejados de um vetor/matriz"
   ]
  },
  {
   "cell_type": "code",
   "execution_count": null,
   "metadata": {},
   "outputs": [],
   "source": [
    "# exemplo: eliminar o elemento indesejado de um vetor\n",
    "print('O:',vet1)\n",
    "vet5 = vet1[~np.isnan(vet1)]\n",
    "print('R:',vet5)"
   ]
  },
  {
   "cell_type": "code",
   "execution_count": null,
   "metadata": {},
   "outputs": [],
   "source": [
    "# exemplo: elementos indesejado de uma matriz\n",
    "M = np.array([[1, 2, np.NAN],[np.NAN, -1, 0.5],[1, 2, 4]])\n",
    "M"
   ]
  },
  {
   "cell_type": "code",
   "execution_count": null,
   "metadata": {},
   "outputs": [],
   "source": [
    "# verificando a existencia de valores indesejados\n",
    "Y1 = np.isnan(M)\n",
    "print(Y1)"
   ]
  },
  {
   "cell_type": "code",
   "execution_count": null,
   "metadata": {},
   "outputs": [],
   "source": [
    "# eliminar valores nan numa matriz\n",
    "Y2 = M[~np.isnan(M)]\n",
    "Y2                    # OBS: a matriz é convertida para vetor, logo é um problema em aplicações!!!"
   ]
  },
  {
   "cell_type": "code",
   "execution_count": null,
   "metadata": {},
   "outputs": [],
   "source": [
    "# substituir e eliminar os elementos indesejandos de uma matriz\n",
    "print('M:')\n",
    "print(M)\n",
    "print('D:',Y1.shape)      # verifica as dimensões da matriz\n",
    "print('M[0,2]:',M[0,2])   # verifica o elemento da posição (0,2)\n",
    "M[0,2] = 10               # muda valor de nan para 10\n",
    "print('M[1,0]:',M[1,0])   # verific o elemento da posição (1,0)\n",
    "M[1,0] = 3.14             # # muda valor de nan para 3.14\n",
    "print(M)                  # visualiza a matriz"
   ]
  },
  {
   "cell_type": "markdown",
   "metadata": {},
   "source": [
    "# Fatiamentos"
   ]
  },
  {
   "cell_type": "markdown",
   "metadata": {},
   "source": [
    "> Usando a função **slice** para fatiar (extrair) linhas e colunas de uma matriz"
   ]
  },
  {
   "cell_type": "code",
   "execution_count": null,
   "metadata": {},
   "outputs": [],
   "source": [
    "# Usando a funcao: slice para extrair (fatiar) linhas\n",
    "Mat = np.array([[1, 2, np.NAN,-1],[np.NAN, -1, 0.5, 0.5],[1, 2, 4, -1],[3.5,5,8,0]])\n",
    "print('Mat:')\n",
    "print(Mat)\n",
    "print()\n",
    "# slice primeira linha\n",
    "print('L0:',Mat[0,:])     # extrair a linha 0 da matriz\n",
    "print()\n",
    "print('L3:',Mat[3,:])     # extrair a linha 3 da matriz"
   ]
  },
  {
   "cell_type": "code",
   "execution_count": null,
   "metadata": {},
   "outputs": [],
   "source": [
    "# slice a primeira coluna\n",
    "C2 = Mat[:,2]\n",
    "print('C2:',Mat[:,2])   # extrair todos os elementos da coluna 2"
   ]
  },
  {
   "cell_type": "code",
   "execution_count": null,
   "metadata": {},
   "outputs": [],
   "source": [
    "# slice a ultima coluna\n",
    "print('CF:',Mat[:,-1]) # slice a ultima coluna: -1"
   ]
  },
  {
   "cell_type": "code",
   "execution_count": null,
   "metadata": {},
   "outputs": [],
   "source": [
    "# slice a ultima fila: -1\n",
    "print('UF:',Mat[-1,:])"
   ]
  },
  {
   "cell_type": "code",
   "execution_count": null,
   "metadata": {},
   "outputs": [],
   "source": [
    "print('Mat:')\n",
    "print(Mat[:,:])  # visualiza a matriz completa"
   ]
  },
  {
   "cell_type": "code",
   "execution_count": null,
   "metadata": {},
   "outputs": [],
   "source": [
    "# slice com saída em uma submatriz\n",
    "sm = Mat[1:,2:]   # slice em submatriz:\n",
    "print(sm)"
   ]
  },
  {
   "cell_type": "code",
   "execution_count": null,
   "metadata": {},
   "outputs": [],
   "source": [
    "# slice para submatriz\n",
    "sm1 = Mat[1:,:2]  # submatriz\n",
    "print(sm1)"
   ]
  },
  {
   "cell_type": "code",
   "execution_count": null,
   "metadata": {},
   "outputs": [],
   "source": [
    "# Criando uma matriz x, com referencia y (atribuição) e uma copia z\n",
    "x = np.array([[1,1,1], [2,2,2], [3,3,3]])    # matrix x\n",
    "y = x                                        # y matriz refrencia de x\n",
    "z = np.copy(x)                               # z é copia da matriz x\n",
    "#x = np.array([[0,0,0], [1,1,1], [2,2,2]]) \n",
    "\n",
    "print('x:')\n",
    "print(x)\n",
    "print('y:')\n",
    "print(y)\n",
    "print('z:')\n",
    "print(z)"
   ]
  },
  {
   "cell_type": "code",
   "execution_count": null,
   "metadata": {},
   "outputs": [],
   "source": [
    "# mudando valores\n",
    "y[0,1] = -1   # mudando valores na matriz y\n",
    "print('x:')\n",
    "print(x)      # visualiza os valores da matriz x\n",
    "z[2,0]=-1     # muda valor de um elemento de z\n",
    "print('z:')\n",
    "print(z)      # visualiza os valores da matriz z \n",
    "print('x = y:')\n",
    "print(x==y)\n",
    "print('x = z:')\n",
    "print(x==z)"
   ]
  },
  {
   "cell_type": "markdown",
   "metadata": {},
   "source": [
    "> Uma **atribuição** no Python não copia objetos, ela cria uma ligação entre um objeto destino e um objeto fonte. Para coleções que são mutáveis (se pode mudar os valores) ou contêm itens mutáveis, às vezes é necessária uma cópia para que seja possível alterar uma ela sem alterar a outra.\n",
    "\n",
    "> **copy(x)**: retorna uma copia rasa de **x**. **deepcopy(x)**: retorna uma cópia profunda de **x**.\n",
    "\n",
    "> A diferença entre uma cópia **profunda** e **rasa** é relevante apenas para **objetos compostos** (objetos que contêm outros objetos, como listas ou instâncias de classe):\n",
    "> - Uma cópia **rasa** constrói um novo objeto composto e então (na medida do possível) insere nele referências aos objetos encontrados no original.\n",
    "> - Uma cópia **profunda** constrói um novo objeto composto e então, recursivamente, insere nele cópias dos objetos encontrados no original.\n",
    "\n",
    "> Maiores informações: [copy1](https://numpy.org/doc/stable/reference/generated/numpy.ndarray.copy.html). [copy2](https://docs.python.org/3/library/copy.html)"
   ]
  },
  {
   "cell_type": "code",
   "execution_count": null,
   "metadata": {},
   "outputs": [],
   "source": [
    "# exemplo de deepcopy\n",
    "\n",
    "import copy\n",
    "a = np.array([1,'a',[-1,1,2],3,4,5],dtype=object)\n",
    "print('a:',a)\n",
    "c = copy.deepcopy(a)\n",
    "print('c:',c)\n",
    "print('Modificando ...')\n",
    "c[2][1] = 'z'\n",
    "print('c:',c)\n",
    "print('a:',a)"
   ]
  },
  {
   "cell_type": "markdown",
   "metadata": {},
   "source": [
    "## Estátistica básica"
   ]
  },
  {
   "cell_type": "code",
   "execution_count": null,
   "metadata": {},
   "outputs": [],
   "source": [
    "# exemplo: um narray autoprrenchido com 40 pessoas de pessoas entre 55 e 90Kg\n",
    "peso_kg = np.linspace(55,90,num=40)\n",
    "print('Peso em Kg:')\n",
    "print(peso_kg)"
   ]
  },
  {
   "cell_type": "markdown",
   "metadata": {},
   "source": [
    "## Exemplo de uso de funções estatísticas triviais"
   ]
  },
  {
   "cell_type": "code",
   "execution_count": null,
   "metadata": {},
   "outputs": [],
   "source": [
    "# Uso de funcoes estatisticas simples\n",
    "# maximo\n",
    "maximo = peso_kg.max()\n",
    "print('Peso máximo :',maximo)\n",
    "# minimo\n",
    "minimo = peso_kg.min()\n",
    "print('Peso mínimo :',minimo)\n",
    "# somatorio\n",
    "soma = peso_kg.sum()\n",
    "print('Somatorio dos valores dos pesos :',soma)\n",
    "# media aritmetica\n",
    "media = peso_kg.mean()\n",
    "print('Média peso do conjunto :',media)\n",
    "# desvio padrao\n",
    "desv = peso_kg.std()\n",
    "print('Desvio padrão dos valores dos pesos :',desv)\n",
    "vart = peso_kg.var()\n",
    "print('Variância dos valores dos pesos :',vart)"
   ]
  },
  {
   "cell_type": "markdown",
   "metadata": {},
   "source": [
    "> **Observação**: Para variância e desvio padrão de **amostras**, acrescentar **ddof=1** (delta degrees of freedom). Neste caso **Grau de liberdade delta (ddof = 1)** é usado para garantir que sempre estamos usando a variancia e desvio-padrão amostral. \n",
    "\n",
    "> O desvio padrão de uma **população** é $ \\sigma^{2 } = \\frac{\\sum(x-\\mu)^{2}}{N}$. A estimativa do desvio padrão da população calculada a partir de uma **amostra** aleatória é \n",
    "$ s^{2} = \\frac{\\sum_{i=1}^{n}(x_{i}- \\bar{x})^{2}}{N-1}$. Onde $\\mu$ e $\\bar{x}$ são as médias da população e da amostra respecticamente. **N** é a população. O divisor usado nos cálculos é **N - ddof**.\n",
    "\n",
    "> Observando que **ddof = 0** indica uso da variancia e desvio-padrão populacional e **ddof=1** indica o uso da variancia e desvio-padrão amostral."
   ]
  },
  {
   "cell_type": "code",
   "execution_count": null,
   "metadata": {},
   "outputs": [],
   "source": [
    "#Amostra da populaçao\n",
    "desv1 = peso_kg.std(ddof=1)\n",
    "print('Desvio padrão dos valores da turma :',desv1)\n",
    "#Amostra da populaçao\n",
    "vart1 = peso_kg.var(ddof=1)\n",
    "print('Variância dos valores da turma :',vart1)"
   ]
  },
  {
   "cell_type": "markdown",
   "metadata": {},
   "source": [
    "### Compare os valores do desvio padrão e variança da população e da amostra. Observe as diferenças"
   ]
  },
  {
   "cell_type": "markdown",
   "metadata": {},
   "source": [
    "## Usando o MatPlotLib junto ao NumPy para exibir dados graficamente"
   ]
  },
  {
   "cell_type": "markdown",
   "metadata": {},
   "source": [
    "### Vamos desenhando gráficos bem simples - Quantitative variables "
   ]
  },
  {
   "cell_type": "markdown",
   "metadata": {},
   "source": [
    "> **MatplotLib** é biblioteca muito famosa para criar gráficos e é de código aberto. Com ela, podemos montar diversos tipos de gráficos. Para começar a usar a biblioteca, temos que **importar** ela ao ambiente de programação.\n",
    "\n",
    "> **MatPlotLib** é originária do **MatLab** e não é a unica bibliteca de gráficos que veremos nesse curso."
   ]
  },
  {
   "cell_type": "code",
   "execution_count": 39,
   "metadata": {},
   "outputs": [],
   "source": [
    "from matplotlib import pyplot as plt "
   ]
  },
  {
   "cell_type": "markdown",
   "metadata": {},
   "source": [
    "### Vamos começar do zero?"
   ]
  },
  {
   "cell_type": "markdown",
   "metadata": {},
   "source": [
    "A figura abaixo exibe os principais elementos de um gráficos MapPlotLib. Compreender ajudará a fazer ótimas visualizações.\n",
    "\n",
    "- Tipos de plots https://matplotlib.org/stable/tutorials/\n",
    "\n",
    "- Esquema de cores https://matplotlib.org/3.1.0/gallery/color/named_colors.html\n",
    "\n",
    "- Esquema de marcadores https://matplotlib.org/stable/api/markers_api.html\n"
   ]
  },
  {
   "attachments": {
    "image.png": {
     "image/png": "[encoded data removed]"
    }
   },
   "cell_type": "markdown",
   "metadata": {},
   "source": [
    "![image.png](attachment:image.png)"
   ]
  },
  {
   "cell_type": "markdown",
   "metadata": {},
   "source": [
    "### Gráficos de linhas"
   ]
  },
  {
   "cell_type": "code",
   "execution_count": null,
   "metadata": {},
   "outputs": [],
   "source": [
    "# Suponha o faturamnento de uma loja online\n",
    "# Dados são oriundo de 2 matrizes orunda dos sistemas\n",
    "meses = ['Janeiro', 'Fevereiro', 'Março', 'Abril', 'Maio', 'Junho']  # Eixo X\n",
    "valores = [105235, 107697, 110256, 109236, 108859, 109986]           # Eixo Y\n",
    "\n",
    "plt.plot(meses, valores)    # O método plot cria um gráfico de linhas, note que o limite dos eixos é automatico\n",
    "plt.show()                  # Show plot \n",
    "\n",
    "# Observe que esse gráfico foi gerado \"automaticamente\", ele pode ser \n",
    "# melhorado ao aplicar os conceitos da anatomia de um gráfico "
   ]
  },
  {
   "cell_type": "code",
   "execution_count": null,
   "metadata": {},
   "outputs": [],
   "source": [
    "plt.plot(meses, valores)                           # Atenção para os valores dos eixos\n",
    "plt.ylim(100000, 117500)                           # O método ylim cria limites para os valores do eixo Y\n",
    "plt.show()"
   ]
  },
  {
   "cell_type": "markdown",
   "metadata": {},
   "source": [
    "#### Detalhando as informações no gráfico"
   ]
  },
  {
   "cell_type": "code",
   "execution_count": null,
   "metadata": {},
   "outputs": [],
   "source": [
    "plt.plot(meses, valores)                                # Plot os dados nos eixos primários.\n",
    "plt.ylim(100000, 117500) \n",
    "plt.title('Faturamento no primeiro semestre de 2020')   # Definição do Title do gráfico\n",
    "plt.xlabel('Meses')                                     # label do Eixo X\n",
    "plt.ylabel('Faturamento em R$')                         # label do Eixo Y\n",
    "plt.show()\n",
    "\n",
    "#ax.plot(x, x, label='linear')  "
   ]
  },
  {
   "cell_type": "code",
   "execution_count": null,
   "metadata": {},
   "outputs": [],
   "source": [
    "# Trabalhando com várias curvas (plots simples) no mesmo gráfico sem legendas\n",
    "t = np.arange(0., 5., 0.2)\n",
    "plt.plot(t, t, 'r--', t, t**2, 'bs', t, t**3, 'g^')\n",
    "plt.show()"
   ]
  },
  {
   "cell_type": "code",
   "execution_count": null,
   "metadata": {},
   "outputs": [],
   "source": [
    "x = np.linspace(0, 2, 100)\n",
    "#\n",
    "plt.plot(x, x, label='linear')          # Plot some data on the (implicit) primary axes.\n",
    "plt.plot(x, x**2, label='quadratico')   # Plot some data on the (implicit) primary axes.\n",
    "plt.plot(x, x**3, label='cubico')       # Plot some data on the (implicit) primary axes.\n",
    "plt.xlabel('eixo X')                    # Add an x-label to the axes.\n",
    "plt.ylabel('eixo Y')                    # Add a y-label to the axes.\n",
    "plt.title(\"Plot Simples \")              # Add a title to the axes.\n",
    "plt.legend();                           # Add a legend.\n",
    "# tente substituir ---> plt.plot(x, x**3, 'g^', label='cubico')  # Veja o resultado"
   ]
  },
  {
   "cell_type": "markdown",
   "metadata": {},
   "source": [
    "# Inserir exemplos de subplot"
   ]
  },
  {
   "cell_type": "markdown",
   "metadata": {},
   "source": [
    "### Exemplo de eixo secundário e escalas distintas"
   ]
  },
  {
   "cell_type": "code",
   "execution_count": null,
   "metadata": {},
   "outputs": [],
   "source": [
    "fig, ax = plt.subplots(constrained_layout=True)\n",
    "\n",
    "x = np.arange(0, 360, 1)\n",
    "y = np.sin(2 * x * np.pi / 180)\n",
    "\n",
    "ax.plot(x, y)\n",
    "ax.set_xlabel('ângulo [graus]')\n",
    "ax.set_ylabel('sinal')\n",
    "ax.set_title('Senóide')\n",
    "\n",
    "def deg2rad(x):\n",
    "    return x * np.pi / 180\n",
    "\n",
    "def rad2deg(x):\n",
    "    return x * 180 / np.pi\n",
    "\n",
    "secax = ax.secondary_xaxis('top', functions=(deg2rad, rad2deg))\n",
    "secax.set_xlabel('ângulo [rad]')\n",
    "plt.show()"
   ]
  },
  {
   "cell_type": "markdown",
   "metadata": {},
   "source": [
    "### Multiplos Plots  ( Sub-plots)"
   ]
  },
  {
   "cell_type": "code",
   "execution_count": null,
   "metadata": {},
   "outputs": [],
   "source": [
    "# Exemplos de  sub plots múltiplos  \n",
    "# Exemplo 01\n",
    "\n",
    "fig, axs = plt.subplots(2, 2)\n",
    "axs[0, 0].plot(x, y)                # cor default é azul\n",
    "axs[0, 0].set_title('Eixo [0, 0]')\n",
    "axs[0, 1].plot(x, y, 'tab:orange')  # default é linha cheia \n",
    "axs[0, 1].set_title('Eixo [0, 1]')\n",
    "axs[1, 0].plot(x, -y, 'tab:green')\n",
    "axs[1, 0].set_title('Eixo [1, 0]')\n",
    "axs[1, 1].plot(x, -y, 'r--')         # estilo e cor\n",
    "axs[1, 1].set_title('Eixo [1, 1]')\n",
    "\n",
    "for ax in axs.flat:\n",
    "    ax.set(xlabel='x-label', ylabel='y-label')\n",
    "\n",
    "# Hide x labels and tick labels for top plots and y ticks for right plots.\n",
    "for ax in axs.flat:\n",
    "    ax.label_outer()"
   ]
  },
  {
   "cell_type": "markdown",
   "metadata": {},
   "source": [
    "### Multiplos Plots  (com sub-plots)"
   ]
  },
  {
   "cell_type": "code",
   "execution_count": null,
   "metadata": {},
   "outputs": [],
   "source": [
    "# Exemplos de sub plots múltiplos  \n",
    "# Exemplo 02\n",
    "def f(t):\n",
    "    return np.exp(-t) * np.cos(2*np.pi*t)\n",
    "\n",
    "t1 = np.arange(0.0, 5.0, 0.1)\n",
    "t2 = np.arange(0.0, 5.0, 0.02)\n",
    "\n",
    "plt.figure(1)\n",
    "plt.subplot(211)\n",
    "plt.plot(t1, f(t1), 'bo', t2, f(t2), 'k')\n",
    "\n",
    "plt.subplot(212)\n",
    "plt.plot(t2, np.cos(2*np.pi*t2), 'r.')\n",
    "plt.show()"
   ]
  },
  {
   "cell_type": "code",
   "execution_count": null,
   "metadata": {},
   "outputs": [],
   "source": [
    "# Exemplos de plots múltiplos  e legenda horrivel CUIDADO)\n",
    "# Exemplo 02\n",
    "\n",
    "a = b = np.arange(0, 3, .02)\n",
    "c = np.exp(a)\n",
    "d = c[::-1]\n",
    "\n",
    "# Criando Plots com labels pre-definidas.\n",
    "\n",
    "fig, ax = plt.subplots()\n",
    "ax.plot(a, c, 'k--', label='Modelo')\n",
    "ax.plot(a, d, 'k:', label='Dados')\n",
    "ax.plot(a, c + d, 'k', label='Total')\n",
    "legend = ax.legend(loc='upper center', shadow=True, fontsize='x-large')         #Posição da legenda\n",
    "legend.get_frame().set_facecolor('#01AFCD')                                     #Cor da legenda\n",
    "\n",
    "plt.show()"
   ]
  },
  {
   "cell_type": "markdown",
   "metadata": {},
   "source": [
    "### Exemplos de histograma"
   ]
  },
  {
   "cell_type": "code",
   "execution_count": null,
   "metadata": {},
   "outputs": [],
   "source": [
    "# Histograma\n",
    "# importando a biblioteca para graficos\n",
    "from matplotlib import pyplot as plt \n",
    "plt.hist(peso_kg, bins = [50, 60, 70, 80, 90, 100],color='g',alpha=0.5)  # dados, cor\n",
    "plt.title(\"Numpy Histograma\")\n",
    "plt.xlabel('Distribuição de peso da turma')\n",
    "plt.ylabel('Frequência de pesos')\n",
    "plt.grid(True)                                                           # habilita o Grid\n",
    "# show plot \n",
    "plt.show()"
   ]
  },
  {
   "cell_type": "code",
   "execution_count": null,
   "metadata": {},
   "outputs": [],
   "source": [
    "import matplotlib.pyplot as plt\n",
    "\n",
    "labels = ['G1', 'G2', 'G3', 'G4', 'G5']\n",
    "men_means = [20, 35, 30, 35, 27]           \n",
    "women_means = [25, 32, 34, 20, 25]\n",
    "men_std = [2, 3, 4, 1, 2]\n",
    "women_std = [3, 5, 2, 3, 3]\n",
    "width = 0.5                                   # the width of the bars: can also be len(x) sequence\n",
    "\n",
    "fig, ax = plt.subplots()                      # fig monta as bordas(fig) e as barras (ax)\n",
    "\n",
    "ax.bar(labels, men_means, width, yerr=men_std, label='Homens')\n",
    "ax.bar(labels, women_means, width, yerr=women_std, bottom=men_means, label='Mulheres')\n",
    "\n",
    "ax.set_ylabel('Scores')\n",
    "ax.set_xlabel('Grupos')\n",
    "ax.set_title('Histograma de Scores por grupo e gênero')\n",
    "ax.legend()\n",
    "\n",
    "plt.show()"
   ]
  },
  {
   "cell_type": "code",
   "execution_count": null,
   "metadata": {},
   "outputs": [],
   "source": [
    "import matplotlib.cbook as cbook\n",
    "import matplotlib.image as image\n",
    "\n",
    "with cbook.get_sample_data('D:\\\\Anaconda3\\\\Lib\\\\site-packages\\\\matplotlib\\\\mpl-data\\\\images\\\\matplotlib_large.png') as file:\n",
    "    im = image.imread(file)                         #Carrega marca d´água\n",
    "\n",
    "fig, ax = plt.subplots()                            #Define subplot fig e ax\n",
    "\n",
    "ax.bar(labels, men_means, width, yerr=men_std, label='Homens')\n",
    "ax.bar(labels, women_means, width, yerr=women_std, bottom=men_means, label='Mulheres')\n",
    "\n",
    "ax.set_ylabel('Scores')\n",
    "ax.set_xlabel('Grupos')\n",
    "ax.set_title('Histograma de Scores por grupo e gênero')\n",
    "ax.legend()\n",
    "ax.grid(True)   \n",
    "\n",
    "fig.figimage(im, 10, 10, zorder=3, alpha=.7)        #Imprime marca d´água no subplot fig\n",
    "\n",
    "plt.show()"
   ]
  },
  {
   "cell_type": "markdown",
   "metadata": {},
   "source": [
    "### Exemplo de distribuição de probabilidades"
   ]
  },
  {
   "cell_type": "code",
   "execution_count": null,
   "metadata": {},
   "outputs": [],
   "source": [
    "np.random.seed(19680801)\n",
    "\n",
    "mu, sigma = 100, 15\n",
    "x = mu + sigma * np.random.randn(10000)\n",
    "\n",
    "# Definindo o histograma de dados\n",
    "n, bins, patches = plt.hist(x, 50, density=True, facecolor='g', alpha=0.75)\n",
    "\n",
    "plt.xlabel('Inteligentes')\n",
    "plt.ylabel('Probabilidade')\n",
    "plt.title('Histograma de QI')\n",
    "plt.text(60, .025, r'$\\mu=100,\\; \\sigma=15$')\n",
    "plt.axis([40, 160, 0, 0.03])\n",
    "plt.grid(True)\n",
    "plt.show()"
   ]
  },
  {
   "cell_type": "markdown",
   "metadata": {},
   "source": [
    "---\n",
    "#### Fudamentos para Ciência Dados &copy; Copyright 2020, 2022, 2024 - Sergio Serra & Jorge Zavaleta"
   ]
  }
 ],
 "metadata": {
  "kernelspec": {
   "display_name": "Python 3 (ipykernel)",
   "language": "python",
   "name": "python3"
  },
  "language_info": {
   "codemirror_mode": {
    "name": "ipython",
    "version": 3
   },
   "file_extension": ".py",
   "mimetype": "text/x-python",
   "name": "python",
   "nbconvert_exporter": "python",
   "pygments_lexer": "ipython3",
   "version": "3.12.3"
  }
 },
 "nbformat": 4,
 "nbformat_minor": 4
}
