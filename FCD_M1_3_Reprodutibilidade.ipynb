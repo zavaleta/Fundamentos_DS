{
 "cells": [
  {
   "cell_type": "markdown",
   "metadata": {},
   "source": [
    "![PPGI_UFRJ](imagens/ppgi-ufrj.png)\n",
    "# Fundamentos de Ciência de Dados"
   ]
  },
  {
   "cell_type": "markdown",
   "metadata": {},
   "source": [
    "---\n",
    "# PPGI/UFRJ 2020.3/2022.2, 2024.2\n",
    "## Prof Sergio Serra e Jorge Zavaleta"
   ]
  },
  {
   "cell_type": "markdown",
   "metadata": {},
   "source": [
    "---\n",
    "# Reprodutibilidade em Python\n",
    "\n",
    "Fonte: Re-run, Repeat, Reproduce, Reuse, Replicate: Transforming Code into\n",
    "Scientific Contributions\n",
    "Fabien C. Y. Benureau  and Nicolas P. Rougier\n",
    "\n",
    "> \"Replicability is a cornerstone of science. If an experimental result cannot be re-obtained by an independent party, it merely becomes, at best, an observation that may inspire future research (Mesirov, 2010; Open Science Collaboration, 2015).\"\n",
    "\n",
    "# R0 - Irreproducibility\n",
    "\n",
    "A program can fail as a scientific contribution in many different ways for\n",
    "many different reasons, i.e. code errors; depracted methods; older compiler versions, lack od documentation, ..."
   ]
  },
  {
   "cell_type": "code",
   "execution_count": 10,
   "metadata": {},
   "outputs": [
    {
     "ename": "SyntaxError",
     "evalue": "Missing parentheses in call to 'print'. Did you mean print(...)? (22499713.py, line 6)",
     "output_type": "error",
     "traceback": [
      "\u001b[1;36m  Cell \u001b[1;32mIn[10], line 6\u001b[1;36m\u001b[0m\n\u001b[1;33m    print x,                              #print?\u001b[0m\n\u001b[1;37m    ^\u001b[0m\n\u001b[1;31mSyntaxError\u001b[0m\u001b[1;31m:\u001b[0m Missing parentheses in call to 'print'. Did you mean print(...)?\n"
     ]
    }
   ],
   "source": [
    "import random\n",
    "\n",
    "for i in xrange(10):                  #xrange?\n",
    "    step = random.choice([-1,+1])\n",
    "    x += step\n",
    "print x,                              #print? "
   ]
  },
  {
   "cell_type": "markdown",
   "metadata": {},
   "source": [
    "# R1 - Re-Runnable\n",
    "\n",
    "Re-runnable code should describe—with enough details to be recreated—an execution environment in which it is executable.  It is far from being either obvious or easy."
   ]
  },
  {
   "cell_type": "code",
   "execution_count": 11,
   "metadata": {},
   "outputs": [
    {
     "name": "stdout",
     "output_type": "stream",
     "text": [
      "[1, 2, 1, 2, 3, 2, 1, 2, 1, 0]\n"
     ]
    }
   ],
   "source": [
    "# Random walk (R1: re-runnable)\n",
    "# Tested with Python 3.8\n",
    "# Where S = steps, D = Data, E= Environmente and R = Results\n",
    "\n",
    "import random\n",
    "\n",
    "x =  0                              # Inicialization\n",
    "walk = []\n",
    "for i in range(10):                 # Loop - S’= S and D’= D\n",
    "    step = random.choice([-1,+1])   # random.choice() function returns a random element from the non-empty sequence - E’~ E\n",
    "    x += step                       # \n",
    "    walk.append(x)\n",
    "\n",
    "print(walk)                         # Output - R != R’"
   ]
  },
  {
   "cell_type": "markdown",
   "metadata": {},
   "source": [
    "### Run again, again and again...\n",
    "\n",
    "The output are the  same?\n",
    "\n",
    "#### S’= S and E’~ E and D’= D and R != R’ "
   ]
  },
  {
   "cell_type": "code",
   "execution_count": 12,
   "metadata": {},
   "outputs": [
    {
     "name": "stdout",
     "output_type": "stream",
     "text": [
      "[-1, -2, -1, -2, -1, -2, -3, -2, -1, -2]\n"
     ]
    }
   ],
   "source": [
    "# Random walk (R1: re-runnable)\n",
    "# Tested with Python 3.8\n",
    "# Where S = steps, D = Data, E= Environmente and R = Results\n",
    "\n",
    "import random\n",
    "\n",
    "x =  0                              # Inicialization\n",
    "walk = []\n",
    "for i in range(10):                 # Loop - S’= S and D’= D\n",
    "    step = random.choice([-1,+1])   # random.choice() function returns a random element from the non-empty sequence - E’~ E\n",
    "    x += step                       # \n",
    "    walk.append(x)\n",
    "\n",
    "print(walk)                         # Output - R != R’"
   ]
  },
  {
   "cell_type": "markdown",
   "metadata": {},
   "source": [
    "## R2 - Repeatable\n",
    "\n",
    "A repeatable code is one that can be rerun and that produces the SAME results on successive runs\n",
    "Program needs to be deterministic\n",
    "\n",
    "Control the initialization of pseudo-random number generators \n",
    "\n",
    "Previous results need to be available (it is possible to compare with current results) \n",
    "\n",
    "#### S’= S and E’~ E and D’= D and R = R’ "
   ]
  },
  {
   "cell_type": "code",
   "execution_count": 13,
   "metadata": {},
   "outputs": [
    {
     "name": "stdout",
     "output_type": "stream",
     "text": [
      "[-1, -2, -1, -2, -1, 0, 1, 2, 1, 0]\n"
     ]
    }
   ],
   "source": [
    "# Random walk (R2: repeatable)\n",
    "# Tested with Python 3\n",
    "\n",
    "import random\n",
    "\n",
    "random.seed(1)                     # RNG initialization\n",
    "\n",
    "x =  0                             # Inicialization\n",
    "walk = []\n",
    "for i in range(10):                # Loop - S’= S and D’= D           \n",
    "    step = random.choice([-1,+1])  # random.choice() function returns a random element from the non-empty sequence - E’~ E\n",
    "    x += step                      # pseudo-random number generator between Python 3.2 and Python 3.3.\n",
    "    walk.append(x)\n",
    "\n",
    "print(walk)\n",
    "                                   # Saving output to disk\n",
    "with open('data/results-R2.txt', 'w') as fd:\n",
    "    fd.write(str(walk))            # Output - R = R’ on the same Python engine!\n"
   ]
  },
  {
   "cell_type": "markdown",
   "metadata": {},
   "source": [
    "## R3 - Reproducible\n",
    "\n",
    "A repeatable code is one that can be rerun and that produces the SAME results on successive runs\n",
    "Program needs to be deterministic\n",
    "\n",
    "#### S’= S and E’~ E and D’= D and R = R’ "
   ]
  },
  {
   "cell_type": "code",
   "execution_count": 14,
   "metadata": {},
   "outputs": [
    {
     "name": "stdout",
     "output_type": "stream",
     "text": [
      "[-1, 0, 1, 0, -1, -2, -1, 0, -1, -2]\n"
     ]
    }
   ],
   "source": [
    "# Random walk (R3)\n",
    "# Copyright (c) 2017 N.P. Rougier and F.C.Y. Benureau\n",
    "# Adapted by Serra\n",
    "# Release under the Windows 10\n",
    "# Tested with 64 bit (AMD64) \n",
    "\n",
    "import sys, subprocess, datetime, random\n",
    "\n",
    "def compute_walk():\n",
    "    x = 0\n",
    "    walk = []\n",
    "    for i in range(10):\n",
    "        if random.uniform(-1, +1) > 0:\n",
    "            x += 1\n",
    "        else:\n",
    "            x -= 1\n",
    "        walk.append(x)\n",
    "    return walk\n",
    "\n",
    "# Unit test\n",
    "random.seed(42)\n",
    "assert compute_walk() == [1,0,-1,-2,-1,0,1,0,-1,-2]\n",
    "\n",
    "# Random walk for 10 steps\n",
    "seed = 1\n",
    "random.seed(seed)\n",
    "walk = compute_walk()\n",
    "\n",
    "# Display & Save scientific results & Poor Provenance\n",
    "# Update str(datetime.datetime.utcnow()) to datetime.datetime.now(datetime.UTC)\n",
    "\n",
    "print(walk)\n",
    "results = {\n",
    "    \"data\"     : walk,\n",
    "    \"seed\"     : seed,\n",
    "    \"timestamp\": str(datetime.datetime.now(datetime.UTC)),\n",
    "    \"system\"   : sys.version}\n",
    "with open(\"data/results-R3a.txt\", \"w\") as fd:\n",
    "    fd.write(str(results))\n"
   ]
  },
  {
   "cell_type": "markdown",
   "metadata": {},
   "source": [
    "## R3 - Reproducible \n",
    "\n",
    "A repeatable code is one that can be rerun and that produces the SAME results on successive runs\n",
    "Program needs to be deterministic\n",
    "\n",
    "#### S’= S and E’~ E and D’= D and R = R’ \n",
    "\n",
    "#### Some Provenance"
   ]
  },
  {
   "cell_type": "code",
   "execution_count": 15,
   "metadata": {},
   "outputs": [
    {
     "name": "stdout",
     "output_type": "stream",
     "text": [
      "[-1, 0, 1, 0, -1, -2, -1, 0, -1, -2]\n"
     ]
    }
   ],
   "source": [
    "# Copyright (c) 2017 N.P. Rougier and F.C.Y. Benureau\n",
    "# Adapted by Serra\n",
    "# Release under the Windows 10\n",
    "# Tested with 64 bit (AMD64) \n",
    "\n",
    "import sys, subprocess, datetime, random\n",
    "\n",
    "# Retrospective Provenance\n",
    "agent  =  \"Sergio Serra\"\n",
    "myseed = 42             \n",
    "\n",
    "def compute_walk():\n",
    "    x = 0\n",
    "    walk = []\n",
    "    for i in range(10):\n",
    "        if random.uniform(-1, +1) > 0:\n",
    "            x += 1\n",
    "        else:\n",
    "            x -= 1\n",
    "        walk.append(x)\n",
    "    return walk\n",
    "\n",
    "# If repository is dirty, don't run anything\n",
    "if subprocess.call((\"notepad\", \"diff-index\",\n",
    "                    \"--quiet\", \"HEAD\")):\n",
    "    print(\"Repository is dirty, please commit first\")\n",
    "    sys.exit(1)\n",
    "\n",
    "# Get git hash if any\n",
    "hash_cmd = (\"notepad\", \"rev-parse\", \"HEAD\")\n",
    "revision = subprocess.check_output(hash_cmd)\n",
    "\n",
    "# Unit test\n",
    "random.seed(int(myseed))\n",
    "assert compute_walk() == [1,0,-1,-2,-1,0,1,0,-1,-2]\n",
    "\n",
    "# Random walk for 10 steps\n",
    "seed = 1\n",
    "random.seed(seed)\n",
    "walk = compute_walk()\n",
    "\n",
    "# Display & save results & some retrospective provenance\n",
    "print(walk)\n",
    "results = {\n",
    "    \"data\"     : walk,\n",
    "    \"seed\"     : seed,\n",
    "    \"myseed\"   : myseed,\n",
    "    \"timestamp\": str(datetime.datetime.now(datetime.UTC)),\n",
    "    \"revision\" : revision,\n",
    "    \"system\"   : sys.version,\n",
    "    \"agent\"    : agent\n",
    "    }\n",
    "with open(\"data/results-R3b.txt\", \"w\") as fd:\n",
    "    fd.write(str(results))\n"
   ]
  },
  {
   "cell_type": "markdown",
   "metadata": {},
   "source": [
    "## R3 - Reproducible - Rich Version\n",
    "\n",
    "A repeatable code is one that can be rerun and that produces the SAME results on successive runs\n",
    "Program needs to be deterministic\n",
    "\n",
    "#### S’= S and E’~ E and D’= D and R = R’ \n",
    "\n",
    "#### Data Provenance - Poor view"
   ]
  },
  {
   "cell_type": "code",
   "execution_count": 16,
   "metadata": {},
   "outputs": [
    {
     "name": "stdout",
     "output_type": "stream",
     "text": [
      "[-1, 0, 1, 0, -1, -2, -1, 0, -1, -2]\n"
     ]
    }
   ],
   "source": [
    "# Random walk (R4)\n",
    "# Copyright (c) 2017 N.P. Rougier and F.C.Y. Benureau\n",
    "# Adapted by Serra\n",
    "# Release under the Windows 10\n",
    "# Pyhton 3.8 - Jupyter notebook\n",
    "# Tested with 64 bit (AMD64) \n",
    "\n",
    "import sys, subprocess, datetime, random\n",
    "\n",
    "# Retrospective Provenance\n",
    "agent    = input(\"Enter the name of the one who is running the program: \")      #PROV-Agent\n",
    "entity   = input(\"Enter the name of the Dataset: \")                             #PROV-Entity\n",
    "activity = input(\"Enter the name of the Essay: \")                               #PROV-Activity\n",
    "\n",
    "def compute_walk(count, x0=0, step=1, seed=0):\n",
    "    \"\"\"Random walk\n",
    "       count: number of steps\n",
    "       x0   : initial position (default 0)\n",
    "       step : step size (default 1)\n",
    "       seed : seed for the initialization of the\n",
    "\t     random generator (default 0)\n",
    "    \"\"\"\n",
    "    random.seed(seed)\n",
    "    x = x0\n",
    "    walk = []\n",
    "    for i in range(count):\n",
    "        if random.uniform(-1, +1) > 0:\n",
    "            x += 1\n",
    "        else:\n",
    "            x -= 1\n",
    "        walk.append(x)\n",
    "    return walk\n",
    "\n",
    "def compute_results(count, x0=0, step=1, seed=0):\n",
    "    \"\"\"Compute a walk and return it with context\"\"\"\n",
    "    # If repository is dirty, don't do anything\n",
    "    if subprocess.call((\"notepad\", \"diff-index\",\n",
    "                        \"--quiet\", \"HEAD\")):\n",
    "        print(\"data/Repository is dirty, please commit\")\n",
    "        sys.exit(1)\n",
    "\n",
    "    # Get git hash if any\n",
    "    hash_cmd = (\"notepad\", \"rev-parse\", \"HEAD\")\n",
    "    revision = subprocess.check_output(hash_cmd)\n",
    "\n",
    "    # Compute results and Full Retrospective Provenance\n",
    "    walk = compute_walk(count=count, x0=x0,\n",
    "                        step=step, seed=seed)\n",
    "    return {\n",
    "        \"data\"      : walk,\n",
    "        \"parameters\": {\"count\": count, \"x0\": x0,\n",
    "                       \"step\": step, \"seed\": seed},\n",
    "        \"timestamp\" : str(datetime.datetime.now(datetime.UTC)),\n",
    "        \"revision\"  : revision,\n",
    "        \"system\"    : sys.version,\n",
    "        \"Provenance\": { \n",
    "                        \"PROV-agent \"     : agent,  \"wasAttributedTo \"\n",
    "                        \"PROV-entity \"    : entity, \"wasGeneratedBy \"\n",
    "                        \"PROV-activity \"  : activity}\n",
    "           }\n",
    "\n",
    "if __name__ == \"__main__\":\n",
    "    # Unit test checking reproducibility\n",
    "    # (will fail with Python<=3.2)\n",
    "    assert (compute_walk(10, 0, 1, 42) ==\n",
    "\t        [1,0,-1,-2,-1,0,1,0,-1,-2])\n",
    "\n",
    "    # Simulation parameters\n",
    "    count, x0, seed = 10, 0, 1\n",
    "    results = compute_results(count, x0=x0, seed=seed)\n",
    "\n",
    "    # Save & display results\n",
    "    with open(\"data/results-R4.txt\", \"w\") as fd:\n",
    "        fd.write(str(results))\n",
    "    print(results[\"data\"])"
   ]
  },
  {
   "cell_type": "markdown",
   "metadata": {
    "editable": true,
    "slideshow": {
     "slide_type": ""
    },
    "tags": []
   },
   "source": [
    "---\n",
    "#### &copy; Copyright 2021-2022, 2024.2 - Sergio Serra & Jorge Zavaleta"
   ]
  }
 ],
 "metadata": {
  "kernelspec": {
   "display_name": "Python 3 (ipykernel)",
   "language": "python",
   "name": "python3"
  },
  "language_info": {
   "codemirror_mode": {
    "name": "ipython",
    "version": 3
   },
   "file_extension": ".py",
   "mimetype": "text/x-python",
   "name": "python",
   "nbconvert_exporter": "python",
   "pygments_lexer": "ipython3",
   "version": "3.12.3"
  }
 },
 "nbformat": 4,
 "nbformat_minor": 4
}
