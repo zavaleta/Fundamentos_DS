{
 "cells": [
  {
   "cell_type": "markdown",
   "metadata": {},
   "source": [
    "![PPGI_UFRJ](imagens/ppgi-ufrj.png)\n",
    "# Fundamentos de Ciencia de Dados"
   ]
  },
  {
   "cell_type": "markdown",
   "metadata": {},
   "source": [
    "---\n",
    "# PPGI/UFRJ 2020.3, 2022.2, 2024.2\n",
    "## Prof Sergio Serra e Jorge Zavaleta"
   ]
  },
  {
   "cell_type": "markdown",
   "metadata": {},
   "source": [
    "---\n",
    "# Módulo 1 - Introdução a Python"
   ]
  },
  {
   "cell_type": "markdown",
   "metadata": {},
   "source": [
    "**Python** é uma linguagem de programação de alto nível, interpretada de script, imperativa, orientada a objetos, funcional, de tipagem dinâmica e forte. Gratuita de uso geral com uma elegante sintaxe, disponível em várias plataformas, incluindo Windows, Linux e macOS.\n",
    "\n",
    "Python possui vários tipos de dados integrados, incluindo strings, inteiros e listas. Esses tipos de dados podem ser usados ​​para armazenar e manipular diferentes tipos de informações em um programa. Além desses tipos de dados básicos, Python também possui tipos de dados avançados, como dicionários e conjuntos. Python também possui um módulo integrado para operações de entrada/saída, que permite que um programa leia e grave em fontes externas, como arquivos e fluxos.\n",
    "\n",
    "A linguagem Python pode ser usada em uma ampla gama de aplicações, como ciência de dados, ciência da computação, engenharia de software, matemática, ciências biológicas, linguística e jornalismo. No entanto, aprender programação Python para ciência de dados requer conhecimento específico único, adaptado ao seu uso nesse campo. \n",
    "\n",
    "A caminhada pelos diversos notebooks do curso de Fundamentos de Ciência de Dados (FCD) apresentará os fundamentos da sintaxe python para ciência de dados, incluindo: \n",
    "- Tipos de dados (listas, tuplas, strings, sequências, conjuntos, dicionários)\n",
    "- Variáveis ​​\n",
    "- Operadores e expressões\n",
    "- Instruções (atribuições, comentários, instruções if, para instruções, e instruções while)\n",
    "- Funções (funções integradas, funções de módulo, funções definidas pelo usuário e funções lambda)"
   ]
  },
  {
   "cell_type": "markdown",
   "metadata": {},
   "source": [
    "## Palavras-chave \n",
    "Em Python, uma palavra-chave é uma palavra que possui um significado especial na linguagem Python. Palavras-chave são usadas para definir a sintaxe e a estrutura da Linguagem Python e não podem ser usados ​​como identificadores (ou seja, nomes de variáveis, nomes de funções, etc.) no código Python.\n",
    "\n",
    "Podemos verificar as palavras-chave com os seguintes comandos:"
   ]
  },
  {
   "cell_type": "code",
   "execution_count": null,
   "metadata": {},
   "outputs": [],
   "source": [
    "# keywords list\n",
    "import keyword as key\n",
    "#visualiza a lista de palavas-chave\n",
    "print(key.kwlist)"
   ]
  },
  {
   "cell_type": "markdown",
   "metadata": {},
   "source": [
    "## Identificadores"
   ]
  },
  {
   "cell_type": "markdown",
   "metadata": {},
   "source": [
    "Um identificador em Python é um nome usado para identificar uma variável, função, classe, módulo ou outros objetos. Existem algumas regras e convenções para nomear identificadores em Python:\n",
    "- Os identificadores devem começar com uma letra ou sublinhado (_). \n",
    "- Os identificadores não podem começar com um número.\n",
    "- Os identificadores só podem conter letras, números e sublinhados. \n",
    "- Os identificadores diferenciam maiúsculas de minúsculas, portanto myVariable e myvariable são considerados identificadores diferentes.\n",
    "- Python reserva um conjunto de palavras-chave que não podem ser usadas como identificadores. Por exemplo: if, else, for, class, etc.\n",
    "- Os identificadores devem ser descritivos e significativos."
   ]
  },
  {
   "cell_type": "markdown",
   "metadata": {},
   "source": [
    "Exemplos de identificadores válidos em Python:\n",
    "- myVariavel\n",
    "- _privateVariavel\n",
    "- contador\n",
    "- calcular_promedio\n",
    "- MinhaClasse\n",
    "\n",
    "Exemplos de identificadores inválidos em Python:\n",
    "- 2daVariavel (começa com um número)\n",
    "- mi-variavel (contém um hífen)\n",
    "- if (palavra-chave reservada)\n",
    "- True (palavra-chave reservada)\n",
    "- class (palavra-chave reservada)"
   ]
  },
  {
   "cell_type": "markdown",
   "metadata": {},
   "source": [
    "Convenções mais avançadas para identificadores Python: \n",
    "1. O nome da classe começa com uma letra maiúscula. Todos os outros identificadores começam com uma letra minúscula. \n",
    "2. Iniciar um identificador com um único sublinhado (_) indica que o identificador é privado. \n",
    "3. Começar um identificador com dois sublinhados iniciais (__) indica que o identificador é um identificador fortemente privado. \n",
    "4. Se o identificador também terminar com dois sublinhados à direita, o identificador será um nome especial definido no idioma."
   ]
  },
  {
   "cell_type": "markdown",
   "metadata": {},
   "source": [
    "## Script"
   ]
  },
  {
   "cell_type": "markdown",
   "metadata": {},
   "source": [
    "Um programa python é denominado de **script** e é uma sequencia de definições e comandos. As definições são avaliadas e os comandos são executados pelo interpretador python, chamando de **shell**."
   ]
  },
  {
   "cell_type": "markdown",
   "metadata": {},
   "source": [
    "**Objetos** são os elementos fundamentais que a linguagem manipula. Cada objeto tem um **tipo** que define a variedade de manipulações (operações) que o programa pode fazer com este objeto.\n",
    "\n",
    "Os tipos podem ser de duas classes: **Escalares** e **não escalares**\n",
    "\n",
    "- **Escalares**: Objetos indivisiveis ou atómicos.\n",
    "    1. **int** representa números inteiros.\n",
    "    2. **float** representa números reais.\n",
    "    3. **bool** usada para representar valores booleanos True e False.\n",
    "    \n",
    "    \n",
    "- **Não escalares**: Objetos que têm uma estrutura interna, por exemplo, **strings**"
   ]
  },
  {
   "cell_type": "markdown",
   "metadata": {},
   "source": [
    "Uma **Expressões** é a combinação de objetos e operadores. Uma expressão retorna um **valor** de algum **tipo**."
   ]
  },
  {
   "cell_type": "markdown",
   "metadata": {},
   "source": [
    "## Operadores"
   ]
  },
  {
   "cell_type": "markdown",
   "metadata": {},
   "source": [
    "Python oferece suporte a um rico conjunto de operadores integrados. Um Operador é um símbolo especial que informa ao computador para realizar certas operações matemáticas e lógicas, como adição e multiplicação. Os operadores fazem parte das expressões matemáticas e lógicas. Uma expressão é uma sequência de operandos e operadores que se reduz a um único valor. \n",
    "\n",
    "Os operadores Python podem ser classificados nas seguintes categorias:\n",
    "1. Operadores aritméticos \n",
    "2. Operadores relacionais \n",
    "3. Operadores lógicos \n",
    "4. Operadores de atribuição"
   ]
  },
  {
   "cell_type": "markdown",
   "metadata": {},
   "source": [
    "### Operadores ariméticos\n",
    "\n",
    "Python fornece todos os operadores aritméticos básicos. Eles estão listados na Tabela a seguir. Os operadores *, /, + e – funcionam da mesma forma que em outras linguagens."
   ]
  },
  {
   "cell_type": "markdown",
   "metadata": {},
   "source": [
    "Tabela 1: Operadores aritméticos (x=3,y=5)\n",
    "| Operdador    | Significado    | instâncias | Resultado |\n",
    "|:------------:|:---------------|:----------:|:---------:|\n",
    "| +            | Adição         | x + y      | 8         |\n",
    "| -            | Subtração      | x - y      | -2        |\n",
    "| *            | Multiplicação  | x*y        | 15        |\n",
    "| /            | Divisão        |  y/x       | 1,66      |\n",
    "| **           | Exponenciação  |  x**y      | 243       |\n",
    "| //           | Divisão inteira| y//x       | 1         |\n",
    "| %            | Resto (Módulo) | y%x        | 2         |"
   ]
  },
  {
   "cell_type": "markdown",
   "metadata": {},
   "source": [
    "### Operadores relacionais"
   ]
  },
  {
   "cell_type": "markdown",
   "metadata": {},
   "source": [
    "Tabela 2: Operadores relacionais (x=3,y=5)\n",
    "| Operdador    | Significado      | instâncias | Resultado |\n",
    "|:------------:|:-----------------|:----------:|:---------:|\n",
    "| ==           | Igual a          | x == y     | False     |\n",
    "| !=           | Diferente        | x != y     | True      |\n",
    "| >            | Maior que        | x > y      | False     |\n",
    "| <            | Menor que        | x < y      | True      |\n",
    "| >=           | Maior ou igual a | x >= y     | False     |\n",
    "| <=           | Menor ou igual a | x <= y     | True      |"
   ]
  },
  {
   "cell_type": "markdown",
   "metadata": {},
   "source": [
    "**Operadores matemáticos e de comparação**:"
   ]
  },
  {
   "cell_type": "code",
   "execution_count": null,
   "metadata": {},
   "outputs": [],
   "source": [
    "# soma: +\n",
    "10 + 4"
   ]
  },
  {
   "cell_type": "code",
   "execution_count": null,
   "metadata": {},
   "outputs": [],
   "source": [
    "# subtração: -\n",
    "10 - 4"
   ]
  },
  {
   "cell_type": "code",
   "execution_count": null,
   "metadata": {},
   "outputs": [],
   "source": [
    "# multiplicacao\n",
    "10*4"
   ]
  },
  {
   "cell_type": "code",
   "execution_count": null,
   "metadata": {},
   "outputs": [],
   "source": [
    "# divisao\n",
    "10/4"
   ]
  },
  {
   "cell_type": "code",
   "execution_count": null,
   "metadata": {},
   "outputs": [],
   "source": [
    "# divisao inteira \n",
    "10//4"
   ]
  },
  {
   "cell_type": "code",
   "execution_count": null,
   "metadata": {},
   "outputs": [],
   "source": [
    "# resto da divisao\n",
    "10%4"
   ]
  },
  {
   "cell_type": "code",
   "execution_count": null,
   "metadata": {},
   "outputs": [],
   "source": [
    "# potencia de um numero\n",
    "10**4"
   ]
  },
  {
   "cell_type": "code",
   "execution_count": null,
   "metadata": {},
   "outputs": [],
   "source": [
    "# comparacao: >\n",
    "10 >4"
   ]
  },
  {
   "cell_type": "code",
   "execution_count": null,
   "metadata": {},
   "outputs": [],
   "source": [
    "# comparacao: <, >, <=, >=, != \n",
    "10 < 4"
   ]
  },
  {
   "cell_type": "code",
   "execution_count": null,
   "metadata": {},
   "outputs": [],
   "source": [
    "10 != 4"
   ]
  },
  {
   "cell_type": "code",
   "execution_count": null,
   "metadata": {},
   "outputs": [],
   "source": [
    "# como saber o tipo da expressao\n",
    "print(type(10.3))\n",
    "print(type(3))\n",
    "print(type('s'))"
   ]
  },
  {
   "cell_type": "markdown",
   "metadata": {},
   "source": [
    "**Operadores booleanos**\n",
    "- **a and b**: True, se a e b são verdadeiros e False nos outros casos.\n",
    "- **a or b**: True, se a e b são True ou algum valor de a ou b são verdadeiros, nos outros casos False.\n",
    "- **not a**: True se for False e False de for True."
   ]
  },
  {
   "cell_type": "markdown",
   "metadata": {},
   "source": [
    "### Python como máquina de Calcular"
   ]
  },
  {
   "cell_type": "code",
   "execution_count": null,
   "metadata": {},
   "outputs": [],
   "source": [
    "# soma de numeros\n",
    "7 + 4"
   ]
  },
  {
   "cell_type": "code",
   "execution_count": null,
   "metadata": {},
   "outputs": [],
   "source": [
    "# multiplicacao de numeros\n",
    "10 * 5"
   ]
  },
  {
   "cell_type": "code",
   "execution_count": null,
   "metadata": {},
   "outputs": [],
   "source": [
    "# divisao\n",
    "10/5"
   ]
  },
  {
   "cell_type": "code",
   "execution_count": null,
   "metadata": {},
   "outputs": [],
   "source": [
    "# resto de divisao\n",
    "10 % 2"
   ]
  },
  {
   "cell_type": "code",
   "execution_count": null,
   "metadata": {},
   "outputs": [],
   "source": [
    "# string\n",
    "'Curso' + ' de '+' Data Science'"
   ]
  },
  {
   "cell_type": "code",
   "execution_count": null,
   "metadata": {},
   "outputs": [],
   "source": [
    "# duplicacao de string\n",
    "' curso '*10"
   ]
  },
  {
   "cell_type": "markdown",
   "metadata": {},
   "source": [
    "### Variáveis e Atribuição\n",
    "\n",
    "Uma **variável** é um nome de dados que pode ser usado para armazenar um valor de dados. Ao contrário das constantes que permanecem inalteradas durante a execução de um programa, uma variável pode assumir valores diferentes em momentos diferentes durante a execução.\n",
    "\n",
    "As **variáveis** fornecem uma forma de associar **nomes** com objetos. Pode ser usada qualquer palavra para determinar uma variriável com exeção das palavras reservadas da linguagem, tipo *for*, *else*, *int*, *float*, etc.\n",
    "\n",
    "*O nome de uma variável pode ser escolhido pelo programador de forma significativa, de modo a refletir sua função ou natureza no programa*."
   ]
  },
  {
   "cell_type": "code",
   "execution_count": null,
   "metadata": {},
   "outputs": [],
   "source": [
    "# exemplo de variavel (nome), atribuicao (=) e valor da atribuição\n",
    "# documentar\n",
    "pi = 3.14   # pi\n",
    "r = 4\n",
    "# --documentar\n",
    "area = pi*(r**2)  # r**2\n",
    "#area\n",
    "print('area de X:>',area)  # imprime valor final\n",
    "#\n"
   ]
  },
  {
   "cell_type": "code",
   "execution_count": null,
   "metadata": {},
   "outputs": [],
   "source": [
    "area"
   ]
  },
  {
   "cell_type": "code",
   "execution_count": null,
   "metadata": {},
   "outputs": [],
   "source": [
    "x = [1,2,3,4,5]\n",
    "#x\n",
    "print('x=',x)"
   ]
  },
  {
   "cell_type": "code",
   "execution_count": null,
   "metadata": {},
   "outputs": [],
   "source": [
    "x1 =['a',2,'aqui',40,'calor',1.0]\n",
    "x1"
   ]
  },
  {
   "cell_type": "code",
   "execution_count": null,
   "metadata": {},
   "outputs": [],
   "source": [
    "x1[2]"
   ]
  },
  {
   "cell_type": "code",
   "execution_count": null,
   "metadata": {},
   "outputs": [],
   "source": [
    "# atribuicao de valores boolianos\n",
    "a = 4\n",
    "b = False  # b= True\n",
    "r= a and b\n",
    "print(r)"
   ]
  },
  {
   "cell_type": "markdown",
   "metadata": {},
   "source": [
    "### Visualização de variáveis"
   ]
  },
  {
   "cell_type": "code",
   "execution_count": null,
   "metadata": {},
   "outputs": [],
   "source": [
    "# visualizacao de variaveis\n",
    "nome = 'Rio de Janeiro é considerada a Cidade Maravilhosa'\n",
    "# visualizar - 1: nome da variavel\n",
    "nome"
   ]
  },
  {
   "cell_type": "code",
   "execution_count": null,
   "metadata": {},
   "outputs": [],
   "source": [
    "# visualizar - 2: usando o comando print()\n",
    "print(nome)"
   ]
  },
  {
   "cell_type": "code",
   "execution_count": null,
   "metadata": {},
   "outputs": [],
   "source": [
    "# visualizar - 3: usaando comando print()\n",
    "print('Um fato:',nome)"
   ]
  },
  {
   "cell_type": "code",
   "execution_count": null,
   "metadata": {},
   "outputs": [],
   "source": [
    "#visualizacao - 4: usando o comando print()\n",
    "print(nome,' ...',' sengundo a Revista Fofoca')"
   ]
  },
  {
   "cell_type": "markdown",
   "metadata": {},
   "source": [
    "### Tipos de Dados\n",
    "\n",
    "Python fornece uma rica coleção de tipos de dados para permitir que os programadores executem praticamente qualquer tarefa de programação que desejarem em outra linguagem. A linguagem fornece muitos tipos de dados úteis e únicos (como listas, tuplas e dicionários).\n",
    "\n",
    "Python é conhecido como uma linguagem de tipo dinâmico, o que significa que não precisamos identificar explicitamente o tipo de dados ao inicializar uma variável. \n",
    "\n",
    "Um **tipo** de dato é um conjuntos de valores e operações que podem ser realizados com esses valores."
   ]
  },
  {
   "cell_type": "markdown",
   "metadata": {},
   "source": [
    "**Tipos numéricos**"
   ]
  },
  {
   "cell_type": "markdown",
   "metadata": {},
   "source": [
    "- **Inteiro**: *int*"
   ]
  },
  {
   "cell_type": "code",
   "execution_count": null,
   "metadata": {},
   "outputs": [],
   "source": [
    "# exemplo de int\n",
    "n_i = 4\n",
    "n_i"
   ]
  },
  {
   "cell_type": "code",
   "execution_count": null,
   "metadata": {},
   "outputs": [],
   "source": [
    "# visualizar o tipo de dado\n",
    "type(n_i)"
   ]
  },
  {
   "cell_type": "markdown",
   "metadata": {},
   "source": [
    "- **Real**:*float*"
   ]
  },
  {
   "cell_type": "code",
   "execution_count": null,
   "metadata": {},
   "outputs": [],
   "source": [
    "# exemplo de float\n",
    "f = 3.9\n",
    "f"
   ]
  },
  {
   "cell_type": "code",
   "execution_count": 38,
   "metadata": {},
   "outputs": [],
   "source": [
    "# visualizar o tipo de dados"
   ]
  },
  {
   "cell_type": "code",
   "execution_count": null,
   "metadata": {},
   "outputs": [],
   "source": [
    "type(f)"
   ]
  },
  {
   "cell_type": "markdown",
   "metadata": {},
   "source": [
    "- **Complexo**: *complex*"
   ]
  },
  {
   "cell_type": "code",
   "execution_count": null,
   "metadata": {},
   "outputs": [],
   "source": [
    "# exemplo de numero complexo\n",
    "nc1 = 3+4j\n",
    "nc1"
   ]
  },
  {
   "cell_type": "code",
   "execution_count": null,
   "metadata": {},
   "outputs": [],
   "source": [
    "type(nc1)"
   ]
  },
  {
   "cell_type": "markdown",
   "metadata": {},
   "source": [
    "#### Strings\n",
    "\n",
    "Uma **string** é uma sequência de caracteres fechados entre aspas simples ou duplas."
   ]
  },
  {
   "cell_type": "code",
   "execution_count": null,
   "metadata": {},
   "outputs": [],
   "source": [
    "# exemplo de string\n",
    "cidade1 = 'Rio de Janeiro'\n",
    "cidade2 = \"Niterói\"\n",
    "print(cidade1)\n",
    "print(cidade2)"
   ]
  },
  {
   "cell_type": "code",
   "execution_count": null,
   "metadata": {},
   "outputs": [],
   "source": [
    "# outra forma de apresentar?\n",
    "print(cidade1+' '+cidade2)"
   ]
  },
  {
   "cell_type": "markdown",
   "metadata": {},
   "source": [
    "- **função**: **str(objeto)** - retorna um objeto de tipo *string*"
   ]
  },
  {
   "cell_type": "code",
   "execution_count": null,
   "metadata": {},
   "outputs": [],
   "source": [
    "# exemplo de uso de str() - numero2string\n",
    "str(10)"
   ]
  },
  {
   "cell_type": "code",
   "execution_count": null,
   "metadata": {
    "scrolled": true
   },
   "outputs": [],
   "source": [
    "# exemplo de criacao de str()\n",
    "string_vazia = str()\n",
    "type(string_vazia)"
   ]
  },
  {
   "cell_type": "markdown",
   "metadata": {},
   "source": [
    "#### Operações Básicas com Strings"
   ]
  },
  {
   "cell_type": "markdown",
   "metadata": {},
   "source": [
    "- **Concatenação de strings**:**+**"
   ]
  },
  {
   "cell_type": "code",
   "execution_count": null,
   "metadata": {},
   "outputs": [],
   "source": [
    "# exemplo de concatenacao\n",
    "print(cidade1+cidade2)"
   ]
  },
  {
   "cell_type": "code",
   "execution_count": null,
   "metadata": {},
   "outputs": [],
   "source": [
    "# outra forma?\n",
    "print(' ..',cidade1,' ',cidade2)"
   ]
  },
  {
   "cell_type": "code",
   "execution_count": null,
   "metadata": {},
   "outputs": [],
   "source": [
    "# tipo ?\n",
    "type(cidade1)"
   ]
  },
  {
   "cell_type": "markdown",
   "metadata": {},
   "source": [
    "- **Sequências repetidas de string**: \\*"
   ]
  },
  {
   "cell_type": "code",
   "execution_count": null,
   "metadata": {},
   "outputs": [],
   "source": [
    "tres_vezes = cidade1*3 + '-'+str(50)\n",
    "tres_vezes"
   ]
  },
  {
   "cell_type": "markdown",
   "metadata": {},
   "source": [
    "- Verificar a existência de uma string em outras string. Retorna **True** ou **False**"
   ]
  },
  {
   "cell_type": "code",
   "execution_count": 50,
   "metadata": {},
   "outputs": [],
   "source": [
    "# exemplo\n",
    "s1 = 'O coronavírus esta solto na cidade do Rio de Janeiro'\n",
    "s2 = 'cidade'"
   ]
  },
  {
   "cell_type": "code",
   "execution_count": null,
   "metadata": {},
   "outputs": [],
   "source": [
    "# exemplo\n",
    "s3='Araruama'\n",
    "r1 = s2 in s1\n",
    "r2 = s3 in s1\n",
    "print(r2)"
   ]
  },
  {
   "cell_type": "code",
   "execution_count": null,
   "metadata": {},
   "outputs": [],
   "source": [
    "print(s3 in s1)"
   ]
  },
  {
   "cell_type": "code",
   "execution_count": null,
   "metadata": {},
   "outputs": [],
   "source": [
    "# exemplo\n",
    "r2 = s2 not in s1\n",
    "r2"
   ]
  },
  {
   "cell_type": "markdown",
   "metadata": {},
   "source": [
    "- Comparação de **strings**: <, >, >=, <=, ==, !="
   ]
  },
  {
   "cell_type": "code",
   "execution_count": null,
   "metadata": {},
   "outputs": [],
   "source": [
    "# exemplo de comparacao\n",
    "print(s1 == s2)\n",
    "#print(s1 > s2) # why?"
   ]
  },
  {
   "cell_type": "markdown",
   "metadata": {},
   "source": [
    "- **Funções de strings**: *len()*,*max()*,*min()* "
   ]
  },
  {
   "cell_type": "code",
   "execution_count": null,
   "metadata": {},
   "outputs": [],
   "source": [
    "# tamanho da string\n",
    "l1 = len(s1)\n",
    "l1"
   ]
  },
  {
   "cell_type": "code",
   "execution_count": null,
   "metadata": {},
   "outputs": [],
   "source": [
    "# max()\n",
    "mx = max(s1)\n",
    "mx"
   ]
  },
  {
   "cell_type": "code",
   "execution_count": null,
   "metadata": {},
   "outputs": [],
   "source": [
    "# min()\n",
    "mi = min(s1)\n",
    "mi"
   ]
  },
  {
   "cell_type": "markdown",
   "metadata": {},
   "source": [
    "- **Índices** - indica a posição de um caracter na string"
   ]
  },
  {
   "cell_type": "code",
   "execution_count": null,
   "metadata": {},
   "outputs": [],
   "source": [
    "# exemplo do tamanho de uma string\n",
    "tam = len(s1)\n",
    "p0 = s1[10]\n",
    "p0"
   ]
  },
  {
   "cell_type": "markdown",
   "metadata": {},
   "source": [
    "## Listas"
   ]
  },
  {
   "cell_type": "markdown",
   "metadata": {},
   "source": [
    "Uma **lista** é uma sequência de zero ou mais objetos. Usa-se os \"[]\" para indicar uma lista."
   ]
  },
  {
   "cell_type": "markdown",
   "metadata": {},
   "source": [
    "### Operadores de Listas"
   ]
  },
  {
   "cell_type": "code",
   "execution_count": null,
   "metadata": {
    "scrolled": true
   },
   "outputs": [],
   "source": [
    "# exemplo de lista\n",
    "lista = [1,4,\"oi\",'Teste']\n",
    "print(lista)\n",
    "lista0 = [10, 'a',4-5j,3.1]\n",
    "print(lista0)\n",
    "print(len(lista0))\n",
    "print(lista0[3])"
   ]
  },
  {
   "cell_type": "markdown",
   "metadata": {},
   "source": [
    "| Operador | ação |\n",
    "|:----------|:-------------|\n",
    "| []        | lista vazia |\n",
    "|append()   | adiciona elementos|\n",
    "| sort()    | ordena os elementos |\n",
    "| insert()  | insere elementos|\n",
    "| pop()     | elimina o último elemento |\n",
    "| remove()  | remove um elemento |"
   ]
  },
  {
   "cell_type": "code",
   "execution_count": null,
   "metadata": {},
   "outputs": [],
   "source": [
    "# exemplo de listas\n",
    "Lista = []\n",
    "print('Lista vazia L:',Lista)\n",
    "Lista.append(34)\n",
    "print('append(34)-> L:',Lista)\n",
    "Lista.append(22)\n",
    "print('append(22)-> L:',Lista)\n",
    "Lista.append(50)\n",
    "print('append(50)-> L:',Lista)\n",
    "Lista.append(-10)\n",
    "print('append(-10)-> L:',Lista)\n",
    "Lista.sort()\n",
    "print('sort(L)-> L:',Lista)\n",
    "Lista.pop()\n",
    "print('pop()-> L:',Lista)\n",
    "Lista.insert(0, 40)\n",
    "print('insert(0,40)-> L:',Lista)\n",
    "Lista.insert(1, 55) \n",
    "print('insert(1,55)-> L:',Lista)\n",
    "Lista.pop(1)\n",
    "print('pop(1)-> L:',Lista)\n",
    "Lista.remove(22)\n",
    "print('remove(22)-> L:',Lista)\n",
    "print('O que acontece com os elementos da lista L?')\n",
    "Lista.remove(55) #\n",
    "print('remove(55)-> L:',Lista)"
   ]
  },
  {
   "cell_type": "code",
   "execution_count": null,
   "metadata": {},
   "outputs": [],
   "source": [
    "# split(): converte uma string em lista\n",
    "s = 'Rio de Janeiro está em lockdown por causa da pandemia COVID-19'\n",
    "r = s.split()\n",
    "print(r)"
   ]
  },
  {
   "cell_type": "code",
   "execution_count": null,
   "metadata": {},
   "outputs": [],
   "source": [
    "# acesar elementos da lista usando o indice\n",
    "elemento = r[5]\n",
    "print('Elemento na posição 6:> ',elemento)"
   ]
  },
  {
   "cell_type": "code",
   "execution_count": null,
   "metadata": {},
   "outputs": [],
   "source": [
    "# join(): Converte uma lista em string\n",
    "ns =\" \".join(r)\n",
    "print('ns:',ns)\n"
   ]
  },
  {
   "cell_type": "markdown",
   "metadata": {},
   "source": [
    "### Indexação e Fatiamento de listas"
   ]
  },
  {
   "cell_type": "code",
   "execution_count": null,
   "metadata": {},
   "outputs": [],
   "source": [
    "# list index\n",
    "print('Indexação de uma Lista')\n",
    "#print('')\n",
    "texto =['Python','para','Data Science','curso','introdutório']\n",
    "t0 = texto[0]\n",
    "t4 = texto[4]\n",
    "print('  texto-0:>',t0)\n",
    "print('  texto-4:>',t4)"
   ]
  },
  {
   "cell_type": "code",
   "execution_count": null,
   "metadata": {},
   "outputs": [],
   "source": [
    "# posicao do elemento numa lista\n",
    "elemento = texto[3]\n",
    "print('Elemento :>',elemento)\n",
    "pos = texto.index(elemento)\n",
    "print('Posição do elemento :>',pos)"
   ]
  },
  {
   "cell_type": "code",
   "execution_count": null,
   "metadata": {
    "scrolled": true
   },
   "outputs": [],
   "source": [
    "# numero de elementos de uma lista\n",
    "l = len(texto)\n",
    "print('Número de elemento :>',l)"
   ]
  },
  {
   "cell_type": "code",
   "execution_count": null,
   "metadata": {},
   "outputs": [],
   "source": [
    "# sum(). max(); min()\n",
    "numeros = [23,25,28,45,33,20]\n",
    "s1 = sum(numeros)\n",
    "print('Soma :>',s1)\n",
    "print('Máximo :>',max(numeros))\n",
    "print('Mínimo :>',min(numeros))"
   ]
  },
  {
   "cell_type": "code",
   "execution_count": null,
   "metadata": {},
   "outputs": [],
   "source": [
    "# any(): verifica se algum dos elementos de uma lista é TRUE (iterable)\n",
    "an1 = any([0,0,0,False,0])\n",
    "print('A1:>',an1)\n",
    "an2 = any([4,0,0,False,0])\n",
    "print('A2:>',an2)\n",
    "an3 = any([0,0,0,False,''])\n",
    "print('A3:>',an3)\n",
    "an4 = any([0,0,0,False,'Casa'])\n",
    "print('A4:>',an4)"
   ]
  },
  {
   "cell_type": "code",
   "execution_count": null,
   "metadata": {},
   "outputs": [],
   "source": [
    "# all() - Retorna TRUE se todos os items de um objeto são \"iterable\" são TRUE\n",
    "al1 = all([1,1,1,1])\n",
    "print('AL1:>',al1)\n",
    "al2 = all([1,1,1,0])\n",
    "print('AL2:>',al2)\n",
    "al3 = all([1,1,1,''])\n",
    "print('AL3:>',al3)\n",
    "al4 = all([1,1,1,'J'])\n",
    "print('AL4:>',al4)"
   ]
  },
  {
   "cell_type": "code",
   "execution_count": null,
   "metadata": {},
   "outputs": [],
   "source": [
    "# ordena uma lista\n",
    "#L = ['Z','z','a','A']\n",
    "L = [5,3,2,-1,1,4]\n",
    "lo = sorted(L)\n",
    "print('Lista ordenada :>',lo) # menor -> maior\n",
    "lr = sorted(L, reverse=True) # maior -> menor\n",
    "print('Lista ordenada :>',lr)"
   ]
  },
  {
   "cell_type": "code",
   "execution_count": null,
   "metadata": {},
   "outputs": [],
   "source": [
    "# ordenando palavras\n",
    "texto = \"COVID-19, Araruama\"\n",
    "T = sorted(texto)\n",
    "print('T:>',T)"
   ]
  },
  {
   "cell_type": "code",
   "execution_count": null,
   "metadata": {},
   "outputs": [],
   "source": [
    "# criar uma lista interativa\n",
    "items_da_lista = []\n",
    "total_de_items = int(input(\"Ingressar o número de items:\"))\n",
    "for i in range(total_de_items):\n",
    "    item = input(\" Item da lista:> \")\n",
    "    items_da_lista.append(item)\n",
    "print(f\"Lista de items: {items_da_lista}\")\n",
    "print()\n",
    "print('Número de elementos da lista :> ',len(items_da_lista))"
   ]
  },
  {
   "cell_type": "code",
   "execution_count": null,
   "metadata": {},
   "outputs": [],
   "source": [
    "# fatiamento (slices) usando os indices\n",
    "txt =\"O transporte público está um caos\"\n",
    "print('texto :>',txt)\n",
    "txt1 = txt[3:]\n",
    "print('txt:>',txt1)\n",
    "txt2 = txt[3:20]\n",
    "print('txt:>',txt2)"
   ]
  },
  {
   "cell_type": "code",
   "execution_count": null,
   "metadata": {},
   "outputs": [],
   "source": [
    "# 5 valores iniciais\n",
    "txt5 = txt[:5]\n",
    "txt5"
   ]
  },
  {
   "cell_type": "code",
   "execution_count": null,
   "metadata": {},
   "outputs": [],
   "source": [
    "# valores \n",
    "txt4 = txt[12:20]\n",
    "txt4"
   ]
  },
  {
   "cell_type": "code",
   "execution_count": null,
   "metadata": {},
   "outputs": [],
   "source": [
    "# slice(inicio:fim,step)\n",
    "lv = [0, 10, 20, 30, 40, 50, 60, 70, 80]\n",
    "#\n",
    "print('Lista de valores :>',lv)\n",
    "sl = slice(2,8,2)\n",
    "print('valores :> ',lv[sl])"
   ]
  },
  {
   "cell_type": "code",
   "execution_count": null,
   "metadata": {},
   "outputs": [],
   "source": [
    "# Eliminar um elemento\n",
    "del lv[0]\n",
    "print(lv)"
   ]
  },
  {
   "cell_type": "code",
   "execution_count": null,
   "metadata": {},
   "outputs": [],
   "source": [
    "# indice negativo\n",
    "t1 = lv[-1]\n",
    "t1"
   ]
  },
  {
   "cell_type": "code",
   "execution_count": null,
   "metadata": {},
   "outputs": [],
   "source": [
    "# indice negativo\n",
    "t2 = lv[:-1]\n",
    "t2"
   ]
  },
  {
   "cell_type": "markdown",
   "metadata": {},
   "source": [
    "## Dicionários\n",
    "Um **dicionário** tem zero ou mais entradas. A cada entrada tem associdada uma chave única e um valor **{key:valor}**"
   ]
  },
  {
   "cell_type": "markdown",
   "metadata": {},
   "source": [
    "- {} : dicionário vazio\n",
    "- {\"nome\":\"Jorge\"} : uma entrada\n",
    "- {\"nome\":\"Jorge\", \"Idade\":57} : duas entradas\n",
    "- {\"hobbies\":[\"Leitura\",\"viajar\"]} : uma entrada e o valor é uma lista"
   ]
  },
  {
   "cell_type": "code",
   "execution_count": null,
   "metadata": {},
   "outputs": [],
   "source": [
    "# exemplo de dicionario\n",
    "mesNumero = {'Janeiro':1, 'Fevereiro':2, 'Março':3, 'Abril':4, 'Maio':5, \n",
    "             1:'Janeiro', 2:'Fevereiro', 3:'Março', 4:'Abril', 5:'Maio'}\n",
    "#\n",
    "print('O terceiro mês é ' + mesNumero[3])\n",
    "distancia = mesNumero['Abril'] - mesNumero['Janeiro']\n",
    "print('De Abril a Janeiro são', distancia, 'mêses de espaço ')"
   ]
  },
  {
   "cell_type": "code",
   "execution_count": null,
   "metadata": {},
   "outputs": [],
   "source": [
    "# chaves do dicionario\n",
    "chaves = mesNumero.keys()\n",
    "print('Chaves:> ',chaves)"
   ]
  },
  {
   "cell_type": "code",
   "execution_count": null,
   "metadata": {},
   "outputs": [],
   "source": [
    "# valores do dicionario\n",
    "valores  = mesNumero.values()\n",
    "print('Valores:>',valores)"
   ]
  },
  {
   "cell_type": "code",
   "execution_count": null,
   "metadata": {},
   "outputs": [],
   "source": [
    "# verificar chaves\n",
    "key = 'três'\n",
    "res = key in chaves\n",
    "print('Resultado da consulta :>',res)"
   ]
  },
  {
   "cell_type": "code",
   "execution_count": null,
   "metadata": {},
   "outputs": [],
   "source": [
    "# verificar valor do key = 2\n",
    "valor = mesNumero[2]\n",
    "print('Resultado da consulta :>',valor)"
   ]
  },
  {
   "cell_type": "code",
   "execution_count": null,
   "metadata": {},
   "outputs": [],
   "source": [
    "# iteracao sobre as chaves \n",
    "for key in mesNumero:\n",
    "    print('Chave:>',key)"
   ]
  },
  {
   "cell_type": "markdown",
   "metadata": {},
   "source": [
    "## Funções"
   ]
  },
  {
   "cell_type": "code",
   "execution_count": 86,
   "metadata": {},
   "outputs": [],
   "source": [
    "# def nome_funcao (lista_de_parametros):\n",
    "#    <sequencia_de_expressoes>"
   ]
  },
  {
   "cell_type": "code",
   "execution_count": 87,
   "metadata": {},
   "outputs": [],
   "source": [
    "# exemplo de funcao\n",
    "def soma(a,b):\n",
    "    return a+b"
   ]
  },
  {
   "cell_type": "code",
   "execution_count": null,
   "metadata": {},
   "outputs": [],
   "source": [
    "# uso da funcao\n",
    "so = soma(7,2000)\n",
    "print('Soma:>',so)"
   ]
  },
  {
   "cell_type": "code",
   "execution_count": null,
   "metadata": {},
   "outputs": [],
   "source": [
    "def valorx(a):\n",
    "    if a > 3:\n",
    "        x='verdade'\n",
    "    x='falso'\n",
    "    return x\n",
    "#\n",
    "t = valorx(23) # chama a funcao\n",
    "#\n",
    "print('Valor :>',t)"
   ]
  },
  {
   "cell_type": "markdown",
   "metadata": {},
   "source": [
    "## Exercícios\n",
    "Prática dos conteúdos estudados: construindo e operando listas e strings"
   ]
  },
  {
   "cell_type": "markdown",
   "metadata": {},
   "source": [
    "1. Seja x='cachorro' e y='gato'. Quais são os valores retornados pelas operações:\n",
    "    - x + y\n",
    "    - \"O\" + x + \"não gosta de \" + y\n",
    "    - x*6"
   ]
  },
  {
   "cell_type": "markdown",
   "metadata": {},
   "source": [
    "2. Escreva uma string que contenha nome, endereço, bairro e cidade:\n",
    "    - Em linhas diferentes\n",
    "    - Na mesma linha"
   ]
  },
  {
   "cell_type": "markdown",
   "metadata": {},
   "source": [
    "3. Quais das seguintes variáveis são nomes válidos?\n",
    "    - a) length\n",
    "    - b) _width\n",
    "    - c) firstBase\n",
    "    - d) 2MaisDois\n",
    "    - e) halt!"
   ]
  },
  {
   "cell_type": "markdown",
   "metadata": {},
   "source": [
    "4. Que tipo de dados seria mais apropriado para representar os seguintes valores?\n",
    "    - o número de meses de um ano\n",
    "    - a área de um círculo\n",
    "    - o salário mínimo atual\n",
    "    - a idade do universo\n",
    "    - seu nome"
   ]
  },
  {
   "cell_type": "markdown",
   "metadata": {},
   "source": [
    "5. Seja x = 4 e y = 0.5. Escrever os valores das seguintes expressões:\n",
    "    - a) x + y * 3\n",
    "    - b) (x + y) * 3\n",
    "    - c) x ** y\n",
    "    - d) x % y\n",
    "    - e) x / 12.0\n",
    "    - f) x / 6"
   ]
  },
  {
   "cell_type": "markdown",
   "metadata": {},
   "source": [
    "6. Seja x = 5.33. Escrever os valores das seguintes expressões:\n",
    "    - a) round(x)\n",
    "    - b) int(x)\n",
    "    \n",
    " Têm alguma diferença?"
   ]
  },
  {
   "cell_type": "markdown",
   "metadata": {},
   "source": [
    "7. Se pode concatenar um valor numérico e uma string?. Apresente exemplos."
   ]
  },
  {
   "cell_type": "markdown",
   "metadata": {},
   "source": [
    "8. Definir funções para as operações matemáticas básicas. "
   ]
  },
  {
   "cell_type": "markdown",
   "metadata": {},
   "source": [
    "---\n",
    "#### &copy; Copyright 2021, 2022, 2024 - Sergio Serra & Jorge Zavaleta"
   ]
  }
 ],
 "metadata": {
  "kernelspec": {
   "display_name": "Python 3 (ipykernel)",
   "language": "python",
   "name": "python3"
  },
  "language_info": {
   "codemirror_mode": {
    "name": "ipython",
    "version": 3
   },
   "file_extension": ".py",
   "mimetype": "text/x-python",
   "name": "python",
   "nbconvert_exporter": "python",
   "pygments_lexer": "ipython3",
   "version": "3.12.3"
  }
 },
 "nbformat": 4,
 "nbformat_minor": 4
}
