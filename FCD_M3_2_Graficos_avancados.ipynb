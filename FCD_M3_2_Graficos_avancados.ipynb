{
 "cells": [
  {
   "cell_type": "markdown",
   "metadata": {},
   "source": [
    "![PPGI_UFRJ](imagens/ppgi-ufrj.png)\n",
    "# Fundamentos de Ciência de Dados"
   ]
  },
  {
   "cell_type": "markdown",
   "metadata": {},
   "source": [
    "---\n",
    "[![DOI](https://zenodo.org/badge/335308405.svg)](https://zenodo.org/badge/latestdoi/335308405)"
   ]
  },
  {
   "cell_type": "markdown",
   "metadata": {},
   "source": [
    "---\n",
    "# PPGI/UFRJ 2020.3, 2002.2, 2024.2\n",
    "## Prof. Sergio Serra e Jorge Zavaleta"
   ]
  },
  {
   "cell_type": "markdown",
   "metadata": {},
   "source": [
    "---\n",
    "# Módulo 3 - Gráficos Avançados"
   ]
  },
  {
   "cell_type": "markdown",
   "metadata": {},
   "source": [
    "## Bokeh - Gráficos interativos\n",
    "\n",
    "**Bokeh** é uma biblioteca Python para a criação de visualizações interativas para navegadores da web modernos e permite construir belos gráficos, desde plotagens simples a painéis complexos com conjuntos de dados de \"streaming\". Bokeh permite criar visualizações baseadas em JavaScript sem escrever código. Maiores detalhes -> [Bokeh](https://bokeh.org/). [Docs](https://docs.bokeh.org/en/latest/)\n",
    "\n",
    "> - Visualização interativa em navegadores modernos\n",
    "> - Documentos HTML autônomos ou aplicativos de servidor\n",
    "> - Gráficos expressivos e versáteis\n",
    "> - Dados grandes, dinâmicos ou de streaming\n",
    "> - Fácil uso de python (ou Scala, ou R)\n",
    "\n",
    "> **Instalação**:\n",
    "> \n",
    "> Anaconda:```conda install -c bokeh bokeh```\n",
    ">\n",
    "> pip:```pip install bokeh```"
   ]
  },
  {
   "cell_type": "markdown",
   "metadata": {},
   "source": [
    "### Importando a bibliotecas"
   ]
  },
  {
   "cell_type": "code",
   "execution_count": 1,
   "metadata": {},
   "outputs": [],
   "source": [
    "# importando as bibliotecas\n",
    "import matplotlib as mpl                       # usada ocasionalmente 3D\n",
    "import matplotlib.pyplot as plt                # importar a biblioteca matplotlib\n",
    "import numpy as np                             # importar numpy\n",
    "import pandas as pd                            # importat pandas\n",
    "#plt.style.use('classic')                       # estilo da biblioteca\n",
    "%matplotlib inline                            \n",
    "#%config InlineBackend.figure_format='svg'"
   ]
  },
  {
   "cell_type": "code",
   "execution_count": 2,
   "metadata": {},
   "outputs": [],
   "source": [
    "# 1.importar a biblioteca\n",
    "from bokeh.io import output_notebook\n",
    "from bokeh.plotting import figure, show"
   ]
  },
  {
   "cell_type": "code",
   "execution_count": null,
   "metadata": {},
   "outputs": [],
   "source": [
    "# 2. verificar se está funcioando corretamente\n",
    "output_notebook()"
   ]
  },
  {
   "cell_type": "code",
   "execution_count": 4,
   "metadata": {},
   "outputs": [],
   "source": [
    "# 3. gerando os dados\n",
    "x = np.linspace(-6, 6, 100)\n",
    "y = np.cos(x)"
   ]
  },
  {
   "cell_type": "code",
   "execution_count": null,
   "metadata": {},
   "outputs": [],
   "source": [
    "# 4. gerando o grafico\n",
    "f = figure(width=500, height=500, title='coseno(x)')           # gera figura de 500x500\n",
    "f.xaxis.axis_label = 'valores de x'\n",
    "f.yaxis.axis_label = 'valores de cosen(x)'\n",
    "#f.circle(x, y, size=7, color=\"firebrick\", alpha=0.5)          # circulos de tamanho 7\n",
    "f.scatter(x, y, size=7, color=\"blue\", alpha=0.7) \n",
    "show(f)                                                       # mostra a figura"
   ]
  },
  {
   "cell_type": "markdown",
   "metadata": {},
   "source": [
    "### Bokeh - Bar"
   ]
  },
  {
   "cell_type": "code",
   "execution_count": null,
   "metadata": {},
   "outputs": [],
   "source": [
    "# exemplo barras cidades com maior população - Brasil\n",
    "from bokeh.io import output_file, show\n",
    "from bokeh.models import ColumnDataSource\n",
    "from bokeh.palettes import Spectral6, viridis\n",
    "from bokeh.plotting import figure\n",
    "from bokeh.transform import factor_cmap\n",
    "# \n",
    "#output_file(\"bar_colormapped.html\")       #saida externa HTML\n",
    "output_notebook()                          # saida no notebook"
   ]
  },
  {
   "cell_type": "code",
   "execution_count": null,
   "metadata": {},
   "outputs": [],
   "source": [
    "# leitura de dados\n",
    "br_data = pd.read_csv('data/br-cities.csv',delimiter=',')  # leitura dataset\n",
    "#br_data.head(10)\n",
    "maior_popu = br_data.sort_values(by=['population'], ascending=False)  # ordena de maior a menor\n",
    "cid_pop = maior_popu[['city','population']]                           # dataset = cidade e popu\n",
    "cp_10 = cid_pop[0:10]                                                 # extrae as 10 cidades com maior populacao\n",
    "cp_10.head(10)"
   ]
  },
  {
   "cell_type": "code",
   "execution_count": null,
   "metadata": {},
   "outputs": [],
   "source": [
    "# arruma dos valores\n",
    "ci_po = cp_10.copy()   # copy\n",
    "ci_po['population'] = cp_10['population']/100000    # fator de divisão\n",
    "#\n",
    "ci_po.head(10)"
   ]
  },
  {
   "cell_type": "code",
   "execution_count": 10,
   "metadata": {},
   "outputs": [],
   "source": [
    "# cria a data\n",
    "x_data = ci_po['city']\n",
    "y_data = ci_po['population']\n",
    "data = ColumnDataSource(data=dict(x_data=x_data, y_data=y_data))     "
   ]
  },
  {
   "cell_type": "code",
   "execution_count": null,
   "metadata": {},
   "outputs": [],
   "source": [
    "from bokeh.palettes import magma, Category10                  # paleta de cores\n",
    "#\n",
    "p = figure(x_range=x_data,\n",
    "           #plot_width=600,\n",
    "           #plot_height=450, \n",
    "           outer_height = 450,\n",
    "           #toolbar_location=None, \n",
    "           title=\"Cidades do Brasil com maior população\"\n",
    "          )  # cria figura\n",
    "p.vbar(x='x_data', \n",
    "       top='y_data', \n",
    "       width=0.9, \n",
    "       source=data, \n",
    "       legend_field=\"x_data\",\n",
    "       line_color='white',\n",
    "       #fill_color=factor_cmap('x_data', palette=viridis(10), factors=x_data)  # cores\n",
    "       #fill_color=factor_cmap('x_data', palette=magma(10), factors=x_data)\n",
    "       #fill_color=factor_cmap('x_data', palette=Spectral6[10], factors=x_data)   # 6 cores\n",
    "       fill_color=factor_cmap('x_data', palette=Category10[10], factors=x_data)\n",
    "      )\n",
    "#\n",
    "#p.xaxis.major_label_orientation = \"vertical\"  # legend orientation\n",
    "#p.legend.orientation = \"horizontal\"\n",
    "p.xaxis.major_label_orientation = np.pi/4 #np.math.pi/4   # legend orientation by angle pi/x\n",
    "#p.legend.location = \"top_center\"\n",
    "show(p)"
   ]
  },
  {
   "cell_type": "code",
   "execution_count": null,
   "metadata": {},
   "outputs": [],
   "source": [
    "from bokeh.io import curdoc\n",
    "from bokeh.plotting import figure, output_file, show\n",
    "#\n",
    "x = np.random.randint(-5,5,10)\n",
    "y = x*x+10\n",
    "#\n",
    "# theme\n",
    "#curdoc().theme = 'dark_minimal'\n",
    "#\n",
    "p = figure(title='Grafico de linhas', width=350, height=350)\n",
    "p.line(x, y)\n",
    "#\n",
    "show(p)"
   ]
  },
  {
   "cell_type": "code",
   "execution_count": 20,
   "metadata": {},
   "outputs": [],
   "source": [
    "# dados pre-inslados\n",
    "from bokeh.sampledata.autompg import autompg\n",
    "#\n",
    "#print(autompg)\n",
    "#dados = pd.DataFrame(autompg)\n",
    "#print(dados.head(10))\n",
    "#\n",
    "grouped = autompg.groupby(\"yr\")\n",
    "\n",
    "mpg = grouped.mpg\n",
    "avg, std = mpg.mean(), mpg.std()\n",
    "years = list(grouped.groups)\n",
    "american = autompg[autompg[\"origin\"]==1]\n",
    "japanese = autompg[autompg[\"origin\"]==3]"
   ]
  },
  {
   "cell_type": "code",
   "execution_count": null,
   "metadata": {},
   "outputs": [],
   "source": [
    "# graficar a distribuicao por ano\n",
    "#\n",
    "curdoc().theme = 'caliber'\n",
    "#\n",
    "p = figure(title=\"MPG by Year (Japan and US)\")\n",
    "#\n",
    "p.vbar(x=years, bottom=avg-std, top=avg+std, width=0.8, \n",
    "       fill_alpha=0.2, line_color=None, legend_label=\"MPG 1 stddev\")\n",
    "#\n",
    "p.scatter(x=japanese[\"yr\"], y=japanese[\"mpg\"], size=10, alpha=0.5,\n",
    "         color=\"red\", legend_label=\"Japanese\")\n",
    "#\n",
    "p.scatter(marker='triangle',x=american[\"yr\"], y=american[\"mpg\"], size=10, alpha=0.3,\n",
    "           color=\"blue\", legend_label=\"American\")\n",
    "#\n",
    "p.legend.location = \"top_left\"                          #  posicao dos rotulos\n",
    "show(p)"
   ]
  },
  {
   "cell_type": "markdown",
   "metadata": {},
   "source": [
    "### Bokeh - Colunas (subplots)"
   ]
  },
  {
   "cell_type": "code",
   "execution_count": null,
   "metadata": {},
   "outputs": [],
   "source": [
    "# exemplo de linked colunas (subplor)\n",
    "from bokeh.models import ColumnDataSource      # dados das colunas\n",
    "from bokeh.layouts import gridplot\n",
    "from bokeh.layouts import row\n",
    "#\n",
    "source = ColumnDataSource(autompg)\n",
    "#\n",
    "options = dict(width=300, height=300, tools=\"pan,wheel_zoom,box_zoom,box_select,lasso_select,save,reset\")\n",
    "#\n",
    "p1 = figure(title=\"MPG by Year\",**options)\n",
    "p1.scatter(\"yr\", \"mpg\", color=\"blue\", source=source)\n",
    "#\n",
    "p2 = figure(title=\"HP vs. Displacement\",**options)\n",
    "p2.scatter(\"hp\", \"displ\", color=\"green\", source=source)\n",
    "#\n",
    "p3 = figure(title=\"MPG vs. Displacement\", **options)\n",
    "p3.scatter(\"mpg\", \"displ\", size=\"cyl\", line_color=\"red\", fill_color=None, source=source)\n",
    "# row\n",
    "show(row(p1,p2,p3))\n",
    "#p = gridplot([[ p1, p2, p3]], toolbar_location=\"right\")\n",
    "#\n",
    "#show(p)"
   ]
  },
  {
   "cell_type": "markdown",
   "metadata": {},
   "source": [
    "### Bokeh - Iris"
   ]
  },
  {
   "cell_type": "code",
   "execution_count": null,
   "metadata": {},
   "outputs": [],
   "source": [
    "from bokeh.plotting import figure, output_file, show\n",
    "from bokeh.sampledata.iris import flowers\n",
    "#\n",
    "colormap = {'setosa': 'red', 'versicolor': 'green', 'virginica': 'blue'}\n",
    "colors = [colormap[x] for x in flowers['species']]\n",
    "#\n",
    "p = figure(title = \"Morfologia do Iris dataset\")\n",
    "p.xaxis.axis_label = 'Petal Length'\n",
    "p.yaxis.axis_label = 'Petal Width'\n",
    "#\n",
    "p.scatter(flowers[\"petal_length\"], flowers[\"petal_width\"],color=colors, fill_alpha=0.2, size=10)\n",
    "#\n",
    "#output_file(\"iris.html\", title=\"iris.py example\")\n",
    "#\n",
    "show(p)"
   ]
  },
  {
   "cell_type": "markdown",
   "metadata": {},
   "source": [
    "### Bokeh - Standalone HTML"
   ]
  },
  {
   "cell_type": "code",
   "execution_count": null,
   "metadata": {},
   "outputs": [],
   "source": [
    "# Abre em outra pagina HTML\n",
    "from bokeh.plotting import output_file\n",
    "#\n",
    "output_file(\"exemplo_bokeh.html\",title=\"exemplo_bokeh.py\")             # pagina externa html\n",
    "#\n",
    "p = figure(title=\"MPG by Year (Japan and US)\")\n",
    "#\n",
    "p.vbar(x=years, bottom=avg-std, top=avg+std, width=0.8, \n",
    "       fill_alpha=0.2, line_color=None, legend_label=\"MPG 1 stddev\")\n",
    "#\n",
    "p.scatter(x=japanese[\"yr\"], y=japanese[\"mpg\"], size=10, alpha=0.3,\n",
    "         color=\"red\", legend_label=\"Japanese\")\n",
    "#\n",
    "p.scatter(marker='triangle',x=american[\"yr\"], y=american[\"mpg\"], size=10, alpha=0.3,\n",
    "           color=\"blue\", legend_label=\"American\")\n",
    "#\n",
    "p.legend.location = \"top_left\"\n",
    "show(p)                          # mostra o grafico"
   ]
  },
  {
   "cell_type": "markdown",
   "metadata": {},
   "source": [
    "### Bokeh - Aplicações"
   ]
  },
  {
   "cell_type": "code",
   "execution_count": null,
   "metadata": {},
   "outputs": [],
   "source": [
    "# bokeh - frame\n",
    "from IPython.display import IFrame\n",
    "IFrame('https://demo.bokeh.org/sliders', width=900, height=410)"
   ]
  },
  {
   "cell_type": "markdown",
   "metadata": {},
   "source": [
    "## Plotly\n",
    "> **Plotly** é uma biblioteca de gráficos Python que permite fazer gráficos interativos de alta qualidade. [Plotly](https://plotly.com/python/)\n",
    ">> **Instalação**:\n",
    ">> - Anaconda: ```conda install -c conda-forge plotly```\n",
    ">> - Anaconda: ```conda install -c conda-forge dash```\n",
    ">> - Anaconda: ```conda install -c conda-forge jupyter-dash```\n",
    ">>\n",
    ">> ou\n",
    ">> - pip: ```pip install plotly```         #  plotly==4.14.3\n",
    ">> - pip: ```pip install dash```           # dash \n",
    ">> - pip: ```pip install jupyter-dash```   # dash para Jupyter"
   ]
  },
  {
   "cell_type": "code",
   "execution_count": null,
   "metadata": {},
   "outputs": [],
   "source": [
    "# notebook\n",
    "import plotly.graph_objects as go\n",
    "#\n",
    "x = ['Colombia','Chile','Argentina','Peru','Bolivia','Brasil','Equador','Uruguay']\n",
    "#\n",
    "fig = go.Figure(\n",
    "    data = go.Bar(x=x,                                                # valores de X\n",
    "                  y=[2, 5, 8, 10, 5, 15, 3, 1]),                      # valores de y\n",
    "                  layout_title_text=\"Gráfico de Barras\",              # titulo\n",
    "\n",
    ")\n",
    "# adicionar rotulos\n",
    "fig.update_xaxes(tickangle=-45, title_text='Países sul-americanos')   # tickangle --> mudar angulo\n",
    "fig.update_yaxes(title_text='Valores y')\n",
    "fig.show()\n",
    "#fig.show(renderer=\"png\")\n",
    "#offline.iplot(fig, filename='imagens/bar.png')"
   ]
  },
  {
   "cell_type": "code",
   "execution_count": null,
   "metadata": {},
   "outputs": [],
   "source": [
    "# barras de cores\n",
    "import plotly.graph_objects as go\n",
    "#\n",
    "x=['Rio de Janeiro', 'Niterói', 'Seropédica', 'Araruama']\n",
    "#\n",
    "fig = go.Figure(go.Bar(x=x, y=[2 ,5 , 1, 9], name='Rio de Janeiro'))\n",
    "fig.add_trace(go.Bar(x=x, y=[1, 4, 9, 16], name='Araruama'))\n",
    "fig.add_trace(go.Bar(x=x, y=[6, 8, 4.5, 8], name='Cabo Frio'))\n",
    "#\n",
    "fig.update_layout(barmode='stack')\n",
    "fig.update_xaxes(categoryorder='category ascending')  # orednar os vaores do eixo x\n",
    "#fig.show(renderer=\"png\")\n",
    "fig.show()"
   ]
  },
  {
   "cell_type": "markdown",
   "metadata": {},
   "source": [
    "> ### Plotly - subplots"
   ]
  },
  {
   "cell_type": "code",
   "execution_count": null,
   "metadata": {},
   "outputs": [],
   "source": [
    "# exemplo de subplots\n",
    "from plotly.subplots import make_subplots\n",
    "#\n",
    "filas = ['a','b']                          # titiulo das filas\n",
    "coluna = ['caso 1','caso 2']               # titulo dos sunplots\n",
    "\n",
    "fig = make_subplots(rows=1, cols=2,                        # numero de filas e colunas = subplot\n",
    "                    x_title ='Subplots verticais', \n",
    "                    y_title='Valores', \n",
    "                    row_titles=[], \n",
    "                    column_titles=coluna)   # 1 fila e 2 colunas\n",
    "#\n",
    "fig.add_scatter(y=[6, 2, 3.5], mode=\"markers\",\n",
    "                marker=dict(size=20, color=\"Green\"),\n",
    "                name=\"a\", row=1, col=1)\n",
    "#\n",
    "fig.add_bar(y=[2, 1, 3],\n",
    "            marker=dict(color=\"MediumPurple\"),\n",
    "            name=\"b\", row=1, col=1)\n",
    "#\n",
    "fig.add_scatter(y=[2, 3.5, 4], mode=\"markers\",\n",
    "                marker=dict(size=20, color=\"MediumPurple\"),\n",
    "                name=\"c\", row=1, col=2)\n",
    "#\n",
    "fig.add_bar(y=[1.5, 3, 2],\n",
    "            marker=dict(color=\"Green\"),\n",
    "            name=\"d\", row=1, col=2)\n",
    "#\n",
    "#fig.show(renderer=\"png\")\n",
    "fig.show()"
   ]
  },
  {
   "cell_type": "markdown",
   "metadata": {},
   "source": [
    "> ### Plotly - População do Brasil --> gapminder()"
   ]
  },
  {
   "cell_type": "code",
   "execution_count": null,
   "metadata": {},
   "outputs": [],
   "source": [
    "# Exemplo de dados sobre crescimento populacional do Brasil\n",
    "import plotly.express as px\n",
    "#\n",
    "data = px.data.gapminder()   # datasets de varios items: https://www.gapminder.org/data/\n",
    "#\n",
    "data_brasil = data[data.country == 'Brazil']   # dado do Brasil\n",
    "#print(data_brasil)\n",
    "fig = px.bar(data_brasil, x='year', y='pop',\n",
    "             hover_data=['lifeExp', 'gdpPercap'], color='lifeExp',\n",
    "             labels={'pop':'Population of Brazil'}, height=400)\n",
    "#\n",
    "fig.update_layout(title=\"População do Brasil até 2007\")\n",
    "fig.show()"
   ]
  },
  {
   "cell_type": "markdown",
   "metadata": {},
   "source": [
    "> ### Plotly - Covid-19"
   ]
  },
  {
   "cell_type": "code",
   "execution_count": null,
   "metadata": {},
   "outputs": [],
   "source": [
    "# dataset = 20/02/2021\n",
    "import pandas as pd\n",
    "covid_data = pd.read_csv('data/WHO_COVID-19_global.csv',delimiter=',')\n",
    "covid_data.head()"
   ]
  },
  {
   "cell_type": "code",
   "execution_count": null,
   "metadata": {},
   "outputs": [],
   "source": [
    "# dataset = 18/03/2021\n",
    "covid_data_1803 = pd.read_csv('data/WHO-COVID-19-global_18_03_2021.csv',delimiter=',')\n",
    "covid_data_1803.head()"
   ]
  },
  {
   "cell_type": "code",
   "execution_count": null,
   "metadata": {},
   "outputs": [],
   "source": [
    "# restringir busca as americas\n",
    "sula_data = covid_data[covid_data['WHO Region']=='Americas']\n",
    "sula_data.head(10)"
   ]
  },
  {
   "cell_type": "code",
   "execution_count": null,
   "metadata": {},
   "outputs": [],
   "source": [
    "# restringir busca as americas\n",
    "sula_data_1803 = covid_data_1803[covid_data_1803['WHO_region']=='AMRO']\n",
    "sula_date_1803 = sula_data_1803[sula_data_1803['Date_reported']=='2021-03-17']\n",
    "sula_date_1803.head(10)"
   ]
  },
  {
   "cell_type": "code",
   "execution_count": null,
   "metadata": {},
   "outputs": [],
   "source": [
    "# ordenar por mortos em 24 horas: 20/02/2021\n",
    "tmp_data = sula_data.sort_values(by='Deaths - newly reported in last 24 hours',ascending=False)\n",
    "tmp_data.head(10)"
   ]
  },
  {
   "cell_type": "code",
   "execution_count": null,
   "metadata": {},
   "outputs": [],
   "source": [
    "# ordenar por mortos em 24 horas: 18/03/2021\n",
    "\n",
    "tmp_date_1803 = sula_date_1803.sort_values(by='Cumulative_deaths',ascending=False)\n",
    "tmp_date_1803.head(10)"
   ]
  },
  {
   "cell_type": "code",
   "execution_count": null,
   "metadata": {},
   "outputs": [],
   "source": [
    "# 10 paises x numero de mortos\n",
    "death10_data = tmp_data.head(10)\n",
    "death10_data.head()"
   ]
  },
  {
   "cell_type": "code",
   "execution_count": null,
   "metadata": {},
   "outputs": [],
   "source": [
    "# Exemplo de dados sobre covid-19 no Brasil\n",
    "import plotly.express as px\n",
    "#\n",
    "fig = px.bar(death10_data, \n",
    "             x=death10_data['Name'], \n",
    "             y=death10_data['Deaths - newly reported in last 24 hours'],\n",
    "             hover_data=['Deaths - newly reported in last 7 days', 'Deaths - cumulative total'], \n",
    "             color='Deaths - newly reported in last 7 days',\n",
    "             labels={'Name':'COVID-19 - Países da America'}, #height=400\n",
    "            )\n",
    "fig.update_layout(title_text='Covid-19 - Mortes reportadas nas últimas 24 horas - 20/02/2021',title_font_color='red')\n",
    "fig.update_xaxes(tickangle=-45) \n",
    "fig.show()"
   ]
  },
  {
   "cell_type": "code",
   "execution_count": null,
   "metadata": {},
   "outputs": [],
   "source": [
    "# 10 paises x numero de mortos ao 18-03\n",
    "death10_1803 = tmp_date_1803.head(10)\n",
    "death10_1803.head()"
   ]
  },
  {
   "cell_type": "code",
   "execution_count": null,
   "metadata": {},
   "outputs": [],
   "source": [
    "# Exemplo de dados sobre covid-19 no Brasil\n",
    "import plotly.express as px\n",
    "#\n",
    "fig = px.bar(death10_1803, \n",
    "             x=death10_1803['Country'], \n",
    "             y=death10_1803['Cumulative_deaths'],\n",
    "             hover_data=['New_deaths', 'Cumulative_deaths'], \n",
    "             color='Cumulative_deaths',\n",
    "             labels={'Name':'COVID-19 - Países da America'}, #height=400\n",
    "            )\n",
    "fig.update_layout(title_text='Mortos - Covid-19 na América ao 18/03/2021',title_font_color='red')\n",
    "fig.update_xaxes(tickangle=-45) \n",
    "fig.show()"
   ]
  },
  {
   "cell_type": "markdown",
   "metadata": {},
   "source": [
    ">### Plotly - externo (html)"
   ]
  },
  {
   "cell_type": "code",
   "execution_count": 17,
   "metadata": {},
   "outputs": [],
   "source": [
    "# exemplo de grafico simples externo\n",
    "import plotly.graph_objects as go\n",
    "fig = go.Figure(data=go.Bar(y=[2, 3,10,2,7, 1]))\n",
    "fig.write_html('grafico_externo.html', auto_open=True)    # pagina html externa\n",
    "#"
   ]
  },
  {
   "cell_type": "markdown",
   "metadata": {},
   "source": [
    "> ### Plotly - mapas interativos"
   ]
  },
  {
   "cell_type": "code",
   "execution_count": null,
   "metadata": {},
   "outputs": [],
   "source": [
    "# plot de regiao geografica em forma discreta\n",
    "import plotly.express as px\n",
    "#\n",
    "map_df = px.data.gapminder().query(\"year == 2007\")\n",
    "print(map_df.head())\n",
    "#\n",
    "# datasets de varios items: https://www.gapminder.org/data/\n",
    "#\n",
    "fig = px.scatter_geo(map_df,                             # dataset\n",
    "                     locations=\"iso_alpha\",\n",
    "                     color=\"continent\",              # which column to use to set the color of markers\n",
    "                     hover_name=\"country\",           # column added to hover information\n",
    "                     size=\"pop\",                     # size of markers\n",
    "                     projection=\"natural earth\")     # ptojection\n",
    "fig.show()"
   ]
  },
  {
   "cell_type": "markdown",
   "metadata": {},
   "source": [
    "> ### Plotly + Choropleth Mapas \n",
    "> - É um mapa de uma região com diferentes divisões coloridas para indicar o\n",
    "valor de um recurso específico nessa divisão."
   ]
  },
  {
   "cell_type": "code",
   "execution_count": null,
   "metadata": {},
   "outputs": [],
   "source": [
    "# dados de acesso a internet (dados ate 2017)\n",
    "internet_df = pd.read_csv('data/data_internet.txt')\n",
    "internet_df.head()"
   ]
  },
  {
   "cell_type": "code",
   "execution_count": null,
   "metadata": {},
   "outputs": [],
   "source": [
    "# Subconjuntos de dados especificos para uma data\n",
    "uso_2015 = internet_df.query('Year == 2015')   # ano = 2015\n",
    "uso_2015"
   ]
  },
  {
   "cell_type": "code",
   "execution_count": null,
   "metadata": {},
   "outputs": [],
   "source": [
    "# uso de cloropleth\n",
    "import plotly.express as px\n",
    "fig = px.choropleth(uso_2015,               # dataset-subdateset a usar\n",
    "                    locations = 'Code',      # coluna dos codigos ISO 3166 de cada país\n",
    "                    color = 'Individuals using the Internet (% of population)',   # cores\n",
    "                    hover_name = 'Country', # coluna dos nomes dos países\n",
    "                    color_continuous_scale = px.colors.sequential.Plasma   # cores definidos por plotly\n",
    "                   )\n",
    "fig.show()    # visualiza o grafico"
   ]
  },
  {
   "cell_type": "markdown",
   "metadata": {},
   "source": [
    "> ### América do Sul"
   ]
  },
  {
   "cell_type": "code",
   "execution_count": null,
   "metadata": {},
   "outputs": [],
   "source": [
    "# Subconjuntos de dados especificos para uma data\n",
    "la_int = internet_df[internet_df.Year == 2017]   # Brasil\n",
    "la_int.head()"
   ]
  },
  {
   "cell_type": "code",
   "execution_count": null,
   "metadata": {},
   "outputs": [],
   "source": [
    "# uso de cloropleth\n",
    "import plotly.express as px\n",
    "fig = px.choropleth(la_int,               # dataset-subdateset a usar\n",
    "                    locations = 'Code',      # coluna dos codigos ISO 3166 de cada país\n",
    "                    color = 'Individuals using the Internet (% of population)',   # cores\n",
    "                    hover_name = 'Country', # coluna dos nomes dos países\n",
    "                    color_continuous_scale = px.colors.sequential.Plasma   # cores definidos por plotly\n",
    "                   )\n",
    "# titile\n",
    "fig.update_layout(\n",
    "# add a title text for the plot\n",
    "    title_text = 'Internet usage across the world (% population) - América do Sul',\n",
    "    geo_scope = 'south america'                          # modificar\n",
    ")\n",
    "#\n",
    "fig.show()    # visualiza o grafico"
   ]
  },
  {
   "cell_type": "markdown",
   "metadata": {},
   "source": [
    "> ### Brasil"
   ]
  },
  {
   "cell_type": "code",
   "execution_count": null,
   "metadata": {},
   "outputs": [],
   "source": [
    "# Subconjuntos de dados especificos para uma data\n",
    "br_int = internet_df[internet_df.Country == 'Brazil']   # Brasil\n",
    "br_int.head()"
   ]
  },
  {
   "cell_type": "code",
   "execution_count": null,
   "metadata": {},
   "outputs": [],
   "source": [
    "# uso de cloropleth\n",
    "import plotly.express as px\n",
    "fig = px.choropleth(br_int,                 # dataset-subdateset a usar\n",
    "                    locations = 'Code',      # coluna dos codigos ISO 3166 de cada país\n",
    "                    #color = 'Individuals using the Internet (% of population)',   # cores\n",
    "                    color = 'Year',\n",
    "                    hover_name = 'Year', # coluna dos nomes dos países\n",
    "                    color_continuous_scale = px.colors.sequential.Plasma   # cores definidos por plotly\n",
    "                   )\n",
    "# titile\n",
    "fig.update_layout(\n",
    "# add a title text for the plot\n",
    "    title_text = 'Internet usage across the world (% population) - Brazil',\n",
    "    geo_scope = 'south america'                 # partir em regioes\n",
    ")\n",
    "#\n",
    "fig.show()    # visualiza o grafico"
   ]
  },
  {
   "cell_type": "markdown",
   "metadata": {},
   "source": [
    "> ### Cidades do Brasil"
   ]
  },
  {
   "cell_type": "code",
   "execution_count": null,
   "metadata": {},
   "outputs": [],
   "source": [
    "# dados do Brasil\n",
    "br_cities_df = pd.read_csv('data/br-cities.csv')\n",
    "br_cities_df.head(10)"
   ]
  },
  {
   "cell_type": "code",
   "execution_count": null,
   "metadata": {},
   "outputs": [],
   "source": [
    "# uso de cloropleth\n",
    "import plotly.express as px\n",
    "fig = px.choropleth(br_cities_df,                 # dataset-subdateset a usar\n",
    "                    locations = 'iso2',      # coluna dos codigos ISO 3166 de cada país\n",
    "                    #color = 'Individuals using the Internet (% of population)',   # cores\n",
    "                    color = 'city',\n",
    "                    hover_name = 'admin_name', # coluna dos nomes dos países\n",
    "                    color_continuous_scale = px.colors.sequential.Plasma   # cores definidos por plotly\n",
    "                   )\n",
    "# titile\n",
    "fig.update_layout(\n",
    "# add a title text for the plot\n",
    "    title_text = 'Cidades do Brasil',\n",
    "    geo_scope = 'south america'                 # partir em regioes\n",
    ")\n",
    "#\n",
    "fig.show()    # visualiza o grafico"
   ]
  },
  {
   "cell_type": "markdown",
   "metadata": {},
   "source": [
    "> ### Plotly + Density_mapbox"
   ]
  },
  {
   "cell_type": "code",
   "execution_count": null,
   "metadata": {},
   "outputs": [],
   "source": [
    "# mapa do brasil\n",
    "import plotly.express as px\n",
    "fig = px.density_mapbox(br_cities_df, \n",
    "                        lat='lat', \n",
    "                        lon='lon', \n",
    "                        #z='population', \n",
    "                        #radius=10,\n",
    "                        center=dict(lat=-15, lon=-60), \n",
    "                        zoom=3,\n",
    "                        #hover_name='city',\n",
    "                        hover_data=[\"city\", \"population\"],\n",
    "                        height=600,\n",
    "                        mapbox_style=\"stamen-terrain\"\n",
    "                       )\n",
    "#fig.update_layout(mapbox_style=\"open-street-map\")\n",
    "#fig.update_layout(margin={\"r\":0,\"t\":0,\"l\":0,\"b\":0})\n",
    "fig.update_layout(\n",
    "    title_text = 'Cidades do Brasil',\n",
    "    #geo_scope = 'south america'                 # partir em regioes\n",
    ")\n",
    "fig.show()"
   ]
  },
  {
   "cell_type": "markdown",
   "metadata": {},
   "source": [
    "> ### Folium Map\n",
    "> Instalar: ```conda install -c conda-forge folium```"
   ]
  },
  {
   "cell_type": "code",
   "execution_count": null,
   "metadata": {},
   "outputs": [],
   "source": [
    "import folium as fol\n",
    "#\n",
    "rio_map = fol.Map(location=(-22.9083, -43.1964))\n",
    "rio_map"
   ]
  },
  {
   "cell_type": "code",
   "execution_count": null,
   "metadata": {},
   "outputs": [],
   "source": [
    "# Exemplo Mapbox Bright\n",
    "#import folium as fol\n",
    "#\n",
    "rio0_map = fol.Map(location =[-22.9083, -43.1964],\n",
    "                    zoom_start = 10, \n",
    "                    #tiles ='Mapbox Bright'  # default\n",
    "                    )\n",
    "# display map\n",
    "rio0_map\n",
    "# save file\n",
    "#rio_map.save(\"rio0.html\")"
   ]
  },
  {
   "cell_type": "markdown",
   "metadata": {},
   "source": [
    "### Folium - Marker"
   ]
  },
  {
   "cell_type": "code",
   "execution_count": null,
   "metadata": {},
   "outputs": [],
   "source": [
    "# Marker\n",
    "#import folium as fol\n",
    "#\n",
    "# define o mapa\n",
    "#rio1_map = fol.Map() \n",
    "#\n",
    "rio1_map = fol.Map(location =(-22.9083, -43.1964),\n",
    "                    zoom_start = 9, \n",
    "                    #tiles=\"Stamen Terrain\"\n",
    "                    )\n",
    "# add marker\n",
    "tooltip = \"Aqui!\"   # label para todos os pontos\n",
    "#Nova iguaçu\n",
    "fol.Marker([-22.74,-43.47], \n",
    "           popup=\"<i>Nova Iguaçu</i>\", \n",
    "           #tooltip=tooltip,   # usa um label para tdos\n",
    "           tooltip='Nova Iguaçu',\n",
    "           icon=fol.Icon(color=\"green\"),\n",
    ").add_to(rio1_map)\n",
    "#Petropolis\n",
    "fol.Marker([-22.505,-43.1789], \n",
    "           popup=\"<b>Petrópolis</b>\", \n",
    "           tooltip='Petrópolis',\n",
    "           icon=fol.Icon(icon=\"cloud\"),\n",
    ").add_to(rio1_map)\n",
    "#Araruama\n",
    "fol.Marker([-22.8763, -42.3393], \n",
    "           popup=\"<b>Araruama</b>\", \n",
    "           tooltip='Araruama',\n",
    "           icon=fol.Icon(color=\"red\", icon=\"info-sign\"),\n",
    ").add_to(rio1_map)\n",
    "#\n",
    "# display map\n",
    "rio1_map\n",
    "# save file\n",
    "#rio_map.save(\"rio0.html\")"
   ]
  },
  {
   "cell_type": "markdown",
   "metadata": {},
   "source": [
    "> ### Folium + JSON"
   ]
  },
  {
   "cell_type": "code",
   "execution_count": 58,
   "metadata": {},
   "outputs": [],
   "source": [
    "# leitura do arquivo json\n",
    "import json\n",
    "#\n",
    "br_estados = 'data/br_states.json'        # arquivo json\n",
    "geo_json_data = json.load(open(br_estados))\n",
    "#geo_json_data"
   ]
  },
  {
   "cell_type": "code",
   "execution_count": null,
   "metadata": {},
   "outputs": [],
   "source": [
    "#import folium as fol\n",
    "#\n",
    "br_states_map = fol.Map(\n",
    "        width=800, \n",
    "        height=500,\n",
    "        location =(-15.77972, -47.92972),\n",
    "        zoom_start = 4, \n",
    "        #tiles=\"Stamen Terrain\"\n",
    "    )\n",
    "\n",
    "fol.GeoJson(geo_json_data).add_to(br_states_map)\n",
    "#\n",
    "br_states_map"
   ]
  },
  {
   "cell_type": "markdown",
   "metadata": {},
   "source": [
    "A função com os recursos de estilização em forma de lambda pode ser utilizada para preencher o mapa com cor, assim como alterar a cor e espessura das linhas, etc."
   ]
  },
  {
   "cell_type": "code",
   "execution_count": null,
   "metadata": {},
   "outputs": [],
   "source": [
    "map_brasil = fol.Map(width=800,height=500,\n",
    "            location=(-15.77972, -47.92972), \n",
    "            zoom_start=4\n",
    "            )\n",
    "#\n",
    "fol.GeoJson(geo_json_data,\n",
    "            style_function=lambda feature: {\n",
    "                            'fillColor': 'green',\n",
    "                            'color': 'red',\n",
    "                            'weight': 0.5,\n",
    "            }\n",
    ").add_to(map_brasil)\n",
    "#\n",
    "map_brasil"
   ]
  },
  {
   "cell_type": "markdown",
   "metadata": {},
   "source": [
    "### Folium + JSON + Data"
   ]
  },
  {
   "cell_type": "code",
   "execution_count": null,
   "metadata": {},
   "outputs": [],
   "source": [
    "#br_states_df = pd.read_csv('data/br_state_uf.csv',encoding='utf-8',delimiter=';')\n",
    "br_states_df = pd.read_csv('data/br_state_uf.csv',encoding=\"latin-1\",sep=';')\n",
    "br_states_df.head()"
   ]
  },
  {
   "cell_type": "code",
   "execution_count": null,
   "metadata": {},
   "outputs": [],
   "source": [
    "#import folium as fol\n",
    "#from branca.colormap import linear\n",
    "# barra de cores\n",
    "#colormap = linear.YlOrRd_09.scale(6,20)\n",
    "#colormap \n",
    "#\n",
    "br_states_map = fol.Map(\n",
    "    width=800, \n",
    "    height=500,\n",
    "    location =(-15.77972, -47.92972),\n",
    "    zoom_start = 4, \n",
    "    #tiles=\"Stamen Terrain\"     # cores do mapa\n",
    ")\n",
    "\n",
    "#fol.GeoJson(geo_json_data).add_to(br_states_map)\n",
    "# \n",
    "fol.Choropleth(\n",
    "    geo_data = geo_json_data,   # ados do arquivo json\n",
    "    name=\"População do Brasil\",\n",
    "    data=br_states_df,          # uso de dataset\n",
    "    columns=[\"uf\", \"population_2020\"],\n",
    "    key_on=\"feature.id\",\n",
    "    fill_color=\"YlOrRd\",\n",
    "    fill_opacity=0.7,\n",
    "    line_opacity=0.2,\n",
    "    legend_name=\"Polulação estimada até 2020\",\n",
    ").add_to(br_states_map)\n",
    "#\n",
    "fol.LayerControl().add_to(br_states_map)\n",
    "#\n",
    "br_states_map"
   ]
  },
  {
   "cell_type": "markdown",
   "metadata": {},
   "source": [
    ">### Geopandas\n",
    ">> **Instalação**: \n",
    ">>\n",
    ">> **Manual**:\n",
    ">> 1. descates: ```conda install -c conda-forge descartes```\n",
    ">> 2. shapely: ```conda install -c conda-forge shapely```\n",
    ">> 3. pyproj: ```conda install -c conda-forge pyproj```\n",
    ">> 4. fiona: ```conda install -c conda-forge fiona```\n",
    ">> 5. gdal: ```conda install -c conda-forge gdal```\n",
    ">> 6. geopandas: ```conda install -c conda-forge geopandas```\n",
    ">>\n",
    ">> **Anaconda**:```conda install geopandas``` ou ```conda install --channel conda-forge geopandas```\n",
    ">\n",
    "> Maiores informações: [Geopandas](https://geopandas.org/en/stable/getting_started/install.html)"
   ]
  },
  {
   "cell_type": "code",
   "execution_count": null,
   "metadata": {},
   "outputs": [],
   "source": [
    "# tabelas - estados - usando arquivos shp\n",
    "import geopandas as gpd   # geopandas\n",
    "#\n",
    "br_estados_df = gpd.read_file('data/shp/gadm36_BRA_1.shp')\n",
    "# plot\n",
    "br_estados_df.plot(cmap='YlOrRd');\n",
    "br_estados_df.head()"
   ]
  },
  {
   "cell_type": "code",
   "execution_count": null,
   "metadata": {},
   "outputs": [],
   "source": [
    "# criando novo dataframe\n",
    "estados_df = br_estados_df[['NAME_1','geometry']]\n",
    "estados_df.head()"
   ]
  },
  {
   "cell_type": "code",
   "execution_count": null,
   "metadata": {},
   "outputs": [],
   "source": [
    "# mudar o nome de coluna \n",
    "estados_df = estados_df.rename({'NAME_1': 'Uf'}, axis = 1)\n",
    "estados_df.head()"
   ]
  },
  {
   "cell_type": "code",
   "execution_count": null,
   "metadata": {},
   "outputs": [],
   "source": [
    "# dados do Brasil\n",
    "br_estados_df = pd.read_csv('data/brasil_estados.csv',delimiter=';')\n",
    "br_estados_df.head()"
   ]
  },
  {
   "cell_type": "code",
   "execution_count": null,
   "metadata": {},
   "outputs": [],
   "source": [
    "pop_est_df = br_estados_df[['Uf','Capital','População']]\n",
    "pop_est_df.head()"
   ]
  },
  {
   "cell_type": "code",
   "execution_count": null,
   "metadata": {},
   "outputs": [],
   "source": [
    "# merge (df1,df2)\n",
    "uf_geo_pop = estados_df.merge(pop_est_df, on='Uf',how='left')\n",
    "uf_geo_pop.head()"
   ]
  },
  {
   "cell_type": "code",
   "execution_count": null,
   "metadata": {},
   "outputs": [],
   "source": [
    "# dados do Brasil\n",
    "br_df = pd.read_csv('data/brasil.csv',delimiter=',')\n",
    "print(len(br_df))\n",
    "br_df.head()"
   ]
  },
  {
   "cell_type": "code",
   "execution_count": null,
   "metadata": {},
   "outputs": [],
   "source": [
    "uf_geo_pop.head()"
   ]
  },
  {
   "cell_type": "code",
   "execution_count": null,
   "metadata": {},
   "outputs": [],
   "source": [
    "%matplotlib inline\n",
    "#\n",
    "uf_geo_pop.plot(column='População',\n",
    "                cmap = 'Reds',\n",
    "                figsize = (16,10),\n",
    "                legend = True,\n",
    "                edgecolor = 'black'\n",
    "               );"
   ]
  },
  {
   "cell_type": "markdown",
   "metadata": {},
   "source": [
    "Leitura de arquivos JSON"
   ]
  },
  {
   "cell_type": "code",
   "execution_count": null,
   "metadata": {},
   "outputs": [],
   "source": [
    "import json\n",
    "from urllib.request import urlopen\n",
    "\n",
    "with urlopen('https://raw.githubusercontent.com/codeforamerica/click_that_hood/master/public/data/brazil-states.geojson') as response:\n",
    "    BR = json.load(response) # Javascrip object notation \n",
    "#\n",
    "BR"
   ]
  },
  {
   "cell_type": "code",
   "execution_count": 88,
   "metadata": {},
   "outputs": [],
   "source": [
    "state_id_map = {}\n",
    "for feature in BR ['features']:\n",
    "    feature['id'] = feature['properties']['name']\n",
    "    state_id_map[feature['properties']['sigla']] = feature['id']"
   ]
  },
  {
   "cell_type": "code",
   "execution_count": null,
   "metadata": {},
   "outputs": [],
   "source": [
    "# produção de soja - SIDRA-IBGE\n",
    "import pandas as pd\n",
    "soybean = pd.read_csv('https://raw.githubusercontent.com/nayanemaia/Dataset_Soja/main/soja%20sidra.csv')\n",
    "soybean.head()"
   ]
  },
  {
   "cell_type": "code",
   "execution_count": null,
   "metadata": {},
   "outputs": [],
   "source": [
    "import plotly.express as px\n",
    "#\n",
    "fig = px.choropleth(\n",
    "     soybean, #soybean database\n",
    "     locations = 'Estado', #define the limits on the map/geography\n",
    "     geojson = BR, #shape information\n",
    "     color = \"Produção\", #defining the color of the scale through the database\n",
    "     hover_name = 'Estado', #the information in the box\n",
    "     hover_data =[\"Produção\",\"Longitude\",\"Latitude\"],\n",
    "     title = \"Produtivida da soja (Toneladas)\", #title of the map\n",
    "     animation_frame = 'ano' #creating the application based on the year\n",
    ")\n",
    "fig.update_geos(fitbounds = \"locations\", visible = False)\n",
    "fig.show()"
   ]
  },
  {
   "cell_type": "code",
   "execution_count": null,
   "metadata": {},
   "outputs": [],
   "source": [
    "uf_geo_pop.head()"
   ]
  },
  {
   "cell_type": "code",
   "execution_count": null,
   "metadata": {},
   "outputs": [],
   "source": [
    "#import plotly.express as px\n",
    "#\n",
    "fig = px.choropleth(\n",
    "     uf_geo_pop,\n",
    "     locations = 'Uf', #define the limits on the map/geography\n",
    "     geojson = BR, #shape information\n",
    "     color = \"População\", #defining the color of the scale through the database\n",
    "     hover_name = 'Capital', #the information in the box\n",
    "     hover_data =[\"População\"],\n",
    "     title = \"População x Estado\", #title of the map\n",
    "     #animation_frame = 'População' #creating the application based on the year\n",
    ")\n",
    "fig.update_geos(fitbounds = \"locations\", visible = False)\n",
    "fig.show()"
   ]
  },
  {
   "cell_type": "markdown",
   "metadata": {},
   "source": [
    "> ### Plotly + Geopandas"
   ]
  },
  {
   "cell_type": "code",
   "execution_count": null,
   "metadata": {},
   "outputs": [],
   "source": [
    "# exemplo plotly + geopandas geopandas\n",
    "import plotly.express as px\n",
    "import geopandas as gpd\n",
    "\n",
    "#geo_df = gpd.read_file(gpd.datasets.get_path('naturalearth_cities'))\n",
    "geo_df = gpd.read_file(gpd.datasets.get_path('naturalearth_cities'))\n",
    "print(geo_df)                                                          # visualizar valores\n",
    "#print('lat:',geo_df.geometry.y)                                        # visualiza latitude\n",
    "#print('lon:',geo_df.geometry.x)                                        # visualiza longitude\n",
    "#px.set_mapbox_access_token(open(\".mapbox_token\").read())\n",
    "fig = px.scatter_geo(geo_df, lat=geo_df.geometry.y, lon=geo_df.geometry.x, hover_name=\"name\")\n",
    "fig.show()"
   ]
  },
  {
   "cell_type": "code",
   "execution_count": 94,
   "metadata": {},
   "outputs": [],
   "source": [
    "# Exemplo de Brasilia\n",
    "Brasilia = geo_df[geo_df['name']=='Brasilia']\n",
    "#Brasilia"
   ]
  },
  {
   "cell_type": "code",
   "execution_count": null,
   "metadata": {},
   "outputs": [],
   "source": [
    "br = px.scatter_geo(Brasilia, lat=Brasilia.geometry.y, lon=Brasilia.geometry.x, hover_name=\"name\")\n",
    "br.show()"
   ]
  },
  {
   "cell_type": "code",
   "execution_count": null,
   "metadata": {},
   "outputs": [],
   "source": [
    "# leitura dos dados do dataset total\n",
    "world_df = gpd.read_file(gpd.datasets.get_path('naturalearth_lowres'))\n",
    "world_df"
   ]
  },
  {
   "cell_type": "markdown",
   "metadata": {},
   "source": [
    "> ### GeoDataFrame"
   ]
  },
  {
   "cell_type": "code",
   "execution_count": null,
   "metadata": {},
   "outputs": [],
   "source": [
    "# construindo um geoDataFrame\n",
    "w_df = gpd.GeoDataFrame(world_df)\n",
    "w_df.head()"
   ]
  },
  {
   "cell_type": "code",
   "execution_count": null,
   "metadata": {},
   "outputs": [],
   "source": [
    "# sul america\n",
    "sa_df = w_df[w_df.continent == 'South America']\n",
    "sa_df.head()"
   ]
  },
  {
   "cell_type": "code",
   "execution_count": null,
   "metadata": {},
   "outputs": [],
   "source": [
    "# sul amrerica\n",
    "fig, ax = plt.subplots(1, 1)\n",
    "ax.legend('Sul America')\n",
    "sa_df.plot(column='pop_est', ax=ax, legend=True);"
   ]
  },
  {
   "cell_type": "code",
   "execution_count": null,
   "metadata": {},
   "outputs": [],
   "source": [
    "#  geometria multipoligonos\n",
    "paises = sa_df[['name','geometry']]\n",
    "paises.head()"
   ]
  },
  {
   "cell_type": "code",
   "execution_count": null,
   "metadata": {},
   "outputs": [],
   "source": [
    "# transformar multipoligono em pontos\n",
    "pontos = paises.copy()\n",
    "pontos.head()\n",
    "# muda a geomtria (usar: to_crs(\"EPSG:3395\"))\n",
    "pontos = pontos.to_crs(\"EPSG:3395\")\n",
    "pontos.geometry = pontos['geometry'].centroid\n",
    "pontos.head()"
   ]
  },
  {
   "cell_type": "code",
   "execution_count": null,
   "metadata": {},
   "outputs": [],
   "source": [
    "# Paises sulamericanos\n",
    "f, sx = plt.subplots(1, figsize=(5,8))\n",
    "#sx.set_axis_on()\n",
    "#f.suptitle('Sulamerica')\n",
    "# Plot area\n",
    "ax = sa_df.plot(ax=sx, facecolor='blue', alpha=1, linewidth=0, cmap='YlOrRd')\n",
    "#\n",
    "#sa = px.scatter_geo(sa_df, lat=pontos.geometry.y, lon=pontos.geometry.x, color=\"name\")\n",
    "#sa.show()"
   ]
  },
  {
   "cell_type": "code",
   "execution_count": null,
   "metadata": {},
   "outputs": [],
   "source": [
    "#sa = px.scatter_geo(sa_df, lat=sa_df.geometry.y, lon=sa_df.geometry.x, hover_name=\"name\")\n",
    "#sa.show()"
   ]
  },
  {
   "cell_type": "markdown",
   "metadata": {},
   "source": [
    "> ### Brasil"
   ]
  },
  {
   "cell_type": "code",
   "execution_count": null,
   "metadata": {},
   "outputs": [],
   "source": [
    "# procurando dados do Brasil\n",
    "br_df = world_df[(world_df.continent =='South America') & (world_df.name =='Brazil')]\n",
    "br_df"
   ]
  },
  {
   "cell_type": "code",
   "execution_count": null,
   "metadata": {},
   "outputs": [],
   "source": [
    "# Brazil\n",
    "#\n",
    "fig, ax = plt.subplots(1, 1)\n",
    "ax.legend('Brazil')\n",
    "br_df.plot(column='pop_est', ax=ax, legend=True);"
   ]
  },
  {
   "cell_type": "markdown",
   "metadata": {},
   "source": [
    "### Pandemia - COVID-19"
   ]
  },
  {
   "cell_type": "code",
   "execution_count": null,
   "metadata": {},
   "outputs": [],
   "source": [
    "# dataset covid-19 do 18-02-2021\n",
    "cidades =  pd.read_csv('data/covid-19_casos_full.csv',delimiter=',')\n",
    "cidades.head()"
   ]
  },
  {
   "cell_type": "code",
   "execution_count": null,
   "metadata": {},
   "outputs": [],
   "source": [
    "# 5 ultimos registros\n",
    "cidades.tail()"
   ]
  },
  {
   "cell_type": "code",
   "execution_count": null,
   "metadata": {},
   "outputs": [],
   "source": [
    "# Estado do Rio\n",
    "estado_rj = cidades[cidades['state'] == 'RJ']\n",
    "print(estado_rj.head(10))\n",
    "#print(estado_rj.tail())"
   ]
  },
  {
   "cell_type": "code",
   "execution_count": null,
   "metadata": {},
   "outputs": [],
   "source": [
    "# Estado do Rio de Janeiro\n",
    "estado_rj.tail(10)"
   ]
  },
  {
   "cell_type": "code",
   "execution_count": null,
   "metadata": {},
   "outputs": [],
   "source": [
    "# a que periodo se refere os dados?\n",
    "import datetime\n",
    "#\n",
    "print('Dados do estado de Rio de Janeiro:')\n",
    "print('> Data atual:',datetime.datetime.now())\n",
    "today = datetime.datetime.now().strftime('%d/%m/%Y')\n",
    "# datas dos dados\n",
    "print('> Data inicial:',min(estado_rj['date']))\n",
    "print('> Data final:',max(estado_rj['date']))"
   ]
  },
  {
   "cell_type": "markdown",
   "metadata": {},
   "source": [
    "> **Pergunta**: Qual a incidência diária de casos confirmados e mortes no período?"
   ]
  },
  {
   "cell_type": "code",
   "execution_count": null,
   "metadata": {},
   "outputs": [],
   "source": [
    "# Síntese diária\n",
    "agrupados = estado_rj.groupby(['date'])[['new_confirmed','new_deaths']].agg('sum')\n",
    "agrupados.head()"
   ]
  },
  {
   "cell_type": "code",
   "execution_count": 99,
   "metadata": {},
   "outputs": [],
   "source": [
    "# grafico\n",
    "import plotly.graph_objects as go\n",
    "from plotly.subplots import make_subplots\n",
    "from plotly.graph_objs import *\n",
    "#\n",
    "layout = Layout(\n",
    "    paper_bgcolor='rgba(0,0,0,0)',\n",
    "    plot_bgcolor='rgba(0,0,0,0)',\n",
    "    title=\"Visualização Conjunta de Casos Confirmados e Óbitos até \")"
   ]
  },
  {
   "cell_type": "code",
   "execution_count": null,
   "metadata": {},
   "outputs": [],
   "source": [
    "fig = go.Figure(data=[\n",
    "    go.Bar(name='Confirmados', x=agrupados.index, y=agrupados['new_confirmed']),\n",
    "    go.Bar(name='Óbitos', x=agrupados.index, y=agrupados['new_deaths'])])\n",
    "#\n",
    "fig.update_xaxes(title_text='Data')\n",
    "fig.update_yaxes(title_text='Quantidade')\n",
    "fig.update_layout(barmode='stack')\n",
    "fig['layout'].update(layout)\n",
    "#\n",
    "fig.show()"
   ]
  },
  {
   "cell_type": "code",
   "execution_count": null,
   "metadata": {},
   "outputs": [],
   "source": [
    "# leitura do arquivo json\n",
    "import json\n",
    "#\n",
    "rj_mun = 'data/geojs-33-mun.json'        # arquivo json municipios de RJ\n",
    "mun_rj_json_data = json.load(open(rj_mun))\n",
    "#mun_rj_json_data\n",
    "muni = mun_rj_json_data['features'][0]\n",
    "m = muni['properties']\n",
    "print(m['name'])"
   ]
  },
  {
   "cell_type": "code",
   "execution_count": null,
   "metadata": {},
   "outputs": [],
   "source": [
    "import folium as fol\n",
    "#from branca.colormap import linear\n",
    "# barra de cores\n",
    "#colormap = linear.YlOrRd_09.scale(6,20)\n",
    "#colormap \n",
    "#\n",
    "br_states_map = fol.Map(\n",
    "    width=800, \n",
    "    height=600,\n",
    "    location =[-22.9083, -43.1964],\n",
    "    zoom_start = 7, \n",
    "    tiles=\"Stamen Terrain\"     # cores do mapa\n",
    ")\n",
    "\n",
    "#fol.GeoJson(geo_json_data).add_to(br_states_map)\n",
    "# \n",
    "fol.Choropleth(\n",
    "    geo_data = mun_rj_json_data,   # ados do arquivo json\n",
    "    name = \"Covid19\",\n",
    "    #data = estado_rj,  # uso de dataset\n",
    "    data = agrupados,\n",
    "    columns=[\"new_confirmed\", \"new_deaths\"],\n",
    "    key_on=\"feature.properties.name\",\n",
    "    #key_on=\"feature.name\",\n",
    "    fill_color=\"YlOrRd\",\n",
    "    fill_opacity=0.7,\n",
    "    line_opacity=0.2,\n",
    "    legend_name=\"Casos confirmados\",\n",
    ").add_to(br_states_map)\n",
    "#\n",
    "fol.LayerControl().add_to(br_states_map)\n",
    "#\n",
    "br_states_map"
   ]
  },
  {
   "cell_type": "markdown",
   "metadata": {},
   "source": [
    "## Geoplotlib"
   ]
  },
  {
   "cell_type": "markdown",
   "metadata": {},
   "source": [
    "> ## Instalação:\n",
    "> **Anaconda**:\n",
    ">> pyglet: ```conda install -c conda-forge pyglet```\n",
    ">>\n",
    ">> geoplotlib: ```conda install -c conda-forge geoplotlib```\n",
    ">>\n",
    "> **pip**:\n",
    ">> pyglet: ```pip install Pyglet```\n",
    ">>\n",
    ">> geoplotlib: ```pip install geoplotlib```\n",
    ">\n",
    ">- Busca dados de *Latitude* e *Longitude* - https://www.latlong.net/\n",
    ">- Buscar dataset com dados geoespaciais: - https://simplemaps.com/data/world-cities"
   ]
  },
  {
   "cell_type": "code",
   "execution_count": null,
   "metadata": {},
   "outputs": [],
   "source": [
    "# Exemplo\n",
    "import geoplotlib as geo\n",
    "#\n",
    "br_cities = pd.read_csv('data/br-cities.csv',delimiter=',')\n",
    "br_cities.head()"
   ]
  },
  {
   "cell_type": "code",
   "execution_count": null,
   "metadata": {},
   "outputs": [],
   "source": [
    "geo.dot(br_cities,point_size=3)\n",
    "geo.show()"
   ]
  },
  {
   "cell_type": "code",
   "execution_count": null,
   "metadata": {},
   "outputs": [],
   "source": [
    "rio = br_cities[br_cities['admin_name']=='Rio de Janeiro']\n",
    "rio.head(10)"
   ]
  },
  {
   "cell_type": "code",
   "execution_count": null,
   "metadata": {},
   "outputs": [],
   "source": [
    "geo.dot(rio,point_size=5)\n",
    "geo.show()"
   ]
  },
  {
   "cell_type": "markdown",
   "metadata": {},
   "source": [
    "---\n",
    "#### Fudamentos para Ciência Dados &copy; Copyright 2021, 2022, 2024 - Sergio Serra & Jorge Zavaleta"
   ]
  }
 ],
 "metadata": {
  "kernelspec": {
   "display_name": "Python 3 (ipykernel)",
   "language": "python",
   "name": "python3"
  },
  "language_info": {
   "codemirror_mode": {
    "name": "ipython",
    "version": 3
   },
   "file_extension": ".py",
   "mimetype": "text/x-python",
   "name": "python",
   "nbconvert_exporter": "python",
   "pygments_lexer": "ipython3",
   "version": "3.10.14"
  }
 },
 "nbformat": 4,
 "nbformat_minor": 4
}
